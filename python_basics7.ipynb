{
  "nbformat": 4,
  "nbformat_minor": 0,
  "metadata": {
    "colab": {
      "provenance": []
    },
    "kernelspec": {
      "name": "python3",
      "display_name": "Python 3"
    },
    "language_info": {
      "name": "python"
    }
  },
  "cells": [
    {
      "cell_type": "markdown",
      "source": [
        "## Decoraters: used to get some functionalities of some other function into your current function\n",
        "\n",
        "### used to remove repeatdness of anything in any function going foreward."
      ],
      "metadata": {
        "id": "-5YTohO0MKL_"
      }
    },
    {
      "cell_type": "code",
      "execution_count": null,
      "metadata": {
        "id": "0TAgYZyKHlek"
      },
      "outputs": [],
      "source": [
        "def test():\n",
        "  print(\"start\")\n",
        "  print(4  + 5)\n",
        "  print(\"end\")\n"
      ]
    },
    {
      "cell_type": "code",
      "source": [
        "test()"
      ],
      "metadata": {
        "colab": {
          "base_uri": "https://localhost:8080/"
        },
        "id": "ha17IcH1MTGf",
        "outputId": "35716954-2842-4576-ef8f-0621ae62e78c"
      },
      "execution_count": null,
      "outputs": [
        {
          "output_type": "stream",
          "name": "stdout",
          "text": [
            "start\n",
            "9\n",
            "end\n"
          ]
        }
      ]
    },
    {
      "cell_type": "code",
      "source": [
        "def deco(func):\n",
        "  def inner_deco():\n",
        "    print(\"start\")\n",
        "    func()\n",
        "    print(\"end\")\n",
        "\n",
        "  return inner_deco\n"
      ],
      "metadata": {
        "id": "P4Qijba-McFy"
      },
      "execution_count": null,
      "outputs": []
    },
    {
      "cell_type": "code",
      "source": [
        "@deco\n",
        "def test1():\n",
        "  print(4*5)"
      ],
      "metadata": {
        "id": "b4p4E6LzMuC-"
      },
      "execution_count": null,
      "outputs": []
    },
    {
      "cell_type": "code",
      "source": [
        "test1()"
      ],
      "metadata": {
        "colab": {
          "base_uri": "https://localhost:8080/"
        },
        "id": "VC1YaV7PMz6V",
        "outputId": "62d1f8e7-5136-4419-b84b-1fc59c665bae"
      },
      "execution_count": null,
      "outputs": [
        {
          "output_type": "stream",
          "name": "stdout",
          "text": [
            "start\n",
            "20\n",
            "end\n"
          ]
        }
      ]
    },
    {
      "cell_type": "code",
      "source": [
        "import time\n",
        "def plus():\n",
        "  start= time.time()\n",
        "  print(4+20)\n",
        "  end= time.time()\n",
        "  return end-start\n",
        "\n"
      ],
      "metadata": {
        "id": "urgrLV2WM2fb"
      },
      "execution_count": null,
      "outputs": []
    },
    {
      "cell_type": "code",
      "source": [
        "plus()"
      ],
      "metadata": {
        "colab": {
          "base_uri": "https://localhost:8080/"
        },
        "id": "WUB_vVwWM6U5",
        "outputId": "ba7359de-7b40-4645-8194-e9324324a040"
      },
      "execution_count": null,
      "outputs": [
        {
          "output_type": "stream",
          "name": "stdout",
          "text": [
            "24\n"
          ]
        },
        {
          "output_type": "execute_result",
          "data": {
            "text/plain": [
              "0.00084686279296875"
            ]
          },
          "metadata": {},
          "execution_count": 20
        }
      ]
    },
    {
      "cell_type": "code",
      "source": [
        "import time\n",
        "def timer_test(func):\n",
        "  def timer_test_inner():\n",
        "    start =time.time()\n",
        "    func()\n",
        "    end= time.time()\n",
        "    print(end-start)\n",
        "\n",
        "  return timer_test_inner\n"
      ],
      "metadata": {
        "id": "H2sNI5WAOldv"
      },
      "execution_count": null,
      "outputs": []
    },
    {
      "cell_type": "code",
      "source": [
        "@timer_test\n",
        "def pluss():\n",
        "  print(4+20)"
      ],
      "metadata": {
        "id": "NvWGK7cmPPov"
      },
      "execution_count": null,
      "outputs": []
    },
    {
      "cell_type": "code",
      "source": [
        "pluss()"
      ],
      "metadata": {
        "colab": {
          "base_uri": "https://localhost:8080/"
        },
        "id": "EWfReETyPV3_",
        "outputId": "759a1cc3-60b1-41e4-afaf-4058f7d1bcbb"
      },
      "execution_count": null,
      "outputs": [
        {
          "output_type": "stream",
          "name": "stdout",
          "text": [
            "24\n",
            "6.222724914550781e-05\n"
          ]
        }
      ]
    },
    {
      "cell_type": "code",
      "source": [
        "@timer_test\n",
        "def test3():\n",
        "  for i in range(10000000):\n",
        "    pass"
      ],
      "metadata": {
        "id": "0cHktTzfPdel"
      },
      "execution_count": null,
      "outputs": []
    },
    {
      "cell_type": "code",
      "source": [
        "test3()"
      ],
      "metadata": {
        "colab": {
          "base_uri": "https://localhost:8080/"
        },
        "id": "KimLiE0xQFo8",
        "outputId": "4e8b761c-6a85-4f13-b890-3dd7e81c13a6"
      },
      "execution_count": null,
      "outputs": [
        {
          "output_type": "stream",
          "name": "stdout",
          "text": [
            "0.2759530544281006\n"
          ]
        }
      ]
    },
    {
      "cell_type": "markdown",
      "source": [
        "### Classmethod:\n",
        "### helps you out to overload init method at any point of time, though method overloading is not supported in python."
      ],
      "metadata": {
        "id": "gy4mvGW4rSaG"
      }
    },
    {
      "cell_type": "code",
      "source": [
        "class pwskills():\n",
        "  \n",
        "  def __init__(self, name , email):\n",
        "    self.name = name\n",
        "    self.email = email\n",
        "\n",
        "\n",
        "  def student_details(self):\n",
        "    print(self.name , self.email)\n",
        "\n",
        "    "
      ],
      "metadata": {
        "id": "axRM_sn1QGiY"
      },
      "execution_count": null,
      "outputs": []
    },
    {
      "cell_type": "code",
      "source": [
        "pw1 = pwskills(\"rohan\",\"rohan@gmail.com\")"
      ],
      "metadata": {
        "id": "0ABlKZXjrvmH"
      },
      "execution_count": null,
      "outputs": []
    },
    {
      "cell_type": "code",
      "source": [
        "pw1.name"
      ],
      "metadata": {
        "colab": {
          "base_uri": "https://localhost:8080/",
          "height": 36
        },
        "id": "jNmOLJy8sB1M",
        "outputId": "5d94c19c-f61c-4caf-b070-49f049399862"
      },
      "execution_count": null,
      "outputs": [
        {
          "output_type": "execute_result",
          "data": {
            "text/plain": [
              "'rohan'"
            ],
            "application/vnd.google.colaboratory.intrinsic+json": {
              "type": "string"
            }
          },
          "metadata": {},
          "execution_count": 3
        }
      ]
    },
    {
      "cell_type": "code",
      "source": [
        "pw1.email"
      ],
      "metadata": {
        "colab": {
          "base_uri": "https://localhost:8080/",
          "height": 36
        },
        "id": "quJ0jETYsEH8",
        "outputId": "6a88ed13-0111-436f-b51b-74dad01a6408"
      },
      "execution_count": null,
      "outputs": [
        {
          "output_type": "execute_result",
          "data": {
            "text/plain": [
              "'rohan@gmail.com'"
            ],
            "application/vnd.google.colaboratory.intrinsic+json": {
              "type": "string"
            }
          },
          "metadata": {},
          "execution_count": 4
        }
      ]
    },
    {
      "cell_type": "code",
      "source": [
        "class pwskills1():\n",
        "  \n",
        "  def __init__(self, name , email):\n",
        "    self.name = name\n",
        "    self.email = email\n",
        "\n",
        "  @classmethod\n",
        "  def details(cls, name , email):\n",
        "    return cls(name, email)\n",
        "\n",
        "  def student_details(self):\n",
        "    print(self.name , self.email)\n"
      ],
      "metadata": {
        "id": "6o0No-GhsFfq"
      },
      "execution_count": null,
      "outputs": []
    },
    {
      "cell_type": "code",
      "source": [
        "pwskills1.details(\"soham\",\"soham@gmail.com\")"
      ],
      "metadata": {
        "colab": {
          "base_uri": "https://localhost:8080/"
        },
        "id": "bn9buiAfsV1L",
        "outputId": "83b46e88-6be7-4dcb-8faf-99f887f1a1f1"
      },
      "execution_count": null,
      "outputs": [
        {
          "output_type": "execute_result",
          "data": {
            "text/plain": [
              "<__main__.pwskills1 at 0x7f91282b96d0>"
            ]
          },
          "metadata": {},
          "execution_count": 8
        }
      ]
    },
    {
      "cell_type": "code",
      "source": [
        "pw2 = pwskills1.details(\"soham\",\"soham@gmail.com\")\n"
      ],
      "metadata": {
        "id": "Jrs7vNIMsfyX"
      },
      "execution_count": null,
      "outputs": []
    },
    {
      "cell_type": "code",
      "source": [
        "pw2.student_details()"
      ],
      "metadata": {
        "colab": {
          "base_uri": "https://localhost:8080/"
        },
        "id": "Logjc-NRtcrj",
        "outputId": "0a88a3b7-01ef-4d9f-c084-64c09aeb596f"
      },
      "execution_count": null,
      "outputs": [
        {
          "output_type": "stream",
          "name": "stdout",
          "text": [
            "soham soham@gmail.com\n"
          ]
        }
      ]
    },
    {
      "cell_type": "code",
      "source": [
        "class pwskills2():\n",
        "  \n",
        "  def __init__(self, name , email):\n",
        "    self.name = name\n",
        "    self.email = email\n",
        "\n",
        "  @classmethod\n",
        "  def details(cls, name1 , email1):\n",
        "    return cls(name1, email1)\n",
        "\n",
        "  def student_details(self):\n",
        "    print(self.name , self.email)\n"
      ],
      "metadata": {
        "id": "OvqW7zdVsvRc"
      },
      "execution_count": null,
      "outputs": []
    },
    {
      "cell_type": "code",
      "source": [
        "pw3 = pwskills1.details(\"ram\",\"ram@gmail.com\")\n"
      ],
      "metadata": {
        "id": "Cm9OPMQftLBB"
      },
      "execution_count": null,
      "outputs": []
    },
    {
      "cell_type": "code",
      "source": [
        "pw3.name"
      ],
      "metadata": {
        "colab": {
          "base_uri": "https://localhost:8080/",
          "height": 36
        },
        "id": "s8NFJBkMtU4a",
        "outputId": "0f743ae5-557b-42f2-e1f2-794f597585b4"
      },
      "execution_count": null,
      "outputs": [
        {
          "output_type": "execute_result",
          "data": {
            "text/plain": [
              "'ram'"
            ],
            "application/vnd.google.colaboratory.intrinsic+json": {
              "type": "string"
            }
          },
          "metadata": {},
          "execution_count": 12
        }
      ]
    },
    {
      "cell_type": "code",
      "source": [
        "pw3.student_details()"
      ],
      "metadata": {
        "colab": {
          "base_uri": "https://localhost:8080/"
        },
        "id": "qZRZFBETtWVg",
        "outputId": "36e34dae-5385-407e-a5e1-e22d497c7998"
      },
      "execution_count": null,
      "outputs": [
        {
          "output_type": "stream",
          "name": "stdout",
          "text": [
            "ram ram@gmail.com\n"
          ]
        }
      ]
    },
    {
      "cell_type": "code",
      "source": [
        "# so , wtth the help of classmethod im able to access instance method and also able to pass my data into __init__"
      ],
      "metadata": {
        "id": "q5kV5JSstZmw"
      },
      "execution_count": null,
      "outputs": []
    },
    {
      "cell_type": "code",
      "source": [
        "class pwskills3():\n",
        "\n",
        "  mobile_number = 5648754548646   # class variable\n",
        "  \n",
        "  def __init__(self, name , email):\n",
        "\n",
        "    self.name = name\n",
        "    self.email = email\n",
        "\n",
        "\n",
        "  @classmethod\n",
        "  def details(cls, name1 , email1):\n",
        "    return cls(name1, email1)\n",
        "\n",
        "  def student_details(self):\n",
        "    print(self.name , self.email , pwskills3.mobile_number)\n"
      ],
      "metadata": {
        "id": "zQSQNNOzxJts"
      },
      "execution_count": null,
      "outputs": []
    },
    {
      "cell_type": "code",
      "source": [
        "pwskills3.mobile_number"
      ],
      "metadata": {
        "colab": {
          "base_uri": "https://localhost:8080/"
        },
        "id": "V32KcHCrxnJv",
        "outputId": "e21e7437-c75b-4816-a6f4-ba4c249529fc"
      },
      "execution_count": null,
      "outputs": [
        {
          "output_type": "execute_result",
          "data": {
            "text/plain": [
              "5648754548646"
            ]
          },
          "metadata": {},
          "execution_count": 96
        }
      ]
    },
    {
      "cell_type": "code",
      "source": [
        "pw2= pwskills3.details(\"harsh\",\"harsh@gmail.com\")"
      ],
      "metadata": {
        "id": "TKFSRxDDzNTF"
      },
      "execution_count": null,
      "outputs": []
    },
    {
      "cell_type": "code",
      "source": [
        "pw2.student_details()"
      ],
      "metadata": {
        "colab": {
          "base_uri": "https://localhost:8080/"
        },
        "id": "WKbokJyoBl7L",
        "outputId": "d36a9848-3040-4266-8493-e2311d66c642"
      },
      "execution_count": null,
      "outputs": [
        {
          "output_type": "stream",
          "name": "stdout",
          "text": [
            "harsh harsh@gmail.com 5648754548646\n"
          ]
        }
      ]
    },
    {
      "cell_type": "code",
      "source": [
        "pw2_obj =pwskills3(\"rahul\",\"rahul@gmail.com\")"
      ],
      "metadata": {
        "id": "2TJ9BBnUBpIC"
      },
      "execution_count": null,
      "outputs": []
    },
    {
      "cell_type": "code",
      "source": [
        "pw2_obj.student_details()"
      ],
      "metadata": {
        "colab": {
          "base_uri": "https://localhost:8080/"
        },
        "id": "hvJYFRppCBTF",
        "outputId": "49c8db0a-0ce4-4ae8-d742-baa8d153e2f7"
      },
      "execution_count": null,
      "outputs": [
        {
          "output_type": "stream",
          "name": "stdout",
          "text": [
            "rahul rahul@gmail.com 5648754548646\n"
          ]
        }
      ]
    },
    {
      "cell_type": "code",
      "source": [
        "class pwskills4():\n",
        "\n",
        "  mobile_number = 5648754548646   # class variable\n",
        "  \n",
        "  def __init__(self, name , email):\n",
        "\n",
        "    self.name = name\n",
        "    self.email = email\n",
        " \n",
        "  @classmethod                   # classmethods are global methods and are accessible by  both class and even objects., class methods are public methods, created for a single time only and used by the class and its objectrs.\n",
        "  def change_number(cls, mobile):\n",
        "    pwskills4.mobile_number = mobile\n",
        "\n",
        "  @classmethod\n",
        "  def details(cls, name1 , email1):\n",
        "    return cls(name1, email1)\n",
        "\n",
        "  def student_details(self):       # instance method : created for as many times as many objects are there.\n",
        "    print(self.name , self.email , pwskills4.mobile_number)"
      ],
      "metadata": {
        "id": "SYPO4eI9CJWo"
      },
      "execution_count": null,
      "outputs": []
    },
    {
      "cell_type": "code",
      "source": [
        "pwskills4.mobile_number"
      ],
      "metadata": {
        "colab": {
          "base_uri": "https://localhost:8080/"
        },
        "id": "MrZCtJjnCgym",
        "outputId": "6e59ba74-46d3-4b2e-f017-e3341edd252f"
      },
      "execution_count": null,
      "outputs": [
        {
          "output_type": "execute_result",
          "data": {
            "text/plain": [
              "5648754548646"
            ]
          },
          "metadata": {},
          "execution_count": 102
        }
      ]
    },
    {
      "cell_type": "code",
      "source": [
        "pwskills4.change_number(9664)"
      ],
      "metadata": {
        "id": "T6iM0JsgClm2"
      },
      "execution_count": null,
      "outputs": []
    },
    {
      "cell_type": "code",
      "source": [
        "pwskills4.mobile_number\n"
      ],
      "metadata": {
        "colab": {
          "base_uri": "https://localhost:8080/"
        },
        "id": "n4WFSD4KCqn_",
        "outputId": "2b77b87b-cbf9-4b47-865e-88b85e331be6"
      },
      "execution_count": null,
      "outputs": [
        {
          "output_type": "execute_result",
          "data": {
            "text/plain": [
              "9664"
            ]
          },
          "metadata": {},
          "execution_count": 104
        }
      ]
    },
    {
      "cell_type": "code",
      "source": [
        "pw3_obj = pwskills4(\"shreya\",\"shreya@gmail.com\")"
      ],
      "metadata": {
        "id": "HkWqC2hKCshO"
      },
      "execution_count": null,
      "outputs": []
    },
    {
      "cell_type": "code",
      "source": [
        "pw3_obj.details(\"shrey\",\"shrey@gmail.com\")"
      ],
      "metadata": {
        "colab": {
          "base_uri": "https://localhost:8080/"
        },
        "id": "DWuVRUFBF0ee",
        "outputId": "70328906-7fea-430f-c94e-3c8eb70f6a9f"
      },
      "execution_count": null,
      "outputs": [
        {
          "output_type": "execute_result",
          "data": {
            "text/plain": [
              "<__main__.pwskills4 at 0x7f91282f1ca0>"
            ]
          },
          "metadata": {},
          "execution_count": 106
        }
      ]
    },
    {
      "cell_type": "code",
      "source": [
        "pw3_obj.student_details()"
      ],
      "metadata": {
        "colab": {
          "base_uri": "https://localhost:8080/"
        },
        "id": "xnSuxIxQE4gm",
        "outputId": "96cd106f-0d08-499c-80af-00191d6ef918"
      },
      "execution_count": null,
      "outputs": [
        {
          "output_type": "stream",
          "name": "stdout",
          "text": [
            "shreya shreya@gmail.com 9664\n"
          ]
        }
      ]
    },
    {
      "cell_type": "code",
      "source": [
        "pw3_obj.mobile_number"
      ],
      "metadata": {
        "colab": {
          "base_uri": "https://localhost:8080/"
        },
        "id": "lMliXWyQFNgj",
        "outputId": "268b3c20-5be7-47c5-e1ec-8ea70a5b7cf6"
      },
      "execution_count": null,
      "outputs": [
        {
          "output_type": "execute_result",
          "data": {
            "text/plain": [
              "9664"
            ]
          },
          "metadata": {},
          "execution_count": 108
        }
      ]
    },
    {
      "cell_type": "code",
      "source": [
        "pw3_obj.change_number(96562625663)"
      ],
      "metadata": {
        "id": "N5Um2Y3QFaaf"
      },
      "execution_count": null,
      "outputs": []
    },
    {
      "cell_type": "code",
      "source": [
        "pw3_obj.mobile_number\n"
      ],
      "metadata": {
        "colab": {
          "base_uri": "https://localhost:8080/"
        },
        "id": "l6p-B8p2Fgj5",
        "outputId": "8ec23e24-6ca4-4a2e-bf4d-55886665432a"
      },
      "execution_count": null,
      "outputs": [
        {
          "output_type": "execute_result",
          "data": {
            "text/plain": [
              "96562625663"
            ]
          },
          "metadata": {},
          "execution_count": 110
        }
      ]
    },
    {
      "cell_type": "code",
      "source": [
        "class pwskills4():\n",
        "\n",
        "  mobile_number = 5648754548646   # class variable\n",
        "  \n",
        "  def __init__(self, name , email):\n",
        "\n",
        "    self.name = name\n",
        "    self.email = email\n",
        " \n",
        "  @classmethod                   # classmethods are global methods and are accessible by  both class and even objects., class methods are public methods, created for a single time only and used by the class and its objectrs.\n",
        "  def change_number(cls, mobile):\n",
        "    pwskills4.mobile_number = mobile\n",
        "\n",
        "  @classmethod\n",
        "  def details(cls, name1 , email1):\n",
        "    return cls(name1, email1)\n",
        "\n",
        "  def student_details(self):       # instance method : created for as many times as many objects are there., instance methods are the methods that  accessed by class objects.\n",
        "    print(self.name , self.email , pwskills4.mobile_number)"
      ],
      "metadata": {
        "id": "9Xn_p42HFky8"
      },
      "execution_count": null,
      "outputs": []
    },
    {
      "cell_type": "code",
      "source": [
        "def course_details(cls, course_name):\n",
        "  print(\"course details : \", course_name)\n"
      ],
      "metadata": {
        "id": "moT63FW0NcY4"
      },
      "execution_count": null,
      "outputs": []
    },
    {
      "cell_type": "code",
      "source": [
        "pwskills4.course_details = classmethod( course_details)"
      ],
      "metadata": {
        "id": "Jj5yohJHNsIZ"
      },
      "execution_count": null,
      "outputs": []
    },
    {
      "cell_type": "code",
      "source": [
        "pwskills4.course_details(\"Data science masters\")"
      ],
      "metadata": {
        "colab": {
          "base_uri": "https://localhost:8080/"
        },
        "id": "RgMUtnM1RMaE",
        "outputId": "61d3bc44-7cce-448d-be85-4b6d01e3d143"
      },
      "execution_count": null,
      "outputs": [
        {
          "output_type": "stream",
          "name": "stdout",
          "text": [
            "course details :  Data science masters\n"
          ]
        }
      ]
    },
    {
      "cell_type": "code",
      "source": [
        "pw5_obj = pwskills4(\"shyam\",\"shyam@gmail.com\")"
      ],
      "metadata": {
        "id": "huuLmQurRTRT"
      },
      "execution_count": null,
      "outputs": []
    },
    {
      "cell_type": "code",
      "source": [
        "pw5_obj.course_details(\"Web dev\")"
      ],
      "metadata": {
        "colab": {
          "base_uri": "https://localhost:8080/"
        },
        "id": "UmBmS2VVR3pw",
        "outputId": "ec9fa02b-3508-4be4-cbd0-c4c4d08d5c9d"
      },
      "execution_count": null,
      "outputs": [
        {
          "output_type": "stream",
          "name": "stdout",
          "text": [
            "course details :  Web dev\n"
          ]
        }
      ]
    },
    {
      "cell_type": "code",
      "source": [
        "del pwskills4.mobile_number"
      ],
      "metadata": {
        "id": "tJWU1GL3R9AG"
      },
      "execution_count": null,
      "outputs": []
    },
    {
      "cell_type": "code",
      "source": [
        "pwskills4.mobile_number"
      ],
      "metadata": {
        "colab": {
          "base_uri": "https://localhost:8080/",
          "height": 171
        },
        "id": "VHkFrQkbTJMa",
        "outputId": "fcb31019-9476-479c-bdf1-b2968b90fbea"
      },
      "execution_count": null,
      "outputs": [
        {
          "output_type": "error",
          "ename": "AttributeError",
          "evalue": "ignored",
          "traceback": [
            "\u001b[0;31m---------------------------------------------------------------------------\u001b[0m",
            "\u001b[0;31mAttributeError\u001b[0m                            Traceback (most recent call last)",
            "\u001b[0;32m<ipython-input-132-9e10270d29eb>\u001b[0m in \u001b[0;36m<module>\u001b[0;34m\u001b[0m\n\u001b[0;32m----> 1\u001b[0;31m \u001b[0mpwskills4\u001b[0m\u001b[0;34m.\u001b[0m\u001b[0mmobile_number\u001b[0m\u001b[0;34m\u001b[0m\u001b[0;34m\u001b[0m\u001b[0m\n\u001b[0m",
            "\u001b[0;31mAttributeError\u001b[0m: type object 'pwskills4' has no attribute 'mobile_number'"
          ]
        }
      ]
    },
    {
      "cell_type": "code",
      "source": [
        "delattr(pwskills4, \"details\")     # for delattr to be used, \"instance method, or class variable or instance variable  should be in quotes\""
      ],
      "metadata": {
        "id": "L-AQGTlbTLVf"
      },
      "execution_count": null,
      "outputs": []
    },
    {
      "cell_type": "code",
      "source": [
        "pwskills4.change_number(5665565)"
      ],
      "metadata": {
        "id": "ox6KUatyTxzn"
      },
      "execution_count": null,
      "outputs": []
    },
    {
      "cell_type": "code",
      "source": [
        "delattr(pwskills4 , \"change_number\")"
      ],
      "metadata": {
        "id": "eegdfXZITTn2"
      },
      "execution_count": null,
      "outputs": []
    },
    {
      "cell_type": "code",
      "source": [
        "delattr(pwskills4, \"student_details\")"
      ],
      "metadata": {
        "id": "AGmHJjY1T2nO"
      },
      "execution_count": null,
      "outputs": []
    },
    {
      "cell_type": "code",
      "source": [
        "pwskills4"
      ],
      "metadata": {
        "colab": {
          "base_uri": "https://localhost:8080/"
        },
        "id": "ubpfUqONUADm",
        "outputId": "4e551d63-343a-44bd-833a-df5b467ebc1f"
      },
      "execution_count": null,
      "outputs": [
        {
          "output_type": "execute_result",
          "data": {
            "text/plain": [
              "__main__.pwskills4"
            ]
          },
          "metadata": {},
          "execution_count": 138
        }
      ]
    },
    {
      "cell_type": "markdown",
      "source": [
        "## Static method : can be accessed via both class and object.\n",
        "\n",
        "## in case of staticmethod, doesnt matter how many objects we create , static method doesnt gets replicated that many number of times.thus ,it saves memory.\n",
        "\n",
        "## staticemthos will be available across the whole class and based on the object creation it is not going to replicate it.\n",
        "## this method helps to r4educe memory utilisation at any point of time."
      ],
      "metadata": {
        "id": "tXynAIjEUlEN"
      }
    },
    {
      "cell_type": "code",
      "source": [
        "class pwskills():\n",
        "  def student_details(self, name , mail_id, number):\n",
        "    print(name , mail_id, number)"
      ],
      "metadata": {
        "id": "cJUGzMc3UfaU"
      },
      "execution_count": null,
      "outputs": []
    },
    {
      "cell_type": "code",
      "source": [
        "pw = pwskills()"
      ],
      "metadata": {
        "id": "OSlD7YJvpnNU"
      },
      "execution_count": null,
      "outputs": []
    },
    {
      "cell_type": "code",
      "source": [
        "pw.student_details(\"vanna\",\"vanna@gmail.com\",59565956)"
      ],
      "metadata": {
        "colab": {
          "base_uri": "https://localhost:8080/"
        },
        "id": "g7Ommyd9prBn",
        "outputId": "dd3dc396-3f4b-47d6-847f-fe2be250f3e7"
      },
      "execution_count": null,
      "outputs": [
        {
          "output_type": "stream",
          "name": "stdout",
          "text": [
            "vanna vanna@gmail.com 59565956\n"
          ]
        }
      ]
    },
    {
      "cell_type": "code",
      "source": [
        "class pwskills1():\n",
        "  def student_details(self, name , mail_id, number):\n",
        "    print(name , mail_id, number)\n",
        "\n",
        "\n",
        "  @staticmethod\n",
        "  def mentor_class(list_mentor):\n",
        "    print(list_mentor)\n",
        "\n",
        "  def mentor(self, mentor_list):\n",
        "    print(mentor_list)"
      ],
      "metadata": {
        "id": "AH_pYXVAp1Y9"
      },
      "execution_count": null,
      "outputs": []
    },
    {
      "cell_type": "code",
      "source": [
        "pw1= pwskills1()"
      ],
      "metadata": {
        "id": "ylRbueD9qWr8"
      },
      "execution_count": null,
      "outputs": []
    },
    {
      "cell_type": "code",
      "source": [
        "pw1.mentor([\"krih\",\"sudh\"])"
      ],
      "metadata": {
        "colab": {
          "base_uri": "https://localhost:8080/"
        },
        "id": "cmCR5FFbqZZO",
        "outputId": "7755c065-1180-4232-acd6-e7feb0fa0728"
      },
      "execution_count": null,
      "outputs": [
        {
          "output_type": "stream",
          "name": "stdout",
          "text": [
            "['krih', 'sudh']\n"
          ]
        }
      ]
    },
    {
      "cell_type": "code",
      "source": [
        "pw1.mentor_class([\"sudh\" , \"krish\"])"
      ],
      "metadata": {
        "colab": {
          "base_uri": "https://localhost:8080/"
        },
        "id": "BLIgSt38qe0m",
        "outputId": "4622f523-c585-484a-90e0-0356436e398c"
      },
      "execution_count": null,
      "outputs": [
        {
          "output_type": "stream",
          "name": "stdout",
          "text": [
            "['sudh', 'krish']\n"
          ]
        }
      ]
    },
    {
      "cell_type": "code",
      "source": [
        "pwskills1.mentor_class([\"sudh\",\"krish\"])"
      ],
      "metadata": {
        "colab": {
          "base_uri": "https://localhost:8080/"
        },
        "id": "db9D_O75qmsp",
        "outputId": "32b1be93-50d1-4cee-dde3-025ea0ef7fa6"
      },
      "execution_count": null,
      "outputs": [
        {
          "output_type": "stream",
          "name": "stdout",
          "text": [
            "['sudh', 'krish']\n"
          ]
        }
      ]
    },
    {
      "cell_type": "code",
      "source": [
        "class pwskills2():\n",
        "  def student_details(self, name , mail_id, number):\n",
        "    print(name , mail_id, number)\n",
        "\n",
        "    print(self.student_details)\n",
        "\n",
        "\n",
        "  @staticmethod\n",
        "  def mentor_mail_id(mail_id):\n",
        "    print(mail_id)\n",
        "\n",
        "  @staticmethod\n",
        "  def mentor_class(list_mentor):\n",
        "    print(list_mentor)\n",
        "\n",
        "    pwskills2.mentor_mail_id([\"krish@gmail.com\", \"sudh@gmail.com\"]) # accessing staticmethod within another staticmethod\n",
        "\n",
        "\n",
        "  @classmethod\n",
        "  def class_name(cls, class_name):\n",
        "\n",
        "    cls.mentor_class([\"sudh\" , \"krish\"])  #accessing staticmethod within classmethod.\n",
        "\n",
        "\n",
        "  def mentor(self, mentor_list):\n",
        "    print(mentor_list)\n",
        "    \n",
        "    self.mentor_class([\"krish\",\"sudh\"])   # accessing staticmethod within instance method."
      ],
      "metadata": {
        "id": "8cIONmOVrEyL"
      },
      "execution_count": null,
      "outputs": []
    },
    {
      "cell_type": "code",
      "source": [
        "pw3 = pwskills2()"
      ],
      "metadata": {
        "id": "7_dmTb8QuoPI"
      },
      "execution_count": null,
      "outputs": []
    },
    {
      "cell_type": "code",
      "source": [
        "pw3.student_details(\"mohan\",\"mohan@gmail.com\", 99664499456)"
      ],
      "metadata": {
        "colab": {
          "base_uri": "https://localhost:8080/"
        },
        "id": "A8_hcc_XusZf",
        "outputId": "105859c0-695d-4a6e-c47f-4a443825170e"
      },
      "execution_count": null,
      "outputs": [
        {
          "output_type": "stream",
          "name": "stdout",
          "text": [
            "mohan mohan@gmail.com 99664499456\n",
            "<bound method pwskills2.student_details of <__main__.pwskills2 object at 0x7f28575c90d0>>\n"
          ]
        }
      ]
    },
    {
      "cell_type": "code",
      "source": [
        "pw3.mentor_mail_id([\"krish@gmail.com\", \"sudh@gmail.com\"])"
      ],
      "metadata": {
        "colab": {
          "base_uri": "https://localhost:8080/"
        },
        "id": "bSTxww4Ru5wc",
        "outputId": "7e0f7d83-d5fa-4df8-fa0d-19198156d06c"
      },
      "execution_count": null,
      "outputs": [
        {
          "output_type": "stream",
          "name": "stdout",
          "text": [
            "['krish@gmail.com', 'sudh@gmail.com']\n"
          ]
        }
      ]
    },
    {
      "cell_type": "code",
      "source": [
        "pw3.class_name(\"data science masters\")"
      ],
      "metadata": {
        "colab": {
          "base_uri": "https://localhost:8080/"
        },
        "id": "VN6paGXOvdbo",
        "outputId": "73684a5c-bea3-43f9-8e30-459cf9806550"
      },
      "execution_count": null,
      "outputs": [
        {
          "output_type": "stream",
          "name": "stdout",
          "text": [
            "['sudh', 'krish']\n",
            "['krish@gmail.com', 'sudh@gmail.com']\n"
          ]
        }
      ]
    },
    {
      "cell_type": "code",
      "source": [
        "pwskills2.mentor_mail_id([\"krish@gmail.com\",\"sudh@gmail.com\"])"
      ],
      "metadata": {
        "colab": {
          "base_uri": "https://localhost:8080/"
        },
        "id": "_7BSI12nv1J4",
        "outputId": "009bb9dd-1ca0-4d01-f917-e3bf8909445e"
      },
      "execution_count": null,
      "outputs": [
        {
          "output_type": "stream",
          "name": "stdout",
          "text": [
            "['krish@gmail.com', 'sudh@gmail.com']\n"
          ]
        }
      ]
    },
    {
      "cell_type": "markdown",
      "source": [
        "## special / magic / dunder methods"
      ],
      "metadata": {
        "id": "Apx8QGZr_HBR"
      }
    },
    {
      "cell_type": "code",
      "source": [
        "dir(int)"
      ],
      "metadata": {
        "colab": {
          "base_uri": "https://localhost:8080/"
        },
        "id": "WaLSIjgV_Gxk",
        "outputId": "06ff4f67-6809-41de-c5dc-6e32ea670dd1"
      },
      "execution_count": null,
      "outputs": [
        {
          "output_type": "execute_result",
          "data": {
            "text/plain": [
              "['__abs__',\n",
              " '__add__',\n",
              " '__and__',\n",
              " '__bool__',\n",
              " '__ceil__',\n",
              " '__class__',\n",
              " '__delattr__',\n",
              " '__dir__',\n",
              " '__divmod__',\n",
              " '__doc__',\n",
              " '__eq__',\n",
              " '__float__',\n",
              " '__floor__',\n",
              " '__floordiv__',\n",
              " '__format__',\n",
              " '__ge__',\n",
              " '__getattribute__',\n",
              " '__getnewargs__',\n",
              " '__gt__',\n",
              " '__hash__',\n",
              " '__index__',\n",
              " '__init__',\n",
              " '__init_subclass__',\n",
              " '__int__',\n",
              " '__invert__',\n",
              " '__le__',\n",
              " '__lshift__',\n",
              " '__lt__',\n",
              " '__mod__',\n",
              " '__mul__',\n",
              " '__ne__',\n",
              " '__neg__',\n",
              " '__new__',\n",
              " '__or__',\n",
              " '__pos__',\n",
              " '__pow__',\n",
              " '__radd__',\n",
              " '__rand__',\n",
              " '__rdivmod__',\n",
              " '__reduce__',\n",
              " '__reduce_ex__',\n",
              " '__repr__',\n",
              " '__rfloordiv__',\n",
              " '__rlshift__',\n",
              " '__rmod__',\n",
              " '__rmul__',\n",
              " '__ror__',\n",
              " '__round__',\n",
              " '__rpow__',\n",
              " '__rrshift__',\n",
              " '__rshift__',\n",
              " '__rsub__',\n",
              " '__rtruediv__',\n",
              " '__rxor__',\n",
              " '__setattr__',\n",
              " '__sizeof__',\n",
              " '__str__',\n",
              " '__sub__',\n",
              " '__subclasshook__',\n",
              " '__truediv__',\n",
              " '__trunc__',\n",
              " '__xor__',\n",
              " 'as_integer_ratio',\n",
              " 'bit_length',\n",
              " 'conjugate',\n",
              " 'denominator',\n",
              " 'from_bytes',\n",
              " 'imag',\n",
              " 'numerator',\n",
              " 'real',\n",
              " 'to_bytes']"
            ]
          },
          "metadata": {},
          "execution_count": 22
        }
      ]
    },
    {
      "cell_type": "code",
      "source": [
        "a= 10"
      ],
      "metadata": {
        "id": "AHilZRfiwPKv"
      },
      "execution_count": null,
      "outputs": []
    },
    {
      "cell_type": "code",
      "source": [
        "a+6\n"
      ],
      "metadata": {
        "colab": {
          "base_uri": "https://localhost:8080/"
        },
        "id": "yaBjV4wB_R_E",
        "outputId": "85b369e5-aadb-48b0-d1e0-249ea6745c5f"
      },
      "execution_count": null,
      "outputs": [
        {
          "output_type": "execute_result",
          "data": {
            "text/plain": [
              "16"
            ]
          },
          "metadata": {},
          "execution_count": 24
        }
      ]
    },
    {
      "cell_type": "code",
      "source": [
        "a.__add__(6)"
      ],
      "metadata": {
        "colab": {
          "base_uri": "https://localhost:8080/"
        },
        "id": "nz8hxagq_TpT",
        "outputId": "04ce2ba0-833d-4f97-ca5c-ddfe49a8305e"
      },
      "execution_count": null,
      "outputs": [
        {
          "output_type": "execute_result",
          "data": {
            "text/plain": [
              "16"
            ]
          },
          "metadata": {},
          "execution_count": 25
        }
      ]
    },
    {
      "cell_type": "code",
      "source": [
        "dir(str)"
      ],
      "metadata": {
        "colab": {
          "base_uri": "https://localhost:8080/"
        },
        "id": "qE4JsZ7T_XRR",
        "outputId": "a7808e43-af4e-4195-8841-9a390497d733"
      },
      "execution_count": null,
      "outputs": [
        {
          "output_type": "execute_result",
          "data": {
            "text/plain": [
              "['__add__',\n",
              " '__class__',\n",
              " '__contains__',\n",
              " '__delattr__',\n",
              " '__dir__',\n",
              " '__doc__',\n",
              " '__eq__',\n",
              " '__format__',\n",
              " '__ge__',\n",
              " '__getattribute__',\n",
              " '__getitem__',\n",
              " '__getnewargs__',\n",
              " '__gt__',\n",
              " '__hash__',\n",
              " '__init__',\n",
              " '__init_subclass__',\n",
              " '__iter__',\n",
              " '__le__',\n",
              " '__len__',\n",
              " '__lt__',\n",
              " '__mod__',\n",
              " '__mul__',\n",
              " '__ne__',\n",
              " '__new__',\n",
              " '__reduce__',\n",
              " '__reduce_ex__',\n",
              " '__repr__',\n",
              " '__rmod__',\n",
              " '__rmul__',\n",
              " '__setattr__',\n",
              " '__sizeof__',\n",
              " '__str__',\n",
              " '__subclasshook__',\n",
              " 'capitalize',\n",
              " 'casefold',\n",
              " 'center',\n",
              " 'count',\n",
              " 'encode',\n",
              " 'endswith',\n",
              " 'expandtabs',\n",
              " 'find',\n",
              " 'format',\n",
              " 'format_map',\n",
              " 'index',\n",
              " 'isalnum',\n",
              " 'isalpha',\n",
              " 'isascii',\n",
              " 'isdecimal',\n",
              " 'isdigit',\n",
              " 'isidentifier',\n",
              " 'islower',\n",
              " 'isnumeric',\n",
              " 'isprintable',\n",
              " 'isspace',\n",
              " 'istitle',\n",
              " 'isupper',\n",
              " 'join',\n",
              " 'ljust',\n",
              " 'lower',\n",
              " 'lstrip',\n",
              " 'maketrans',\n",
              " 'partition',\n",
              " 'replace',\n",
              " 'rfind',\n",
              " 'rindex',\n",
              " 'rjust',\n",
              " 'rpartition',\n",
              " 'rsplit',\n",
              " 'rstrip',\n",
              " 'split',\n",
              " 'splitlines',\n",
              " 'startswith',\n",
              " 'strip',\n",
              " 'swapcase',\n",
              " 'title',\n",
              " 'translate',\n",
              " 'upper',\n",
              " 'zfill']"
            ]
          },
          "metadata": {},
          "execution_count": 26
        }
      ]
    },
    {
      "cell_type": "code",
      "source": [
        "# At the time of production grade coding using dunder methods directly is not advisable"
      ],
      "metadata": {
        "id": "Jqty_VcA_9UM"
      },
      "execution_count": null,
      "outputs": []
    },
    {
      "cell_type": "code",
      "source": [
        "class pwskills():\n",
        "\n",
        "  def __init__(self):\n",
        "    print(\"this is my init\")\n"
      ],
      "metadata": {
        "id": "8pb9j3LICUFq"
      },
      "execution_count": null,
      "outputs": []
    },
    {
      "cell_type": "code",
      "source": [
        "pw = pwskills()"
      ],
      "metadata": {
        "colab": {
          "base_uri": "https://localhost:8080/"
        },
        "id": "4MwJjz-PCqjB",
        "outputId": "c0692208-00a0-4ea0-9350-53f59f3e867d"
      },
      "execution_count": null,
      "outputs": [
        {
          "output_type": "stream",
          "name": "stdout",
          "text": [
            "this is my init\n"
          ]
        }
      ]
    },
    {
      "cell_type": "code",
      "source": [
        "class pwskills():\n",
        "\n",
        "\n",
        "  def __new__(self):\n",
        "    print(\"this is my new\")\n",
        "\n",
        "  def __init__(self):\n",
        "    print(\"this is my init\")\n",
        "    \n"
      ],
      "metadata": {
        "id": "A67j1vxWD8Ns"
      },
      "execution_count": null,
      "outputs": []
    },
    {
      "cell_type": "code",
      "source": [
        "pw2  = pwskills()"
      ],
      "metadata": {
        "colab": {
          "base_uri": "https://localhost:8080/"
        },
        "id": "dB7rz2biEPVW",
        "outputId": "897b7349-e11f-4e46-d09c-9cdd7d713755"
      },
      "execution_count": null,
      "outputs": [
        {
          "output_type": "stream",
          "name": "stdout",
          "text": [
            "this is my news\n"
          ]
        }
      ]
    },
    {
      "cell_type": "code",
      "source": [
        "class pwskills1:\n",
        "\n",
        "\n",
        "  def __init__(self):\n",
        "    self.number =963694562\n",
        "\n",
        "  \n",
        "  def __str__(self):\n",
        "    return \"this method will return something for the object \""
      ],
      "metadata": {
        "id": "EfpGrfZFESUl"
      },
      "execution_count": null,
      "outputs": []
    },
    {
      "cell_type": "code",
      "source": [
        "pw_obj = pwskills1()"
      ],
      "metadata": {
        "id": "WTgmoyHtRyCT"
      },
      "execution_count": null,
      "outputs": []
    },
    {
      "cell_type": "code",
      "source": [
        "pw_obj"
      ],
      "metadata": {
        "colab": {
          "base_uri": "https://localhost:8080/"
        },
        "id": "x5kINCxeR6PX",
        "outputId": "35a7cbfc-ac1b-4fb9-fb69-b5fede718392"
      },
      "execution_count": null,
      "outputs": [
        {
          "output_type": "execute_result",
          "data": {
            "text/plain": [
              "<__main__.pwskills1 at 0x7f28575b01f0>"
            ]
          },
          "metadata": {},
          "execution_count": 39
        }
      ]
    },
    {
      "cell_type": "code",
      "source": [
        "print(pw_obj)"
      ],
      "metadata": {
        "colab": {
          "base_uri": "https://localhost:8080/"
        },
        "id": "UKDQkR_HR7iE",
        "outputId": "a88fb2c5-85bd-488d-f4b9-5d1d672c4083"
      },
      "execution_count": null,
      "outputs": [
        {
          "output_type": "stream",
          "name": "stdout",
          "text": [
            "this method will return something for the object \n"
          ]
        }
      ]
    },
    {
      "cell_type": "code",
      "source": [
        "dir(dict)"
      ],
      "metadata": {
        "colab": {
          "base_uri": "https://localhost:8080/"
        },
        "id": "WGgAFwCxR-Ec",
        "outputId": "0eccd84b-9b43-4044-c77a-46ef011652e2"
      },
      "execution_count": null,
      "outputs": [
        {
          "output_type": "execute_result",
          "data": {
            "text/plain": [
              "['__class__',\n",
              " '__contains__',\n",
              " '__delattr__',\n",
              " '__delitem__',\n",
              " '__dir__',\n",
              " '__doc__',\n",
              " '__eq__',\n",
              " '__format__',\n",
              " '__ge__',\n",
              " '__getattribute__',\n",
              " '__getitem__',\n",
              " '__gt__',\n",
              " '__hash__',\n",
              " '__init__',\n",
              " '__init_subclass__',\n",
              " '__iter__',\n",
              " '__le__',\n",
              " '__len__',\n",
              " '__lt__',\n",
              " '__ne__',\n",
              " '__new__',\n",
              " '__reduce__',\n",
              " '__reduce_ex__',\n",
              " '__repr__',\n",
              " '__reversed__',\n",
              " '__setattr__',\n",
              " '__setitem__',\n",
              " '__sizeof__',\n",
              " '__str__',\n",
              " '__subclasshook__',\n",
              " 'clear',\n",
              " 'copy',\n",
              " 'fromkeys',\n",
              " 'get',\n",
              " 'items',\n",
              " 'keys',\n",
              " 'pop',\n",
              " 'popitem',\n",
              " 'setdefault',\n",
              " 'update',\n",
              " 'values']"
            ]
          },
          "metadata": {},
          "execution_count": 41
        }
      ]
    },
    {
      "cell_type": "code",
      "source": [
        "dir(tuple)"
      ],
      "metadata": {
        "colab": {
          "base_uri": "https://localhost:8080/"
        },
        "id": "9KHLpf9mSWPS",
        "outputId": "1a20dd1d-6f62-416a-add9-50d6762da4cf"
      },
      "execution_count": null,
      "outputs": [
        {
          "output_type": "execute_result",
          "data": {
            "text/plain": [
              "['__add__',\n",
              " '__class__',\n",
              " '__contains__',\n",
              " '__delattr__',\n",
              " '__dir__',\n",
              " '__doc__',\n",
              " '__eq__',\n",
              " '__format__',\n",
              " '__ge__',\n",
              " '__getattribute__',\n",
              " '__getitem__',\n",
              " '__getnewargs__',\n",
              " '__gt__',\n",
              " '__hash__',\n",
              " '__init__',\n",
              " '__init_subclass__',\n",
              " '__iter__',\n",
              " '__le__',\n",
              " '__len__',\n",
              " '__lt__',\n",
              " '__mul__',\n",
              " '__ne__',\n",
              " '__new__',\n",
              " '__reduce__',\n",
              " '__reduce_ex__',\n",
              " '__repr__',\n",
              " '__rmul__',\n",
              " '__setattr__',\n",
              " '__sizeof__',\n",
              " '__str__',\n",
              " '__subclasshook__',\n",
              " 'count',\n",
              " 'index']"
            ]
          },
          "metadata": {},
          "execution_count": 42
        }
      ]
    },
    {
      "cell_type": "markdown",
      "source": [
        "## property decoraters:\n",
        "## It is used to give \"special\" functionality to certain methods to make them act as getters, setters, or deleters when we define properties in a class."
      ],
      "metadata": {
        "id": "oi5XRIVLaonK"
      }
    },
    {
      "cell_type": "code",
      "source": [
        "class pwskills():\n",
        "\n",
        "  def __init__(self, course_name, course_price):\n",
        "\n",
        "    self.__course_price = course_price    # private instance\n",
        "    self.course_name = course_name\n",
        "\n",
        "\n"
      ],
      "metadata": {
        "id": "_S-xOTFFSXW3"
      },
      "execution_count": null,
      "outputs": []
    },
    {
      "cell_type": "code",
      "source": [
        "pw = pwskills(\"Data Science masters\" , 3500)"
      ],
      "metadata": {
        "id": "vj8Gb0GAFovz"
      },
      "execution_count": null,
      "outputs": []
    },
    {
      "cell_type": "code",
      "source": [
        "pw.course_name"
      ],
      "metadata": {
        "colab": {
          "base_uri": "https://localhost:8080/",
          "height": 36
        },
        "id": "SWMFY7aOGKvz",
        "outputId": "5b77aaf2-4da1-4e9b-f154-d5bcb9f2459f"
      },
      "execution_count": null,
      "outputs": [
        {
          "output_type": "execute_result",
          "data": {
            "text/plain": [
              "'Data Science masters'"
            ],
            "application/vnd.google.colaboratory.intrinsic+json": {
              "type": "string"
            }
          },
          "metadata": {},
          "execution_count": 9
        }
      ]
    },
    {
      "cell_type": "code",
      "source": [
        "pw._pwskills__course_price"
      ],
      "metadata": {
        "colab": {
          "base_uri": "https://localhost:8080/"
        },
        "id": "XM0aXuDLGPFq",
        "outputId": "b14ee931-2151-4db8-d557-0f26fd5f1440"
      },
      "execution_count": null,
      "outputs": [
        {
          "output_type": "execute_result",
          "data": {
            "text/plain": [
              "3500"
            ]
          },
          "metadata": {},
          "execution_count": 10
        }
      ]
    },
    {
      "cell_type": "markdown",
      "source": [
        "* Getters: These are the methods used in Object-Oriented Programming (OOPS) which helps to access the private attributes from a class.\n",
        "\n",
        "* Setters: These are the methods used in OOPS feature which helps to set the value to private attributes in a class.\n",
        "\n",
        "Instances with single underscorea are protected ones\n",
        "and instances with double underscore are private ones."
      ],
      "metadata": {
        "id": "jAq1O-KhaHSZ"
      }
    },
    {
      "cell_type": "code",
      "source": [
        "class pwskills1():\n",
        "\n",
        "  def __init__(self, course_name, course_price):\n",
        "\n",
        "    self.__course_price = course_price    # private instance\n",
        "    self.course_name = course_name\n",
        "\n",
        "\n",
        "  @property                          # getter\n",
        "  def course_price_access(self):\n",
        "    return self.__course_price\n",
        "\n",
        "\n",
        "  @course_price_access.setter           # setter\n",
        "  def course_price_set(self, price):\n",
        "    if price<=3500:\n",
        "      pass\n",
        "    else:\n",
        "      self.__course_price = price\n",
        "\n",
        "    \n",
        "  @course_price_access.deleter              # deleter\n",
        "  def course_price_del(self):\n",
        "    del self.__course_price\n",
        "\n"
      ],
      "metadata": {
        "id": "njgCS06oGivM"
      },
      "execution_count": null,
      "outputs": []
    },
    {
      "cell_type": "code",
      "source": [
        "pw1 = pwskills1(\"Data Science masters\" , 3500)\n"
      ],
      "metadata": {
        "id": "n9szBayTHQwf"
      },
      "execution_count": null,
      "outputs": []
    },
    {
      "cell_type": "code",
      "source": [
        "pw1.course_price_access"
      ],
      "metadata": {
        "colab": {
          "base_uri": "https://localhost:8080/"
        },
        "id": "Nf9csUEBHnRC",
        "outputId": "c0ebb21a-cc42-4bd8-87e6-b1da0ff2f58a"
      },
      "execution_count": null,
      "outputs": [
        {
          "output_type": "execute_result",
          "data": {
            "text/plain": [
              "3500"
            ]
          },
          "metadata": {},
          "execution_count": 64
        }
      ]
    },
    {
      "cell_type": "code",
      "source": [
        "pw1.course_price_set = 4500"
      ],
      "metadata": {
        "id": "5V4gVJtkHv0T"
      },
      "execution_count": null,
      "outputs": []
    },
    {
      "cell_type": "code",
      "source": [
        "pw1.course_price_access\n"
      ],
      "metadata": {
        "colab": {
          "base_uri": "https://localhost:8080/"
        },
        "id": "C0IGx2P1IOWJ",
        "outputId": "dd3813f4-b56b-4d1b-fee4-42c93fb51750"
      },
      "execution_count": null,
      "outputs": [
        {
          "output_type": "execute_result",
          "data": {
            "text/plain": [
              "4500"
            ]
          },
          "metadata": {},
          "execution_count": 66
        }
      ]
    },
    {
      "cell_type": "code",
      "source": [
        "del pw1.course_price_del"
      ],
      "metadata": {
        "id": "k9cN6QQ0IXsR"
      },
      "execution_count": null,
      "outputs": []
    },
    {
      "cell_type": "code",
      "source": [
        "pw1.course_price_access\n"
      ],
      "metadata": {
        "colab": {
          "base_uri": "https://localhost:8080/",
          "height": 299
        },
        "id": "ZO9xyLJ-I2Dz",
        "outputId": "e21d1956-e6f8-4e44-f943-74b4229ac670"
      },
      "execution_count": null,
      "outputs": [
        {
          "output_type": "error",
          "ename": "AttributeError",
          "evalue": "ignored",
          "traceback": [
            "\u001b[0;31m---------------------------------------------------------------------------\u001b[0m",
            "\u001b[0;31mAttributeError\u001b[0m                            Traceback (most recent call last)",
            "\u001b[0;32m<ipython-input-68-3a7f150d83a8>\u001b[0m in \u001b[0;36m<module>\u001b[0;34m\u001b[0m\n\u001b[0;32m----> 1\u001b[0;31m \u001b[0mpw1\u001b[0m\u001b[0;34m.\u001b[0m\u001b[0mcourse_price_access\u001b[0m\u001b[0;34m\u001b[0m\u001b[0;34m\u001b[0m\u001b[0m\n\u001b[0m",
            "\u001b[0;32m<ipython-input-62-8ab97c2f7f19>\u001b[0m in \u001b[0;36mcourse_price_access\u001b[0;34m(self)\u001b[0m\n\u001b[1;32m      9\u001b[0m   \u001b[0;34m@\u001b[0m\u001b[0mproperty\u001b[0m                          \u001b[0;31m# getter\u001b[0m\u001b[0;34m\u001b[0m\u001b[0;34m\u001b[0m\u001b[0m\n\u001b[1;32m     10\u001b[0m   \u001b[0;32mdef\u001b[0m \u001b[0mcourse_price_access\u001b[0m\u001b[0;34m(\u001b[0m\u001b[0mself\u001b[0m\u001b[0;34m)\u001b[0m\u001b[0;34m:\u001b[0m\u001b[0;34m\u001b[0m\u001b[0;34m\u001b[0m\u001b[0m\n\u001b[0;32m---> 11\u001b[0;31m     \u001b[0;32mreturn\u001b[0m \u001b[0mself\u001b[0m\u001b[0;34m.\u001b[0m\u001b[0m__course_price\u001b[0m\u001b[0;34m\u001b[0m\u001b[0;34m\u001b[0m\u001b[0m\n\u001b[0m\u001b[1;32m     12\u001b[0m \u001b[0;34m\u001b[0m\u001b[0m\n\u001b[1;32m     13\u001b[0m \u001b[0;34m\u001b[0m\u001b[0m\n",
            "\u001b[0;31mAttributeError\u001b[0m: 'pwskills1' object has no attribute '_pwskills1__course_price'"
          ]
        }
      ]
    },
    {
      "cell_type": "markdown",
      "source": [
        "Method overriding:\n",
        " is a mechanism in object-oriented programming (OOP) where a child class defines a method with the same name,same parametres, same signature, same return type as a method in its parent class, thereby replacing the functionality of the parent method with its own. This is a way of customizing the behavior of the parent method in the child class."
      ],
      "metadata": {
        "id": "9BtCbQ5ljqTU"
      }
    },
    {
      "cell_type": "code",
      "source": [
        "class Animal:\n",
        "    def make_sound(self):\n",
        "        print(\"The animal makes a sound.\")\n",
        "\n",
        "class Cat(Animal):\n",
        "    def make_sound(self):\n",
        "        print(\"Meow!\")\n",
        "\n",
        "class Dog(Animal):\n",
        "    def make_sound(self):\n",
        "        print(\"Woof!\")\n",
        "\n",
        "animal = Animal()\n",
        "cat = Cat()\n",
        "dog = Dog()\n",
        "\n",
        "animal.make_sound()  # The animal makes a sound.\n",
        "cat.make_sound()     # Meow!\n",
        "dog.make_sound()     # Woof!\n"
      ],
      "metadata": {
        "colab": {
          "base_uri": "https://localhost:8080/"
        },
        "id": "MbbpCwOedGgw",
        "outputId": "42229fe1-2be7-4da5-87bd-c3c4f40ea384"
      },
      "execution_count": null,
      "outputs": [
        {
          "output_type": "stream",
          "name": "stdout",
          "text": [
            "The animal makes a sound.\n",
            "Meow!\n",
            "Woof!\n"
          ]
        }
      ]
    },
    {
      "cell_type": "markdown",
      "source": [
        "In the above example, we have defined an Animal class with a make_sound method that prints a generic sound. We have also defined two child classes Cat and Dog that inherit from Animal. Both Cat and Dog have their own make_sound methods that override the parent make_sound method.\n",
        "\n",
        "When we create an instance of Animal and call its make_sound method, it prints \"The animal makes a sound.\" When we create instances of Cat and Dog and call their make_sound methods, they print \"Meow!\" and \"Woof!\", respectively. This demonstrates how the child classes have overridden the behavior of the parent method."
      ],
      "metadata": {
        "id": "2hqo4Sg1j7wS"
      }
    },
    {
      "cell_type": "markdown",
      "source": [
        "Method overloading: \n",
        "Two or more methods have the same name but different numbers of parameters or different types of parameters, or both. These methods are called overloaded methods and this is called method overloading. \n",
        "\n",
        "Like other languages (for example, method overloading in C++) do, python does not support method overloading by default. But there are different ways to achieve method overloading in Python. \n",
        "\n",
        "The problem with method overloading in Python is that we may overload the methods but can only use the latest defined method.\n"
      ],
      "metadata": {
        "id": "njy0Oa8Mlzd7"
      }
    },
    {
      "cell_type": "code",
      "source": [
        "def product(a,b):\n",
        "  return a*b\n",
        "\n",
        "\n",
        "def product(a,b,c):\n",
        "  return a*b*c\n",
        "product(4,5)"
      ],
      "metadata": {
        "colab": {
          "base_uri": "https://localhost:8080/",
          "height": 208
        },
        "id": "7DFquQz-j2ZX",
        "outputId": "4d697f5f-1144-4de5-deae-0c10a011969a"
      },
      "execution_count": null,
      "outputs": [
        {
          "output_type": "error",
          "ename": "TypeError",
          "evalue": "ignored",
          "traceback": [
            "\u001b[0;31m---------------------------------------------------------------------------\u001b[0m",
            "\u001b[0;31mTypeError\u001b[0m                                 Traceback (most recent call last)",
            "\u001b[0;32m<ipython-input-2-8d0811bb9695>\u001b[0m in \u001b[0;36m<module>\u001b[0;34m\u001b[0m\n\u001b[1;32m      5\u001b[0m \u001b[0;32mdef\u001b[0m \u001b[0mproduct\u001b[0m\u001b[0;34m(\u001b[0m\u001b[0ma\u001b[0m\u001b[0;34m,\u001b[0m\u001b[0mb\u001b[0m\u001b[0;34m,\u001b[0m\u001b[0mc\u001b[0m\u001b[0;34m)\u001b[0m\u001b[0;34m:\u001b[0m\u001b[0;34m\u001b[0m\u001b[0;34m\u001b[0m\u001b[0m\n\u001b[1;32m      6\u001b[0m   \u001b[0;32mreturn\u001b[0m \u001b[0ma\u001b[0m\u001b[0;34m*\u001b[0m\u001b[0mb\u001b[0m\u001b[0;34m*\u001b[0m\u001b[0mc\u001b[0m\u001b[0;34m\u001b[0m\u001b[0;34m\u001b[0m\u001b[0m\n\u001b[0;32m----> 7\u001b[0;31m \u001b[0mproduct\u001b[0m\u001b[0;34m(\u001b[0m\u001b[0;36m4\u001b[0m\u001b[0;34m,\u001b[0m\u001b[0;36m5\u001b[0m\u001b[0;34m)\u001b[0m\u001b[0;34m\u001b[0m\u001b[0;34m\u001b[0m\u001b[0m\n\u001b[0m",
            "\u001b[0;31mTypeError\u001b[0m: product() missing 1 required positional argument: 'c'"
          ]
        }
      ]
    },
    {
      "cell_type": "code",
      "source": [
        "product(1,2,3)"
      ],
      "metadata": {
        "colab": {
          "base_uri": "https://localhost:8080/"
        },
        "id": "YpCo2V9EmNG1",
        "outputId": "8ba4ea32-651c-46b0-ddd0-4f7ffae0f776"
      },
      "execution_count": null,
      "outputs": [
        {
          "output_type": "execute_result",
          "data": {
            "text/plain": [
              "6"
            ]
          },
          "metadata": {},
          "execution_count": 4
        }
      ]
    },
    {
      "cell_type": "code",
      "source": [],
      "metadata": {
        "id": "hsjejNdlmQnn"
      },
      "execution_count": null,
      "outputs": []
    }
  ]
}