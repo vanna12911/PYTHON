{
  "cells": [
    {
      "cell_type": "markdown",
      "metadata": {
        "id": "U3hPC4bSQb9m"
      },
      "source": [
        "## python basics  : \n",
        "  "
      ]
    },
    {
      "cell_type": "markdown",
      "metadata": {
        "id": "52g49IvfRhYF"
      },
      "source": [
        "[python keyword list](https://www.programiz.com/python-programming/keywords-identifier)"
      ]
    },
    {
      "cell_type": "code",
      "execution_count": null,
      "metadata": {
        "id": "PBSHOD0UO8cx"
      },
      "outputs": [],
      "source": [
        "#                                               .ipynb  stands for interactive python notebooks\n",
        "\n",
        "# identifiers  : variables, classes and methods all are considered as identifiers\n",
        "\n",
        "# variable naming convention  :\n",
        "                                # snake_case\n",
        "                                # MACRO_CASE\n",
        "                                # camelCase\n",
        "                                # CapWords\n",
        "                                \n",
        "# python literals :  numereic literals can belong to three classes int, float and complex \n",
        "            #string literal\n",
        "            # char literal\n",
        "            # boolean literal\n",
        "            # special literal : None\n",
        "\n",
        "# literal collection : four different types of literal collections are there:\n",
        "                                                                                    # list []\n",
        "                                                                                    # tuple()\n",
        "                                                                                    # dict {key : value }\n",
        "                                                                                    # set {}\n",
        "\n",
        "\n",
        "# dynaming typing language  : we dont need to define the datatype of our var  that will be understood  by the interpreter during the run time only\n",
        "\n",
        "#\n",
        "\n",
        "\t\t\t\t\t \n",
        "\t\t\t\t\t \n",
        "\t\t\t\t\t \n",
        "\t\t\t\n",
        "\n",
        "\n",
        "\n",
        "\n",
        "\n",
        "\n",
        "\n",
        "\n",
        "\n",
        "\n",
        "\n",
        "\n",
        "\n",
        "# facing problem with multiline comments"
      ]
    },
    {
      "cell_type": "code",
      "execution_count": null,
      "metadata": {
        "colab": {
          "base_uri": "https://localhost:8080/"
        },
        "id": "ikq1UipTQUu8",
        "outputId": "4b74627c-fcf7-4313-a230-01bdc189f22a"
      },
      "outputs": [
        {
          "output_type": "execute_result",
          "data": {
            "text/plain": [
              "12"
            ]
          },
          "metadata": {},
          "execution_count": 4
        }
      ],
      "source": [
        "a= 12\n",
        "a"
      ]
    },
    {
      "cell_type": "code",
      "execution_count": null,
      "metadata": {
        "colab": {
          "base_uri": "https://localhost:8080/"
        },
        "id": "r8eArJAbT8ce",
        "outputId": "4feeb118-a9c7-40ec-876b-0140c25fa3b1"
      },
      "outputs": [
        {
          "output_type": "stream",
          "name": "stdout",
          "text": [
            "12\n"
          ]
        }
      ],
      "source": [
        "print(a)"
      ]
    },
    {
      "cell_type": "code",
      "execution_count": null,
      "metadata": {
        "colab": {
          "base_uri": "https://localhost:8080/"
        },
        "id": "QZ4HDesFT-dX",
        "outputId": "4978f5d5-09b1-4247-a8b3-82c36a1d9ab3"
      },
      "outputs": [
        {
          "output_type": "execute_result",
          "data": {
            "text/plain": [
              "int"
            ]
          },
          "metadata": {},
          "execution_count": 6
        }
      ],
      "source": [
        "type(a)"
      ]
    },
    {
      "cell_type": "code",
      "execution_count": null,
      "metadata": {
        "colab": {
          "base_uri": "https://localhost:8080/"
        },
        "id": "xLwPwzjVUFQV",
        "outputId": "f478cccd-21b3-41a4-fca6-f2d10bb56b8a"
      },
      "outputs": [
        {
          "output_type": "execute_result",
          "data": {
            "text/plain": [
              "str"
            ]
          },
          "metadata": {},
          "execution_count": 7
        }
      ],
      "source": [
        "a= \"12\"\n",
        "type(a)"
      ]
    },
    {
      "cell_type": "code",
      "execution_count": null,
      "metadata": {
        "colab": {
          "base_uri": "https://localhost:8080/"
        },
        "id": "RnjBto56UJmq",
        "outputId": "1f8ac23b-76bc-4f17-ef19-5fc6c843faef"
      },
      "outputs": [
        {
          "output_type": "execute_result",
          "data": {
            "text/plain": [
              "float"
            ]
          },
          "metadata": {},
          "execution_count": 8
        }
      ],
      "source": [
        "a =12.1\n",
        "type(a)"
      ]
    },
    {
      "cell_type": "code",
      "execution_count": null,
      "metadata": {
        "colab": {
          "base_uri": "https://localhost:8080/"
        },
        "id": "1a8om96haM4c",
        "outputId": "3b0a0474-dcb5-4308-c7ba-19c0eb151188"
      },
      "outputs": [
        {
          "output_type": "execute_result",
          "data": {
            "text/plain": [
              "complex"
            ]
          },
          "metadata": {},
          "execution_count": 9
        }
      ],
      "source": [
        "a =4+2j\n",
        "type(a)"
      ]
    },
    {
      "cell_type": "code",
      "source": [
        "m = 6\n",
        "n = 2 \n",
        "z = complex(m,n)\n",
        "print(z)\n",
        "print(z.real)\n",
        "print(z.imag)\n",
        "print(type(z))"
      ],
      "metadata": {
        "colab": {
          "base_uri": "https://localhost:8080/"
        },
        "id": "m-Ss6b6Wql5B",
        "outputId": "e3788fe0-0b1b-4cd2-a616-23ca5c5d99e3"
      },
      "execution_count": null,
      "outputs": [
        {
          "output_type": "stream",
          "name": "stdout",
          "text": [
            "(6+2j)\n",
            "6.0\n",
            "2.0\n",
            "<class 'complex'>\n"
          ]
        }
      ]
    },
    {
      "cell_type": "code",
      "execution_count": null,
      "metadata": {
        "colab": {
          "base_uri": "https://localhost:8080/"
        },
        "id": "BZUseFDXUNNF",
        "outputId": "84d79354-4864-4048-e4e0-8975af40f0b4"
      },
      "outputs": [
        {
          "output_type": "execute_result",
          "data": {
            "text/plain": [
              "bool"
            ]
          },
          "metadata": {},
          "execution_count": 10
        }
      ],
      "source": [
        "a=True\n",
        "type(a)"
      ]
    },
    {
      "cell_type": "code",
      "execution_count": null,
      "metadata": {
        "colab": {
          "base_uri": "https://localhost:8080/"
        },
        "id": "eTWvUDAoUS3f",
        "outputId": "8b477ddd-f1b7-4a1f-d062-aaa58fb22089"
      },
      "outputs": [
        {
          "output_type": "execute_result",
          "data": {
            "text/plain": [
              "False"
            ]
          },
          "metadata": {},
          "execution_count": 11
        }
      ],
      "source": [
        "b =0\n",
        "bool(b)"
      ]
    },
    {
      "cell_type": "code",
      "execution_count": null,
      "metadata": {
        "colab": {
          "base_uri": "https://localhost:8080/"
        },
        "id": "lWwFAIvQUYo8",
        "outputId": "232a22fe-6e03-49b7-c894-942685514f66"
      },
      "outputs": [
        {
          "output_type": "execute_result",
          "data": {
            "text/plain": [
              "True"
            ]
          },
          "metadata": {},
          "execution_count": 12
        }
      ],
      "source": [
        "bool(5)"
      ]
    },
    {
      "cell_type": "code",
      "execution_count": null,
      "metadata": {
        "colab": {
          "base_uri": "https://localhost:8080/"
        },
        "id": "Xm1mwyiDUa8F",
        "outputId": "a577e38a-1fb9-42f1-bfaa-d3987d5d0399"
      },
      "outputs": [
        {
          "output_type": "execute_result",
          "data": {
            "text/plain": [
              "True"
            ]
          },
          "metadata": {},
          "execution_count": 13
        }
      ],
      "source": [
        "bool(-56)"
      ]
    },
    {
      "cell_type": "code",
      "execution_count": null,
      "metadata": {
        "colab": {
          "base_uri": "https://localhost:8080/"
        },
        "id": "mtPOloP9boTg",
        "outputId": "ee892422-eea0-4c4e-ee14-cae4ad66950b"
      },
      "outputs": [
        {
          "output_type": "stream",
          "name": "stdout",
          "text": [
            "None\n"
          ]
        }
      ],
      "source": [
        "value =None\n",
        "print(value)"
      ]
    },
    {
      "cell_type": "code",
      "execution_count": null,
      "metadata": {
        "id": "f9c-nnXbUdjx"
      },
      "outputs": [],
      "source": [
        "# everything except bool(0) gives True"
      ]
    },
    {
      "cell_type": "code",
      "execution_count": null,
      "metadata": {
        "colab": {
          "base_uri": "https://localhost:8080/"
        },
        "id": "aFq-3duAUzFK",
        "outputId": "71a43cee-d0fd-4628-f39f-73ff3319d65b"
      },
      "outputs": [
        {
          "output_type": "execute_result",
          "data": {
            "text/plain": [
              "0"
            ]
          },
          "metadata": {},
          "execution_count": 16
        }
      ],
      "source": [
        "0 and 1"
      ]
    },
    {
      "cell_type": "code",
      "execution_count": null,
      "metadata": {
        "colab": {
          "base_uri": "https://localhost:8080/"
        },
        "id": "-GK9Na6PU1y0",
        "outputId": "97955f9f-3b79-49aa-bbd2-bdb43046d265"
      },
      "outputs": [
        {
          "output_type": "execute_result",
          "data": {
            "text/plain": [
              "1"
            ]
          },
          "metadata": {},
          "execution_count": 17
        }
      ],
      "source": [
        "0 or 1"
      ]
    },
    {
      "cell_type": "code",
      "execution_count": null,
      "metadata": {
        "colab": {
          "base_uri": "https://localhost:8080/"
        },
        "id": "n4lJ8jSBU3wC",
        "outputId": "00d26cca-e088-448f-a326-e19e7010b131"
      },
      "outputs": [
        {
          "output_type": "execute_result",
          "data": {
            "text/plain": [
              "False"
            ]
          },
          "metadata": {},
          "execution_count": 18
        }
      ],
      "source": [
        "# !(0)  not working like that\n",
        "not (1)"
      ]
    },
    {
      "cell_type": "code",
      "execution_count": null,
      "metadata": {
        "colab": {
          "base_uri": "https://localhost:8080/"
        },
        "id": "Z8XKXUzqU56N",
        "outputId": "ccf7cbdb-e6af-4f95-dc60-70d06cb8b525"
      },
      "outputs": [
        {
          "output_type": "execute_result",
          "data": {
            "text/plain": [
              "True"
            ]
          },
          "metadata": {},
          "execution_count": 19
        }
      ],
      "source": [
        "not 0"
      ]
    },
    {
      "cell_type": "code",
      "source": [
        "not(int(bool(0)))"
      ],
      "metadata": {
        "colab": {
          "base_uri": "https://localhost:8080/"
        },
        "id": "BoLhvLiNupZT",
        "outputId": "bd55b0c6-42fb-4d70-a06f-77c36770ee7a"
      },
      "execution_count": null,
      "outputs": [
        {
          "output_type": "execute_result",
          "data": {
            "text/plain": [
              "True"
            ]
          },
          "metadata": {},
          "execution_count": 61
        }
      ]
    },
    {
      "cell_type": "code",
      "source": [
        "not False"
      ],
      "metadata": {
        "colab": {
          "base_uri": "https://localhost:8080/"
        },
        "id": "wqa3X8e5u6Pw",
        "outputId": "2a01f267-2aa6-4bac-b77b-5c00ce78d458"
      },
      "execution_count": null,
      "outputs": [
        {
          "output_type": "execute_result",
          "data": {
            "text/plain": [
              "True"
            ]
          },
          "metadata": {},
          "execution_count": 62
        }
      ]
    },
    {
      "cell_type": "code",
      "source": [
        "not(False*True)"
      ],
      "metadata": {
        "colab": {
          "base_uri": "https://localhost:8080/"
        },
        "id": "QKnLfD8Au9EG",
        "outputId": "28a9a6d0-738b-4a90-9289-6d08bf068b50"
      },
      "execution_count": null,
      "outputs": [
        {
          "output_type": "execute_result",
          "data": {
            "text/plain": [
              "True"
            ]
          },
          "metadata": {},
          "execution_count": 64
        }
      ]
    },
    {
      "cell_type": "code",
      "source": [
        "name1 =\"vanna\"\n",
        "name2=\"pista\"\n"
      ],
      "metadata": {
        "id": "qgbIg1X1vE-H"
      },
      "execution_count": null,
      "outputs": []
    },
    {
      "cell_type": "code",
      "source": [
        "name1 is name2"
      ],
      "metadata": {
        "colab": {
          "base_uri": "https://localhost:8080/"
        },
        "id": "y_HgbaKavQip",
        "outputId": "0e895aad-dccd-4cad-86cc-bfc17c69f706"
      },
      "execution_count": null,
      "outputs": [
        {
          "output_type": "execute_result",
          "data": {
            "text/plain": [
              "False"
            ]
          },
          "metadata": {},
          "execution_count": 68
        }
      ]
    },
    {
      "cell_type": "code",
      "source": [
        "print(id(name1))\n",
        "print(id(name2))     # id gives address\n"
      ],
      "metadata": {
        "colab": {
          "base_uri": "https://localhost:8080/"
        },
        "id": "DSp2hRSpwJY0",
        "outputId": "2f08b144-6da1-4e3e-937e-84c8a5479b39"
      },
      "execution_count": null,
      "outputs": [
        {
          "output_type": "stream",
          "name": "stdout",
          "text": [
            "140510842300592\n",
            "140510088648240\n"
          ]
        }
      ]
    },
    {
      "cell_type": "code",
      "source": [
        "here = [22,56,32]\n",
        "heres = [22,56,32]\n",
        "here is heres"
      ],
      "metadata": {
        "colab": {
          "base_uri": "https://localhost:8080/"
        },
        "id": "x0MGyyDyvYar",
        "outputId": "e8b5a8a9-7db0-4136-c141-925ebcca1cd6"
      },
      "execution_count": null,
      "outputs": [
        {
          "output_type": "execute_result",
          "data": {
            "text/plain": [
              "False"
            ]
          },
          "metadata": {},
          "execution_count": 69
        }
      ]
    },
    {
      "cell_type": "code",
      "source": [
        "here == heres   # checks values instead"
      ],
      "metadata": {
        "colab": {
          "base_uri": "https://localhost:8080/"
        },
        "id": "Gau1x4iIvi2y",
        "outputId": "23e153c4-d9d7-4733-ca54-b685154bd032"
      },
      "execution_count": null,
      "outputs": [
        {
          "output_type": "execute_result",
          "data": {
            "text/plain": [
              "True"
            ]
          },
          "metadata": {},
          "execution_count": 71
        }
      ]
    },
    {
      "cell_type": "code",
      "source": [
        "id(here)    #id is the objects memory address and gives different value everytime u run the program except objects that have constant unique ids , integer (-5 to 256)"
      ],
      "metadata": {
        "colab": {
          "base_uri": "https://localhost:8080/"
        },
        "id": "5A7zl1B3voyP",
        "outputId": "ca0c152e-e302-4ea5-8283-63c4b7b3bcf1"
      },
      "execution_count": null,
      "outputs": [
        {
          "output_type": "execute_result",
          "data": {
            "text/plain": [
              "140510088481792"
            ]
          },
          "metadata": {},
          "execution_count": 72
        }
      ]
    },
    {
      "cell_type": "code",
      "source": [
        "id(heres)"
      ],
      "metadata": {
        "colab": {
          "base_uri": "https://localhost:8080/"
        },
        "id": "4f91Ix19vsAc",
        "outputId": "a630be6a-245e-4eb2-a909-ec7c5e9c97cc"
      },
      "execution_count": null,
      "outputs": [
        {
          "output_type": "execute_result",
          "data": {
            "text/plain": [
              "140510088481536"
            ]
          },
          "metadata": {},
          "execution_count": 73
        }
      ]
    },
    {
      "cell_type": "code",
      "execution_count": null,
      "metadata": {
        "id": "O-sH4kfEWbw9"
      },
      "outputs": [],
      "source": [
        "# dynamic typing lang\n",
        "name =\"vanna\"\n"
      ]
    },
    {
      "cell_type": "code",
      "execution_count": null,
      "metadata": {
        "colab": {
          "base_uri": "https://localhost:8080/"
        },
        "id": "UuYf_uUkXDSV",
        "outputId": "ae4e4b50-9743-472c-dcca-a2e9061b5319"
      },
      "outputs": [
        {
          "output_type": "execute_result",
          "data": {
            "text/plain": [
              "25"
            ]
          },
          "metadata": {},
          "execution_count": 21
        }
      ],
      "source": [
        "name = 25\n",
        "name\n"
      ]
    },
    {
      "cell_type": "code",
      "execution_count": null,
      "metadata": {
        "colab": {
          "base_uri": "https://localhost:8080/"
        },
        "id": "T8OoCHlvXJqH",
        "outputId": "c5767661-4ad8-4030-a470-1812733be045"
      },
      "outputs": [
        {
          "output_type": "execute_result",
          "data": {
            "text/plain": [
              "' This is also a \\nperfect example of  \\nmulti-line comments '"
            ],
            "application/vnd.google.colaboratory.intrinsic+json": {
              "type": "string"
            }
          },
          "metadata": {},
          "execution_count": 22
        }
      ],
      "source": [
        "''' This is also a \n",
        "perfect example of  \n",
        "multi-line comments '''\n"
      ]
    },
    {
      "cell_type": "code",
      "execution_count": null,
      "metadata": {
        "colab": {
          "base_uri": "https://localhost:8080/"
        },
        "id": "MH5UAhVwYFwq",
        "outputId": "1848e9a9-27e4-4abd-abb0-0835b436e169"
      },
      "outputs": [
        {
          "output_type": "execute_result",
          "data": {
            "text/plain": [
              "'\\nhere is my multiline comment\\nwritten.\\n'"
            ],
            "application/vnd.google.colaboratory.intrinsic+json": {
              "type": "string"
            }
          },
          "metadata": {},
          "execution_count": 23
        }
      ],
      "source": [
        "\"\"\"\n",
        "here is my multiline comment\n",
        "written.\n",
        "\"\"\""
      ]
    },
    {
      "cell_type": "code",
      "execution_count": null,
      "metadata": {
        "colab": {
          "base_uri": "https://localhost:8080/"
        },
        "id": "KxDgtC19YjFg",
        "outputId": "def4b335-d930-4ba7-e7a6-a889d1fc5994"
      },
      "outputs": [
        {
          "output_type": "stream",
          "name": "stdout",
          "text": [
            "vanna\n"
          ]
        }
      ],
      "source": [
        "\"\"\"\n",
        "This is a multi-line comment with docstrings\n",
        "\n",
        "print(\"Hello world\")\n",
        "print(\"Hello universe\")\n",
        "print(\"Hello everyone\")\n",
        "\"\"\"\n",
        "print(\"vanna\")"
      ]
    },
    {
      "cell_type": "code",
      "execution_count": null,
      "metadata": {
        "colab": {
          "base_uri": "https://localhost:8080/"
        },
        "id": "tcWnH5r0Y4Je",
        "outputId": "6bafb903-6d0f-43c1-8010-82975353412b"
      },
      "outputs": [
        {
          "output_type": "execute_result",
          "data": {
            "text/plain": [
              "['apple', 'mango', 'grapes', 'orange', 'kiwi']"
            ]
          },
          "metadata": {},
          "execution_count": 25
        }
      ],
      "source": [
        "# lists :  an ordered collection of similar or different types of items separated by commas and enclosed within brackets [ ]\n",
        "\n",
        "fruits= [\"apple\",\"mango\",\"grapes\",\"orange\",\"kiwi\"]\n",
        "fruits"
      ]
    },
    {
      "cell_type": "code",
      "execution_count": null,
      "metadata": {
        "colab": {
          "base_uri": "https://localhost:8080/"
        },
        "id": "RQ-g5S1hhH5d",
        "outputId": "6d79f8b6-55bf-4d51-e16a-04304c190f47"
      },
      "outputs": [
        {
          "output_type": "execute_result",
          "data": {
            "text/plain": [
              "list"
            ]
          },
          "metadata": {},
          "execution_count": 26
        }
      ],
      "source": [
        "type(fruits)"
      ]
    },
    {
      "cell_type": "code",
      "execution_count": null,
      "metadata": {
        "colab": {
          "base_uri": "https://localhost:8080/"
        },
        "id": "WvNStMOghLnf",
        "outputId": "f6b02865-dbfc-498c-b6b7-e2998dacadcc"
      },
      "outputs": [
        {
          "output_type": "execute_result",
          "data": {
            "text/plain": [
              "['apple', 'mango', 'grapes', 'orange', 'kiwi']"
            ]
          },
          "metadata": {},
          "execution_count": 27
        }
      ],
      "source": [
        "fruits[0] # indexing\n",
        "fruits[:]  # slicing"
      ]
    },
    {
      "cell_type": "code",
      "execution_count": null,
      "metadata": {
        "colab": {
          "base_uri": "https://localhost:8080/"
        },
        "id": "lY0S_yLghQ7P",
        "outputId": "e1f3a5b1-9447-46ee-fd73-cf3456729766"
      },
      "outputs": [
        {
          "output_type": "execute_result",
          "data": {
            "text/plain": [
              "tuple"
            ]
          },
          "metadata": {},
          "execution_count": 28
        }
      ],
      "source": [
        "# tuples : ordered sequence of items same as a list. only diff is that a tuple is immutable\n",
        "\n",
        "alphabets = ('a','b','c','d')\n",
        "type(alphabets)"
      ]
    },
    {
      "cell_type": "code",
      "execution_count": null,
      "metadata": {
        "colab": {
          "base_uri": "https://localhost:8080/"
        },
        "id": "alPYcYOtjR_U",
        "outputId": "47cc5138-03ca-4481-ef67-b91a86076b69"
      },
      "outputs": [
        {
          "output_type": "stream",
          "name": "stdout",
          "text": [
            "c\n"
          ]
        },
        {
          "output_type": "execute_result",
          "data": {
            "text/plain": [
              "('c', 'd')"
            ]
          },
          "metadata": {},
          "execution_count": 29
        }
      ],
      "source": [
        "print(alphabets[2])   # indexing\n",
        "alphabets[2:]   # slicing\n"
      ]
    },
    {
      "cell_type": "code",
      "execution_count": null,
      "metadata": {
        "id": "M4Xy0pIVjZFa"
      },
      "outputs": [],
      "source": [
        "# alphabets[0] ='x'\n",
        "# tuple' object does not support item assignment  bcz tuple is immutable "
      ]
    },
    {
      "cell_type": "code",
      "execution_count": null,
      "metadata": {
        "colab": {
          "base_uri": "https://localhost:8080/"
        },
        "id": "S9hcePxQjthx",
        "outputId": "ec9349bf-b247-4404-ad40-7776f5cd5257"
      },
      "outputs": [
        {
          "output_type": "execute_result",
          "data": {
            "text/plain": [
              "dict"
            ]
          },
          "metadata": {},
          "execution_count": 31
        }
      ],
      "source": [
        "# dictionary : python dictionary is an ordered collection of items. It stores elements in key/value pairs.\n",
        "\n",
        "capitals = {\"India\" : \"Delhi\" , \"USA\" : \"washington DC\", \"Germany\" : \"Berlin\", \"Spain\": \"Madrid\"}\n",
        "type(capitals)"
      ]
    },
    {
      "cell_type": "code",
      "execution_count": null,
      "metadata": {
        "id": "7lKfDzsMksLG",
        "colab": {
          "base_uri": "https://localhost:8080/",
          "height": 35
        },
        "outputId": "96dd7aff-c61f-476e-d303-9e212490b563"
      },
      "outputs": [
        {
          "output_type": "execute_result",
          "data": {
            "text/plain": [
              "'Madrid'"
            ],
            "application/vnd.google.colaboratory.intrinsic+json": {
              "type": "string"
            }
          },
          "metadata": {},
          "execution_count": 46
        }
      ],
      "source": [
        "capitals['Spain']"
      ]
    },
    {
      "cell_type": "code",
      "execution_count": null,
      "metadata": {
        "colab": {
          "base_uri": "https://localhost:8080/"
        },
        "id": "aQIBFqswlRA-",
        "outputId": "edc44460-00e5-4523-997b-2f0445cb5570"
      },
      "outputs": [
        {
          "output_type": "execute_result",
          "data": {
            "text/plain": [
              "set"
            ]
          },
          "metadata": {},
          "execution_count": 47
        }
      ],
      "source": [
        "# sets:  Set is an unordered collection of unique items. Set is defined by values separated by commas inside braces { }\n",
        "\n",
        "dishes  = {\"Dosa\",\"Dal makhani\",\"Pav Bhaji\",\"Chole Bhature\"}\n",
        "type(dishes)"
      ]
    },
    {
      "cell_type": "code",
      "execution_count": null,
      "metadata": {
        "id": "wDLZqkvam5NX"
      },
      "outputs": [],
      "source": [
        "# dishes[0]       #'set' object is not subscriptable\n",
        " # indexing cant be done and similarly slicing also can tbe done bcz sets are not subscriptable thats why it is unordered"
      ]
    },
    {
      "cell_type": "code",
      "execution_count": null,
      "metadata": {
        "id": "Apjd5O-Qm7Gc"
      },
      "outputs": [],
      "source": [
        "# There are two types of type conversion in Python.\n",
        "\n",
        "#     Implicit Conversion - automatic type conversion\n",
        "#     Explicit Conversion - manual type conversion\n"
      ]
    },
    {
      "cell_type": "code",
      "execution_count": null,
      "metadata": {
        "colab": {
          "base_uri": "https://localhost:8080/"
        },
        "id": "lChPKKngnNyZ",
        "outputId": "f4be44e1-878a-4f8e-ecff-9dc5095f84fa"
      },
      "outputs": [
        {
          "output_type": "execute_result",
          "data": {
            "text/plain": [
              "24.2"
            ]
          },
          "metadata": {},
          "execution_count": 35
        }
      ],
      "source": [
        "\n",
        "num1 = 12\n",
        "num2  =12.2\n",
        "sum = num1 + num2    # implicit type conversion\n",
        "sum"
      ]
    },
    {
      "cell_type": "code",
      "execution_count": null,
      "metadata": {
        "colab": {
          "base_uri": "https://localhost:8080/"
        },
        "id": "BZHwuPfZn289",
        "outputId": "56e2925c-7356-40c8-9f97-99900eaf6696"
      },
      "outputs": [
        {
          "output_type": "execute_result",
          "data": {
            "text/plain": [
              "22"
            ]
          },
          "metadata": {},
          "execution_count": 36
        }
      ],
      "source": [
        "\n",
        "x = \"12\"\n",
        "y = 10\n",
        "sum = int (x) + y   # explicit type conversion\n",
        "sum"
      ]
    },
    {
      "cell_type": "markdown",
      "source": [
        "# types of operators:\n"
      ],
      "metadata": {
        "id": "ZaRMkQih6eqf"
      }
    },
    {
      "cell_type": "markdown",
      "source": [
        "## 1.  Arithmatic ops: + , - , * , / ,  //\n",
        "## 2.  logical ops :   AND, OR , NOT gates\n",
        "## 3.  comparison ops: ==  , != , <= , >=\n",
        "## 4.  Assignment ops: += , -= ,*= , /=\n",
        "## 5.  Membership ops : in  , not in \n",
        "## 6.  python identity ops: is , is not\n",
        "## 7.  bitwise ops:  &(and) , |(or) ,  ^ (xor), ~(not) , <<(zero fill left   shift) , >>(signed right shift)\n"
      ],
      "metadata": {
        "id": "bR8946H_6l84"
      }
    },
    {
      "cell_type": "markdown",
      "metadata": {
        "id": "ezfXybNBrLeI"
      },
      "source": [
        "### String concatination"
      ]
    },
    {
      "cell_type": "code",
      "execution_count": null,
      "metadata": {
        "colab": {
          "base_uri": "https://localhost:8080/"
        },
        "id": "pCmxdEZnqzKZ",
        "outputId": "9d0e9fbb-1690-4378-bf73-15480a1547c4"
      },
      "outputs": [
        {
          "output_type": "execute_result",
          "data": {
            "text/plain": [
              "'22222'"
            ],
            "application/vnd.google.colaboratory.intrinsic+json": {
              "type": "string"
            }
          },
          "metadata": {},
          "execution_count": 37
        }
      ],
      "source": [
        "'2'* 5"
      ]
    },
    {
      "cell_type": "code",
      "execution_count": null,
      "metadata": {
        "colab": {
          "base_uri": "https://localhost:8080/"
        },
        "id": "8h-YBZL3rBuc",
        "outputId": "c2986c08-e70e-4bc8-d973-99e850fa9ebc"
      },
      "outputs": [
        {
          "output_type": "execute_result",
          "data": {
            "text/plain": [
              "'12'"
            ],
            "application/vnd.google.colaboratory.intrinsic+json": {
              "type": "string"
            }
          },
          "metadata": {},
          "execution_count": 38
        }
      ],
      "source": [
        "\"1\"  + \"2\""
      ]
    },
    {
      "cell_type": "code",
      "execution_count": null,
      "metadata": {
        "colab": {
          "base_uri": "https://localhost:8080/"
        },
        "id": "9BsD89Q2rF3a",
        "outputId": "8b927bb8-95fb-40b6-bcbd-daba86121907"
      },
      "outputs": [
        {
          "output_type": "execute_result",
          "data": {
            "text/plain": [
              "'vanna sharma'"
            ],
            "application/vnd.google.colaboratory.intrinsic+json": {
              "type": "string"
            }
          },
          "metadata": {},
          "execution_count": 39
        }
      ],
      "source": [
        "\"vanna \" + \"sharma\""
      ]
    },
    {
      "cell_type": "code",
      "execution_count": null,
      "metadata": {
        "colab": {
          "base_uri": "https://localhost:8080/"
        },
        "id": "HXZRuh2mrSws",
        "outputId": "2d90136e-2749-4825-a9e1-110d739d375c"
      },
      "outputs": [
        {
          "output_type": "stream",
          "name": "stdout",
          "text": [
            "good morning  have a nice day\n"
          ]
        }
      ],
      "source": [
        "print(\"good morning \" ,end = \" \")\n",
        "print(\"have a nice day\")"
      ]
    },
    {
      "cell_type": "code",
      "execution_count": null,
      "metadata": {
        "colab": {
          "base_uri": "https://localhost:8080/"
        },
        "id": "TKlQYzistd5Y",
        "outputId": "b68d4faf-96b2-46c6-ea8c-f76aa618e4d4"
      },
      "outputs": [
        {
          "output_type": "stream",
          "name": "stdout",
          "text": [
            " x is 5 and y is 6\n"
          ]
        }
      ],
      "source": [
        "x, y= 5,6\n",
        "print (\" x is {} and y is {}\".format(x,y))"
      ]
    },
    {
      "cell_type": "code",
      "execution_count": null,
      "metadata": {
        "colab": {
          "base_uri": "https://localhost:8080/"
        },
        "id": "zkTqhtCWuNhy",
        "outputId": "8cdf37cb-f7b3-4b7d-a761-b9ec6ab03987"
      },
      "outputs": [
        {
          "output_type": "stream",
          "name": "stdout",
          "text": [
            "Enter prompt : vandana\n",
            "you entered  vandana\n"
          ]
        }
      ],
      "source": [
        "prompt = input(\"Enter prompt : \")               # input always takes input as string\n",
        "# print(\"you entered : {}\".format(prompt))      # .formatting method\n",
        "print(f\"you entered  {prompt}\")                 # fstrings"
      ]
    },
    {
      "cell_type": "code",
      "execution_count": null,
      "metadata": {
        "id": "rzXBjMrE_QYq",
        "colab": {
          "base_uri": "https://localhost:8080/"
        },
        "outputId": "38dee228-3ef0-444f-9c7f-2e89d6a2c60e"
      },
      "outputs": [
        {
          "output_type": "stream",
          "name": "stdout",
          "text": [
            "enter num1: 5\n",
            "enter num2 : 6\n",
            "11\n",
            "5 and 6 sum up to  11\n"
          ]
        }
      ],
      "source": [
        "num1 =int(input(\"enter num1: \"))\n",
        "num2= int(input(\"enter num2 : \"))\n",
        "\n",
        "sum = num1 +num2 \n",
        "print(sum)\n",
        "print(f\"{num1} and {num2} sum up to \", num1 +num2)\n"
      ]
    },
    {
      "cell_type": "code",
      "execution_count": null,
      "metadata": {
        "colab": {
          "base_uri": "https://localhost:8080/"
        },
        "id": "fVsPNCVjap1j",
        "outputId": "ef21641c-a431-44f2-cb60-26f44f9155f9"
      },
      "outputs": [
        {
          "output_type": "stream",
          "name": "stdout",
          "text": [
            "enter product price: 1500\n",
            "price is 1200.0\n"
          ]
        }
      ],
      "source": [
        " # task 2 : \n",
        "    # input product price\n",
        "    # if produc price >1000, 20% discount\n",
        "    # if product price <=1000, 30% discount\n",
        "    \n",
        "price = int(input(\"enter product price: \"))\n",
        "if price>1000:\n",
        "    price = price - price *(20/100)\n",
        "    print(f\"price is {price}\")\n",
        "\n",
        "else:\n",
        "    price = price -price*(30/100)\n",
        "    print(f\"price is {price}\")\n",
        "    "
      ]
    },
    {
      "cell_type": "code",
      "execution_count": null,
      "metadata": {
        "id": "bnSQ9INjAXy0",
        "colab": {
          "base_uri": "https://localhost:8080/"
        },
        "outputId": "bba83886-5551-46fa-b9b3-e292bc4c583d"
      },
      "outputs": [
        {
          "output_type": "stream",
          "name": "stdout",
          "text": [
            "enter product price: 2000\n",
            "price is 1200.0\n"
          ]
        }
      ],
      "source": [
        "price = int(input(\"enter product price: \"))\n",
        "if price>3000:\n",
        "    price = price - price *(30/100)\n",
        "    print(f\"price is {price}\")\n",
        "\n",
        "\n",
        "elif(price>2000 and price <=3000):\n",
        "    \n",
        "    price = price -price*(20/100)\n",
        "    print(f\"price is {price}\")\n",
        "\n",
        "elif( price<=2000 ):\n",
        "\n",
        "   price = price -price*(40/100)\n",
        "   print(f\"price is {price}\")\n",
        "\n",
        "\n",
        "    "
      ]
    },
    {
      "cell_type": "code",
      "execution_count": null,
      "metadata": {
        "id": "5lYEHe4lZR75",
        "colab": {
          "base_uri": "https://localhost:8080/"
        },
        "outputId": "3ce210f4-d843-41a1-f614-ea3dba0278b3"
      },
      "outputs": [
        {
          "output_type": "stream",
          "name": "stdout",
          "text": [
            "enter product price: 3300\n",
            "price is 2310.0\n"
          ]
        }
      ],
      "source": [
        "price = int(input(\"enter product price: \"))\n",
        "if price>3000:\n",
        "  if price==4000:\n",
        "    print(\"you geta goa trip\")\n",
        "  price = price - price *(30/100)\n",
        "  print(f\"price is {price}\")\n",
        "\n",
        "\n",
        "elif(price>=2000 and price <=3000):\n",
        "    if(price ==2999):\n",
        "      print(\"you'll get a special\")\n",
        "    price = price -price*(20/100)\n",
        "    print(f\"price is {price}\")\n",
        "\n",
        "\n",
        "elif( price<=2000 ):\n",
        "   price = price -price*(40/100)\n",
        "   print(f\"price is {price}\")\n"
      ]
    },
    {
      "cell_type": "markdown",
      "source": [
        "## pattern printing"
      ],
      "metadata": {
        "id": "saiuH2dbqMnM"
      }
    },
    {
      "cell_type": "code",
      "execution_count": null,
      "metadata": {
        "id": "-ApdnvLQagb3",
        "colab": {
          "base_uri": "https://localhost:8080/"
        },
        "outputId": "125f7e88-145f-4ecc-c619-6d287d7a8dc1"
      },
      "outputs": [
        {
          "output_type": "stream",
          "name": "stdout",
          "text": [
            "*\r\n",
            "**\r\n",
            "***\r\n",
            "****\r\n",
            "*****\r\n",
            "******\r\n"
          ]
        }
      ],
      "source": [
        "n = 6\n",
        "for i in range(0,n):\n",
        "  for  j in range(0, i+1):\n",
        "    print(\"*\",end='')\n",
        "  print(\"\\r\")\n",
        "  # break"
      ]
    },
    {
      "cell_type": "code",
      "source": [
        "# priniting equilateral pattern\n",
        "n =int(input(\"enter no. of rows: \"))\n",
        "for i in range (n):\n",
        "  for j in range(n-i-1):\n",
        "    print(\" \",end=\"\")\n",
        "  for j in range(i+1):\n",
        "    print(\"*\",end=\" \")\n",
        "  print()\n",
        "\n"
      ],
      "metadata": {
        "colab": {
          "base_uri": "https://localhost:8080/"
        },
        "id": "jgdgXaE2vlYC",
        "outputId": "868d6335-48d7-4909-a4d1-68bebbdf111a"
      },
      "execution_count": null,
      "outputs": [
        {
          "output_type": "stream",
          "name": "stdout",
          "text": [
            "enter no. of rows: 6\n",
            "     * \n",
            "    * * \n",
            "   * * * \n",
            "  * * * * \n",
            " * * * * * \n",
            "* * * * * * \n"
          ]
        }
      ]
    },
    {
      "cell_type": "code",
      "execution_count": null,
      "metadata": {
        "id": "KsF5PZNrsQzc"
      },
      "outputs": [],
      "source": [
        "str1= \"vanna\"\n"
      ]
    },
    {
      "cell_type": "code",
      "execution_count": null,
      "metadata": {
        "id": "DGUhtvZViqOY",
        "colab": {
          "base_uri": "https://localhost:8080/",
          "height": 35
        },
        "outputId": "558802b2-6391-473b-e1e9-e60b26fbf31a"
      },
      "outputs": [
        {
          "output_type": "execute_result",
          "data": {
            "text/plain": [
              "'a'"
            ],
            "application/vnd.google.colaboratory.intrinsic+json": {
              "type": "string"
            }
          },
          "metadata": {},
          "execution_count": 56
        }
      ],
      "source": [
        "str1[-1:len(str1)]"
      ]
    },
    {
      "cell_type": "code",
      "execution_count": null,
      "metadata": {
        "id": "-27yd5YUlxp6",
        "colab": {
          "base_uri": "https://localhost:8080/",
          "height": 35
        },
        "outputId": "2cda7e07-4233-49a0-aaad-9b176b30d9cc"
      },
      "outputs": [
        {
          "output_type": "execute_result",
          "data": {
            "text/plain": [
              "'vanna'"
            ],
            "application/vnd.google.colaboratory.intrinsic+json": {
              "type": "string"
            }
          },
          "metadata": {},
          "execution_count": 57
        }
      ],
      "source": [
        "str1[::]"
      ]
    },
    {
      "cell_type": "code",
      "execution_count": null,
      "metadata": {
        "id": "kr41rDgKmcG3",
        "colab": {
          "base_uri": "https://localhost:8080/",
          "height": 35
        },
        "outputId": "269821d5-173f-4226-8d7a-1af78871bf6d"
      },
      "outputs": [
        {
          "output_type": "execute_result",
          "data": {
            "text/plain": [
              "'annav'"
            ],
            "application/vnd.google.colaboratory.intrinsic+json": {
              "type": "string"
            }
          },
          "metadata": {},
          "execution_count": 58
        }
      ],
      "source": [
        "str1[::-1]"
      ]
    },
    {
      "cell_type": "code",
      "execution_count": null,
      "metadata": {
        "id": "_uQVXPFTmfFU"
      },
      "outputs": [],
      "source": [
        "# str1.reversed()  # it's not used like that"
      ]
    },
    {
      "cell_type": "markdown",
      "source": [
        "## strings and in built string functions"
      ],
      "metadata": {
        "id": "6CZMu6LZ2p7k"
      }
    },
    {
      "cell_type": "code",
      "execution_count": null,
      "metadata": {
        "id": "9J_o8PlP2luS"
      },
      "outputs": [],
      "source": [
        "city = 'bhiwani'\n"
      ]
    },
    {
      "cell_type": "code",
      "source": [
        "city = 'delhi'"
      ],
      "metadata": {
        "id": "vOoSvKd8yK_W"
      },
      "execution_count": null,
      "outputs": []
    },
    {
      "cell_type": "code",
      "source": [
        "# city[0] = 'B'                             #'str' object does not support item assignment  , thats why strings are said to be immutable but can be updated tho"
      ],
      "metadata": {
        "id": "mRI2WlulyNTa"
      },
      "execution_count": null,
      "outputs": []
    },
    {
      "cell_type": "code",
      "source": [
        "city"
      ],
      "metadata": {
        "colab": {
          "base_uri": "https://localhost:8080/",
          "height": 35
        },
        "id": "XOuIauj7ySRM",
        "outputId": "65b97261-68c9-4679-9d9f-41b8f069d6f8"
      },
      "execution_count": null,
      "outputs": [
        {
          "output_type": "execute_result",
          "data": {
            "text/plain": [
              "'delhi'"
            ],
            "application/vnd.google.colaboratory.intrinsic+json": {
              "type": "string"
            }
          },
          "metadata": {},
          "execution_count": 80
        }
      ]
    },
    {
      "cell_type": "code",
      "source": [
        "name =  \"vandana sharma\" \n",
        "name.capitalize()"
      ],
      "metadata": {
        "colab": {
          "base_uri": "https://localhost:8080/",
          "height": 35
        },
        "id": "HGsT0O7Ey7FW",
        "outputId": "7e04d513-9bd3-4f14-b86d-4192f8967a45"
      },
      "execution_count": null,
      "outputs": [
        {
          "output_type": "execute_result",
          "data": {
            "text/plain": [
              "'Vandana sharma'"
            ],
            "application/vnd.google.colaboratory.intrinsic+json": {
              "type": "string"
            }
          },
          "metadata": {},
          "execution_count": 84
        }
      ]
    },
    {
      "cell_type": "code",
      "source": [
        "name.title()"
      ],
      "metadata": {
        "colab": {
          "base_uri": "https://localhost:8080/",
          "height": 35
        },
        "id": "NJaqSJK231US",
        "outputId": "e8e34e32-008a-4992-bd55-00671c6f6f2a"
      },
      "execution_count": null,
      "outputs": [
        {
          "output_type": "execute_result",
          "data": {
            "text/plain": [
              "'Vandana Sharma'"
            ],
            "application/vnd.google.colaboratory.intrinsic+json": {
              "type": "string"
            }
          },
          "metadata": {},
          "execution_count": 85
        }
      ]
    },
    {
      "cell_type": "code",
      "source": [
        "name.swapcase()"
      ],
      "metadata": {
        "colab": {
          "base_uri": "https://localhost:8080/",
          "height": 35
        },
        "id": "sar7KySP33lu",
        "outputId": "a26f1f3b-3f5a-4d34-d543-62f2d4e5c657"
      },
      "execution_count": null,
      "outputs": [
        {
          "output_type": "execute_result",
          "data": {
            "text/plain": [
              "'VANDANA SHARMA'"
            ],
            "application/vnd.google.colaboratory.intrinsic+json": {
              "type": "string"
            }
          },
          "metadata": {},
          "execution_count": 86
        }
      ]
    },
    {
      "cell_type": "code",
      "source": [
        "str1= \" pista \""
      ],
      "metadata": {
        "id": "VD8VdQiv-jnM"
      },
      "execution_count": null,
      "outputs": []
    },
    {
      "cell_type": "code",
      "source": [
        "str1.lstrip()"
      ],
      "metadata": {
        "colab": {
          "base_uri": "https://localhost:8080/",
          "height": 35
        },
        "id": "9sX_xF5E-OOj",
        "outputId": "93cac5f9-87df-402c-a23a-d8a90fee8682"
      },
      "execution_count": null,
      "outputs": [
        {
          "output_type": "execute_result",
          "data": {
            "text/plain": [
              "'pista '"
            ],
            "application/vnd.google.colaboratory.intrinsic+json": {
              "type": "string"
            }
          },
          "metadata": {},
          "execution_count": 112
        }
      ]
    },
    {
      "cell_type": "code",
      "source": [
        "str1.rstrip()"
      ],
      "metadata": {
        "colab": {
          "base_uri": "https://localhost:8080/",
          "height": 35
        },
        "id": "_qPtDAYh-WOf",
        "outputId": "b9e39f83-3dbe-412d-ff53-b48d1e855fab"
      },
      "execution_count": null,
      "outputs": [
        {
          "output_type": "execute_result",
          "data": {
            "text/plain": [
              "' pista'"
            ],
            "application/vnd.google.colaboratory.intrinsic+json": {
              "type": "string"
            }
          },
          "metadata": {},
          "execution_count": 113
        }
      ]
    },
    {
      "cell_type": "code",
      "source": [
        "name.replace(\"vandana\",\"pista\")"
      ],
      "metadata": {
        "colab": {
          "base_uri": "https://localhost:8080/",
          "height": 35
        },
        "id": "IGsQ4k-N-Y6D",
        "outputId": "22fe88e3-a4dd-43f6-e6be-ed71ce6a74fe"
      },
      "execution_count": null,
      "outputs": [
        {
          "output_type": "execute_result",
          "data": {
            "text/plain": [
              "'pista sharma'"
            ],
            "application/vnd.google.colaboratory.intrinsic+json": {
              "type": "string"
            }
          },
          "metadata": {},
          "execution_count": 114
        }
      ]
    },
    {
      "cell_type": "code",
      "source": [
        "name[::-1]"
      ],
      "metadata": {
        "colab": {
          "base_uri": "https://localhost:8080/",
          "height": 35
        },
        "id": "nl45oC1X_Zjh",
        "outputId": "810e4140-4ba5-411b-98ff-5cf8145f23ca"
      },
      "execution_count": null,
      "outputs": [
        {
          "output_type": "execute_result",
          "data": {
            "text/plain": [
              "'amrahs anadnav'"
            ],
            "application/vnd.google.colaboratory.intrinsic+json": {
              "type": "string"
            }
          },
          "metadata": {},
          "execution_count": 115
        }
      ]
    },
    {
      "cell_type": "code",
      "source": [
        "str2 = \"welcome here. welcome to Dat cience course\"\n",
        "str2.replace(\"Dat\",\"Data\").replace(\"cience\",\"science\")"
      ],
      "metadata": {
        "colab": {
          "base_uri": "https://localhost:8080/",
          "height": 35
        },
        "id": "hEbG6fiI_dWv",
        "outputId": "31eec3d7-032e-4a90-923e-1616030a147a"
      },
      "execution_count": null,
      "outputs": [
        {
          "output_type": "execute_result",
          "data": {
            "text/plain": [
              "'welcome here. welcome to Data science course'"
            ],
            "application/vnd.google.colaboratory.intrinsic+json": {
              "type": "string"
            }
          },
          "metadata": {},
          "execution_count": 116
        }
      ]
    },
    {
      "cell_type": "code",
      "source": [
        "reversed(str1)   # gives the address only"
      ],
      "metadata": {
        "colab": {
          "base_uri": "https://localhost:8080/"
        },
        "id": "S7nGE_bcA9oG",
        "outputId": "ea8f6fac-97f4-4338-8c5f-3ab63dc7c51f"
      },
      "execution_count": null,
      "outputs": [
        {
          "output_type": "execute_result",
          "data": {
            "text/plain": [
              "<reversed at 0x7fcb0dda6160>"
            ]
          },
          "metadata": {},
          "execution_count": 125
        }
      ]
    },
    {
      "cell_type": "code",
      "source": [
        "list(reversed(str1))    # reversed is an sequence iterator , thats why it needs to be typcated into list\n"
      ],
      "metadata": {
        "colab": {
          "base_uri": "https://localhost:8080/"
        },
        "id": "V8AqJmRRBonI",
        "outputId": "ec141a76-3521-4bc0-fae3-11ea34a7f9ef"
      },
      "execution_count": null,
      "outputs": [
        {
          "output_type": "execute_result",
          "data": {
            "text/plain": [
              "[' ', 'a', 't', 's', 'i', 'p', ' ']"
            ]
          },
          "metadata": {},
          "execution_count": 119
        }
      ]
    },
    {
      "cell_type": "code",
      "source": [
        "\" \".join(\"and\")\n"
      ],
      "metadata": {
        "colab": {
          "base_uri": "https://localhost:8080/",
          "height": 35
        },
        "id": "3DifpulOBujh",
        "outputId": "5d36187a-71c3-49a6-f6e4-0ce8560e8093"
      },
      "execution_count": null,
      "outputs": [
        {
          "output_type": "execute_result",
          "data": {
            "text/plain": [
              "'a n d'"
            ],
            "application/vnd.google.colaboratory.intrinsic+json": {
              "type": "string"
            }
          },
          "metadata": {},
          "execution_count": 121
        }
      ]
    },
    {
      "cell_type": "code",
      "source": [
        "\" \".join(reversed(\"and\"))\n"
      ],
      "metadata": {
        "colab": {
          "base_uri": "https://localhost:8080/",
          "height": 35
        },
        "id": "f4BkIje-Cdsn",
        "outputId": "845f6087-cebb-4379-e402-7bb40fc4df53"
      },
      "execution_count": null,
      "outputs": [
        {
          "output_type": "execute_result",
          "data": {
            "text/plain": [
              "'d n a'"
            ],
            "application/vnd.google.colaboratory.intrinsic+json": {
              "type": "string"
            }
          },
          "metadata": {},
          "execution_count": 124
        }
      ]
    },
    {
      "cell_type": "code",
      "source": [
        " # reveresed works as an swquence iterator\n",
        "print(list(reversed(\"vanna\")))\n",
        "print(tuple(reversed(\"vanna\")))\n",
        "print(set(reversed(\"vanna\")))   # only has unique values"
      ],
      "metadata": {
        "colab": {
          "base_uri": "https://localhost:8080/"
        },
        "id": "DW929w-WCqe-",
        "outputId": "6a7c857f-d9da-49e6-b546-630731b8c1d8"
      },
      "execution_count": null,
      "outputs": [
        {
          "output_type": "stream",
          "name": "stdout",
          "text": [
            "['a', 'n', 'n', 'a', 'v']\n",
            "('a', 'n', 'n', 'a', 'v')\n",
            "{'a', 'n', 'v'}\n"
          ]
        }
      ]
    },
    {
      "cell_type": "code",
      "source": [
        "\"vanna\"[::-1]"
      ],
      "metadata": {
        "colab": {
          "base_uri": "https://localhost:8080/",
          "height": 35
        },
        "id": "lGt2Z5uXDNgW",
        "outputId": "cbf05f39-b1e7-4f36-90f7-aa72dc59899e"
      },
      "execution_count": null,
      "outputs": [
        {
          "output_type": "execute_result",
          "data": {
            "text/plain": [
              "'annav'"
            ],
            "application/vnd.google.colaboratory.intrinsic+json": {
              "type": "string"
            }
          },
          "metadata": {},
          "execution_count": 129
        }
      ]
    },
    {
      "cell_type": "code",
      "source": [
        "naam = \"vanna\""
      ],
      "metadata": {
        "id": "E6egLhApDTHe"
      },
      "execution_count": null,
      "outputs": []
    },
    {
      "cell_type": "code",
      "source": [
        "naam.isalpha()"
      ],
      "metadata": {
        "colab": {
          "base_uri": "https://localhost:8080/"
        },
        "id": "RIwkMZCzEFuC",
        "outputId": "3903e18e-f007-4e70-d6c8-f818e59d0de2"
      },
      "execution_count": null,
      "outputs": [
        {
          "output_type": "execute_result",
          "data": {
            "text/plain": [
              "True"
            ]
          },
          "metadata": {},
          "execution_count": 136
        }
      ]
    },
    {
      "cell_type": "code",
      "source": [
        "naam.isalnum()"
      ],
      "metadata": {
        "colab": {
          "base_uri": "https://localhost:8080/"
        },
        "id": "wFwMq51mEJbS",
        "outputId": "53791828-f343-4de2-bf07-629b84a3d3bc"
      },
      "execution_count": null,
      "outputs": [
        {
          "output_type": "execute_result",
          "data": {
            "text/plain": [
              "True"
            ]
          },
          "metadata": {},
          "execution_count": 137
        }
      ]
    },
    {
      "cell_type": "code",
      "source": [
        "name.islower()"
      ],
      "metadata": {
        "colab": {
          "base_uri": "https://localhost:8080/"
        },
        "id": "ADv3kXndENCW",
        "outputId": "fe07d902-32e0-44c4-b797-2ecb6479190c"
      },
      "execution_count": null,
      "outputs": [
        {
          "output_type": "execute_result",
          "data": {
            "text/plain": [
              "True"
            ]
          },
          "metadata": {},
          "execution_count": 138
        }
      ]
    },
    {
      "cell_type": "code",
      "source": [
        "name.isupper()"
      ],
      "metadata": {
        "colab": {
          "base_uri": "https://localhost:8080/"
        },
        "id": "4C8yhKF7EP6a",
        "outputId": "c8390f65-e695-4132-d139-de92178768e6"
      },
      "execution_count": null,
      "outputs": [
        {
          "output_type": "execute_result",
          "data": {
            "text/plain": [
              "False"
            ]
          },
          "metadata": {},
          "execution_count": 139
        }
      ]
    },
    {
      "cell_type": "code",
      "source": [
        "here = \"chatgpt is only trained upto 2021\"\n",
        "here.count(\"only\")"
      ],
      "metadata": {
        "colab": {
          "base_uri": "https://localhost:8080/"
        },
        "id": "e-1q4cc-ER4m",
        "outputId": "4b390770-695e-46b7-e37b-9a287c395025"
      },
      "execution_count": null,
      "outputs": [
        {
          "output_type": "execute_result",
          "data": {
            "text/plain": [
              "1"
            ]
          },
          "metadata": {},
          "execution_count": 160
        }
      ]
    },
    {
      "cell_type": "code",
      "source": [
        "len(naam)"
      ],
      "metadata": {
        "colab": {
          "base_uri": "https://localhost:8080/"
        },
        "id": "I_RivsB0EXyT",
        "outputId": "94e683bf-cef5-434b-fca7-424ea476219d"
      },
      "execution_count": null,
      "outputs": [
        {
          "output_type": "execute_result",
          "data": {
            "text/plain": [
              "5"
            ]
          },
          "metadata": {},
          "execution_count": 163
        }
      ]
    },
    {
      "cell_type": "code",
      "source": [
        "\"Hello \\tworld\""
      ],
      "metadata": {
        "colab": {
          "base_uri": "https://localhost:8080/",
          "height": 35
        },
        "id": "Wr3PDkr0G7e8",
        "outputId": "97719a04-708a-4e0c-96d5-16f5474a797d"
      },
      "execution_count": null,
      "outputs": [
        {
          "output_type": "execute_result",
          "data": {
            "text/plain": [
              "'Hello \\tworld'"
            ],
            "application/vnd.google.colaboratory.intrinsic+json": {
              "type": "string"
            }
          },
          "metadata": {},
          "execution_count": 164
        }
      ]
    },
    {
      "cell_type": "code",
      "source": [
        "\"Hello \\tworld\".expandtabs()"
      ],
      "metadata": {
        "colab": {
          "base_uri": "https://localhost:8080/",
          "height": 35
        },
        "id": "-C6z49WYHcpW",
        "outputId": "53c44d34-a483-47db-d877-b3280d148333"
      },
      "execution_count": null,
      "outputs": [
        {
          "output_type": "execute_result",
          "data": {
            "text/plain": [
              "'Hello   world'"
            ],
            "application/vnd.google.colaboratory.intrinsic+json": {
              "type": "string"
            }
          },
          "metadata": {},
          "execution_count": 165
        }
      ]
    },
    {
      "cell_type": "code",
      "source": [
        "\" \".isspace()"
      ],
      "metadata": {
        "colab": {
          "base_uri": "https://localhost:8080/"
        },
        "id": "tLrOKLZgHfdP",
        "outputId": "ad75333e-bb3e-4dd3-b98a-72e6f093990e"
      },
      "execution_count": null,
      "outputs": [
        {
          "output_type": "execute_result",
          "data": {
            "text/plain": [
              "True"
            ]
          },
          "metadata": {},
          "execution_count": 166
        }
      ]
    },
    {
      "cell_type": "code",
      "source": [
        "naam.endswith(\"a\")"
      ],
      "metadata": {
        "colab": {
          "base_uri": "https://localhost:8080/"
        },
        "id": "kPhgCronIA0f",
        "outputId": "23f8852a-ae4f-45ba-857d-d3ce50477225"
      },
      "execution_count": null,
      "outputs": [
        {
          "output_type": "execute_result",
          "data": {
            "text/plain": [
              "True"
            ]
          },
          "metadata": {},
          "execution_count": 167
        }
      ]
    },
    {
      "cell_type": "code",
      "source": [
        "s = \"I want to become a data scientist\"\n",
        "s.split()"
      ],
      "metadata": {
        "colab": {
          "base_uri": "https://localhost:8080/"
        },
        "id": "7W49lD-29J0-",
        "outputId": "8bd04117-718a-409d-e1cb-56ee3d79793b"
      },
      "execution_count": null,
      "outputs": [
        {
          "output_type": "execute_result",
          "data": {
            "text/plain": [
              "['I', 'want', 'to', 'become', 'a', 'data', 'scientist']"
            ]
          },
          "metadata": {},
          "execution_count": 9
        }
      ]
    },
    {
      "cell_type": "markdown",
      "source": [
        "## ljust and rjust and  center are used to justify strings"
      ],
      "metadata": {
        "id": "Agl6RQhSBzaQ"
      }
    },
    {
      "cell_type": "code",
      "source": [
        "stir =  \"vanna\"\n",
        "#(ljust(length, fillchar))\n",
        "#(rjust(length, fillchar))\n",
        "#(center(length, fillchar))\n",
        "\n",
        "stir.rjust(10,\">\")"
      ],
      "metadata": {
        "colab": {
          "base_uri": "https://localhost:8080/",
          "height": 36
        },
        "id": "9nXC8n849KVh",
        "outputId": "a0aa8d20-2d4b-48f5-8f1f-f8f7d7a55fee"
      },
      "execution_count": null,
      "outputs": [
        {
          "output_type": "execute_result",
          "data": {
            "text/plain": [
              "'>>>>>vanna'"
            ],
            "application/vnd.google.colaboratory.intrinsic+json": {
              "type": "string"
            }
          },
          "metadata": {},
          "execution_count": 14
        }
      ]
    },
    {
      "cell_type": "code",
      "source": [
        "stir.center(11,\">\")"
      ],
      "metadata": {
        "colab": {
          "base_uri": "https://localhost:8080/",
          "height": 36
        },
        "id": "vC2SbRQWBgNl",
        "outputId": "dc001741-64eb-4a0f-fe53-3fe91331a495"
      },
      "execution_count": null,
      "outputs": [
        {
          "output_type": "execute_result",
          "data": {
            "text/plain": [
              "'>>>vanna>>>'"
            ],
            "application/vnd.google.colaboratory.intrinsic+json": {
              "type": "string"
            }
          },
          "metadata": {},
          "execution_count": 15
        }
      ]
    },
    {
      "cell_type": "code",
      "source": [
        "stir.ljust(11,\">\")"
      ],
      "metadata": {
        "colab": {
          "base_uri": "https://localhost:8080/",
          "height": 36
        },
        "id": "vhz7I9qoBoP8",
        "outputId": "df6c7294-d097-4a47-c6b7-3cf52f63f829"
      },
      "execution_count": null,
      "outputs": [
        {
          "output_type": "execute_result",
          "data": {
            "text/plain": [
              "'vanna>>>>>>'"
            ],
            "application/vnd.google.colaboratory.intrinsic+json": {
              "type": "string"
            }
          },
          "metadata": {},
          "execution_count": 16
        }
      ]
    },
    {
      "cell_type": "code",
      "source": [
        "n= int(input(\"enter no.:\"))\n",
        "if n>1:\n",
        "    for i in range(2, n-1):\n",
        "        if n%i==0:\n",
        "            print(\"non prime\")\n",
        "            break\n",
        "        else:\n",
        "            print(\"prime\")\n",
        "            break\n",
        "            \n",
        "else:\n",
        "    print(\"invalid input\")"
      ],
      "metadata": {
        "colab": {
          "base_uri": "https://localhost:8080/"
        },
        "id": "E6tK8H2YBu_V",
        "outputId": "c4e5b2cd-840f-4b0d-faa2-ccdd596a05c0"
      },
      "execution_count": null,
      "outputs": [
        {
          "output_type": "stream",
          "name": "stdout",
          "text": [
            "enter no.:7\n",
            "prime\n"
          ]
        }
      ]
    },
    {
      "cell_type": "code",
      "source": [],
      "metadata": {
        "id": "GzT_5Tz7Q1h_"
      },
      "execution_count": null,
      "outputs": []
    }
  ],
  "metadata": {
    "colab": {
      "provenance": []
    },
    "kernelspec": {
      "display_name": "Python 3",
      "name": "python3"
    },
    "language_info": {
      "name": "python"
    }
  },
  "nbformat": 4,
  "nbformat_minor": 0
}