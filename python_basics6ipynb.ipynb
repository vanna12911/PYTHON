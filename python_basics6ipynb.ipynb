{
  "nbformat": 4,
  "nbformat_minor": 0,
  "metadata": {
    "colab": {
      "provenance": []
    },
    "kernelspec": {
      "name": "python3",
      "display_name": "Python 3"
    },
    "language_info": {
      "name": "python"
    }
  },
  "cells": [
    {
      "cell_type": "markdown",
      "source": [
        "## oops"
      ],
      "metadata": {
        "id": "J-rXDkcJgjuM"
      }
    },
    {
      "cell_type": "code",
      "execution_count": null,
      "metadata": {
        "colab": {
          "base_uri": "https://localhost:8080/"
        },
        "id": "KqzYHaumf3tw",
        "outputId": "a142a9c8-aa4a-4d72-ae26-a88cfe2cc135"
      },
      "outputs": [
        {
          "output_type": "stream",
          "name": "stdout",
          "text": [
            "<class 'int'>\n"
          ]
        }
      ],
      "source": [
        "a=1\n",
        "print(type(a))"
      ]
    },
    {
      "cell_type": "code",
      "source": [
        "b= \"vanna\"\n",
        "print(type(b))"
      ],
      "metadata": {
        "colab": {
          "base_uri": "https://localhost:8080/"
        },
        "id": "i4yDKc_Zgs-5",
        "outputId": "c4a38f41-3b43-433f-8f36-be7cb7a3dbd6"
      },
      "execution_count": null,
      "outputs": [
        {
          "output_type": "stream",
          "name": "stdout",
          "text": [
            "<class 'str'>\n"
          ]
        }
      ]
    },
    {
      "cell_type": "markdown",
      "source": [
        "CLASS:  \n",
        "  blueprint, prototype or template for creating an object. A class is a blueprint or template that defines the properties and behaviors of a particular type of object. An object, on the other hand, is an instance of a class - it is a specific entity that can be created based on the class definition.\n",
        "\n",
        "In simpler terms, a class can be thought of as a recipe or a set of instructions for creating objects, while an object is the actual dish that is created using that recipe."
      ],
      "metadata": {
        "id": "uJD0uGJ2g_li"
      }
    },
    {
      "cell_type": "code",
      "source": [
        "# Define the Car class\n",
        "class Car:\n",
        "    \n",
        "    # Constructor method - initializes the object with make, model, year, and color\n",
        "    def __init__(self, make, model, year, color):\n",
        "        self.make = make\n",
        "        self.model = model\n",
        "        self.year = year\n",
        "        self.color = color\n",
        "        \n",
        "    # Method to start the car\n",
        "    def start(self):\n",
        "        print(f\"{self.make} {self.model} has been started\")\n",
        "    \n",
        "    # Method to accelerate the car\n",
        "    def accelerate(self):\n",
        "        print(f\"{self.make} {self.model} is accelerating\")\n",
        "        \n",
        "    # Method to brake the car\n",
        "    def brake(self):\n",
        "        print(f\"{self.make} {self.model} is slowing down\")\n",
        "        \n",
        "\n",
        "# Create an instance of the Car class\n",
        "MyCar = Car(\"Honda\", \"Civic\", 2015, \"red\")\n",
        "\n",
        "# Call methods on the MyCar object\n",
        "MyCar.start()\n",
        "MyCar.accelerate()\n",
        "MyCar.brake()\n"
      ],
      "metadata": {
        "id": "wDxq10Mtgsv-"
      },
      "execution_count": null,
      "outputs": []
    },
    {
      "cell_type": "markdown",
      "source": [
        "properties of the car in the class are called as instance variables and the behaviour of the car(methods) are called as instane methods over here and with further concept of public, protected and private variables many types of methods will be used such as property decoraters(getters, setters ,deleters).Moreover classmethods and staticmethods also will be of good use too."
      ],
      "metadata": {
        "id": "GfEV3_fAgu9g"
      }
    },
    {
      "cell_type": "code",
      "source": [
        "class test:"
      ],
      "metadata": {
        "colab": {
          "base_uri": "https://localhost:8080/",
          "height": 135
        },
        "id": "KHDfuq-7p0Do",
        "outputId": "e439ef24-2cf0-4763-98ae-205d854a816d"
      },
      "execution_count": null,
      "outputs": [
        {
          "output_type": "error",
          "ename": "SyntaxError",
          "evalue": "ignored",
          "traceback": [
            "\u001b[0;36m  File \u001b[0;32m\"<ipython-input-6-6ccad8358cd9>\"\u001b[0;36m, line \u001b[0;32m1\u001b[0m\n\u001b[0;31m    class test:\u001b[0m\n\u001b[0m               ^\u001b[0m\n\u001b[0;31mSyntaxError\u001b[0m\u001b[0;31m:\u001b[0m unexpected EOF while parsing\n"
          ]
        }
      ]
    },
    {
      "cell_type": "code",
      "source": [
        "class test:\n",
        "  pass\n"
      ],
      "metadata": {
        "id": "1PyzReZqqo-L"
      },
      "execution_count": null,
      "outputs": []
    },
    {
      "cell_type": "code",
      "source": [
        "a = test()\n",
        "\n",
        "print(type(a))"
      ],
      "metadata": {
        "colab": {
          "base_uri": "https://localhost:8080/"
        },
        "id": "ZGMaRGk0ie3s",
        "outputId": "2ee41dd0-c930-4d8f-dd75-cb23bfc98bbf"
      },
      "execution_count": null,
      "outputs": [
        {
          "output_type": "stream",
          "name": "stdout",
          "text": [
            "<class '__main__.test'>\n"
          ]
        }
      ]
    },
    {
      "cell_type": "code",
      "source": [
        "class AI:\n",
        "  def welcome_msg():\n",
        "    print(\"we welcome you!\")"
      ],
      "metadata": {
        "id": "oBXxRJRdgwWK"
      },
      "execution_count": null,
      "outputs": []
    },
    {
      "cell_type": "code",
      "source": [
        "rohan = AI() "
      ],
      "metadata": {
        "id": "4AMMo15sik9z"
      },
      "execution_count": null,
      "outputs": []
    },
    {
      "cell_type": "code",
      "source": [
        "rohan.welcome_msg()\n"
      ],
      "metadata": {
        "colab": {
          "base_uri": "https://localhost:8080/",
          "height": 171
        },
        "id": "ETIeMOXeqza3",
        "outputId": "7ef4e447-84d4-487e-f3dd-b55345163ce1"
      },
      "execution_count": null,
      "outputs": [
        {
          "output_type": "error",
          "ename": "TypeError",
          "evalue": "ignored",
          "traceback": [
            "\u001b[0;31m---------------------------------------------------------------------------\u001b[0m",
            "\u001b[0;31mTypeError\u001b[0m                                 Traceback (most recent call last)",
            "\u001b[0;32m<ipython-input-11-544556fd0fa5>\u001b[0m in \u001b[0;36m<module>\u001b[0;34m\u001b[0m\n\u001b[0;32m----> 1\u001b[0;31m \u001b[0mrohan\u001b[0m\u001b[0;34m.\u001b[0m\u001b[0mwelcome_msg\u001b[0m\u001b[0;34m(\u001b[0m\u001b[0;34m)\u001b[0m\u001b[0;34m\u001b[0m\u001b[0;34m\u001b[0m\u001b[0m\n\u001b[0m",
            "\u001b[0;31mTypeError\u001b[0m: welcome_msg() takes 0 positional arguments but 1 was given"
          ]
        }
      ]
    },
    {
      "cell_type": "code",
      "source": [
        "class AI:\n",
        "  def welcome_msg(self):     #self is pointer(refrence pointer variable) here\n",
        "    print(\"we welcome you!\")"
      ],
      "metadata": {
        "id": "RWze0Kx4rhmR"
      },
      "execution_count": null,
      "outputs": []
    },
    {
      "cell_type": "code",
      "source": [
        "rohan =AI()"
      ],
      "metadata": {
        "id": "MOrRVm_GrrhQ"
      },
      "execution_count": null,
      "outputs": []
    },
    {
      "cell_type": "code",
      "source": [
        "rohan.welcome_msg()\n"
      ],
      "metadata": {
        "colab": {
          "base_uri": "https://localhost:8080/",
          "height": 171
        },
        "id": "fbz7qZm_q_FI",
        "outputId": "9e340bcc-6783-44e7-db3f-f20f69de3cb3"
      },
      "execution_count": null,
      "outputs": [
        {
          "output_type": "error",
          "ename": "TypeError",
          "evalue": "ignored",
          "traceback": [
            "\u001b[0;31m---------------------------------------------------------------------------\u001b[0m",
            "\u001b[0;31mTypeError\u001b[0m                                 Traceback (most recent call last)",
            "\u001b[0;32m<ipython-input-13-544556fd0fa5>\u001b[0m in \u001b[0;36m<module>\u001b[0;34m\u001b[0m\n\u001b[0;32m----> 1\u001b[0;31m \u001b[0mrohan\u001b[0m\u001b[0;34m.\u001b[0m\u001b[0mwelcome_msg\u001b[0m\u001b[0;34m(\u001b[0m\u001b[0;34m)\u001b[0m\u001b[0;34m\u001b[0m\u001b[0;34m\u001b[0m\u001b[0m\n\u001b[0m",
            "\u001b[0;31mTypeError\u001b[0m: welcome_msg() takes 0 positional arguments but 1 was given"
          ]
        }
      ]
    },
    {
      "cell_type": "markdown",
      "source": [
        "# functions(methods) inside the class can be accessed through the objects of the class"
      ],
      "metadata": {
        "id": "JcN3xj00r6l-"
      }
    },
    {
      "cell_type": "code",
      "source": [
        "a=1\n",
        "b=2\n",
        "print(a)\n",
        "print(b)\n"
      ],
      "metadata": {
        "colab": {
          "base_uri": "https://localhost:8080/"
        },
        "id": "Uc9W-gKnr7n6",
        "outputId": "3d9ceb88-5baf-459d-a2f8-175853d6f309"
      },
      "execution_count": null,
      "outputs": [
        {
          "output_type": "stream",
          "name": "stdout",
          "text": [
            "1\n",
            "2\n"
          ]
        }
      ]
    },
    {
      "cell_type": "markdown",
      "source": [
        "# constructor\n"
      ],
      "metadata": {
        "id": "iuslTgxjtMqj"
      }
    },
    {
      "cell_type": "code",
      "source": [
        "# constructer : is something which helps the class to take input\n",
        "\n",
        "# Constructors are generally used for instantiating an object.\n",
        "#  The task of constructors is to initialize(assign values) to the objects\n",
        "#  of the class when an object of the class is created.\n",
        "#   In Python the __init__() method is called the constructor \n",
        "#   and is always called when an object is created.\n"
      ],
      "metadata": {
        "id": "Tcm6OIkbsc-5"
      },
      "execution_count": null,
      "outputs": []
    },
    {
      "cell_type": "markdown",
      "source": [
        "code without constructor:"
      ],
      "metadata": {
        "id": "bakTn0dKkKPX"
      }
    },
    {
      "cell_type": "code",
      "source": [
        "# Define a class called 'Person'\n",
        "class Person:\n",
        "\n",
        "\n",
        "  name =\" \"\n",
        "  age = 0    \n",
        "    # # Constructor method - initializes the object with a name and an age\n",
        "    # def __init__(self, name, age):\n",
        "    #     self.name = name\n",
        "    #     self.age = age\n",
        "        \n",
        "    # Method to print the person's name and age\n",
        "  def print_info(self):\n",
        "      print(f\"Name: {self.name}, Age: {self.age}\")\n"
      ],
      "metadata": {
        "id": "JXCBbjoIkN2T"
      },
      "execution_count": null,
      "outputs": []
    },
    {
      "cell_type": "code",
      "source": [
        "p1 = Person()\n",
        "p1.print_info()\n"
      ],
      "metadata": {
        "colab": {
          "base_uri": "https://localhost:8080/"
        },
        "id": "edMmJdIskYPG",
        "outputId": "efe71534-387a-4490-ad98-9392db90e5e5"
      },
      "execution_count": null,
      "outputs": [
        {
          "output_type": "stream",
          "name": "stdout",
          "text": [
            "Name:  , Age: 0\n"
          ]
        }
      ]
    },
    {
      "cell_type": "code",
      "source": [
        "p1.name = \"pista\"\n",
        "p1.age =20\n",
        "p1.print_info()"
      ],
      "metadata": {
        "colab": {
          "base_uri": "https://localhost:8080/"
        },
        "id": "kAijoomAkj2E",
        "outputId": "2144cc2f-a794-43e3-bfd6-d54a1f5564dd"
      },
      "execution_count": null,
      "outputs": [
        {
          "output_type": "stream",
          "name": "stdout",
          "text": [
            "Name: pista, Age: 20\n"
          ]
        }
      ]
    },
    {
      "cell_type": "markdown",
      "source": [
        "code with constructor :"
      ],
      "metadata": {
        "id": "YuSAOJLLk1nt"
      }
    },
    {
      "cell_type": "code",
      "source": [
        "class pwskills():\n",
        "\n",
        "  def __init__(self, phone_num, email_id,student_id):\n",
        "\n",
        "    self.phone_num = phone_num\n",
        "    self.email_id = email_id\n",
        "    self.student_id = student_id\n",
        "\n",
        "\n",
        "  def student_details(self):\n",
        "    return self.phone_num,self.email_id, self.student_id"
      ],
      "metadata": {
        "id": "j3dBDDWzvVXH"
      },
      "execution_count": null,
      "outputs": []
    },
    {
      "cell_type": "markdown",
      "source": [
        "In summary, the __init__() method is used to initialize the attributes of an object with values provided by the user or with default values defined in the class. It is a convenient and error-free way of creating objects with predefined properties."
      ],
      "metadata": {
        "id": "OG99YMNIlyvn"
      }
    },
    {
      "cell_type": "code",
      "source": [
        "soham  = pwskills(4566446, \"soham@gmail.com \" , 101)"
      ],
      "metadata": {
        "id": "6RHgPFVzwCDT"
      },
      "execution_count": null,
      "outputs": []
    },
    {
      "cell_type": "code",
      "source": [
        "soham.phone_num"
      ],
      "metadata": {
        "colab": {
          "base_uri": "https://localhost:8080/"
        },
        "id": "QFBrT-TwwPEe",
        "outputId": "5322d86b-4778-4e36-a1dd-5c2234f7d946"
      },
      "execution_count": null,
      "outputs": [
        {
          "output_type": "execute_result",
          "data": {
            "text/plain": [
              "4566446"
            ]
          },
          "metadata": {},
          "execution_count": 18
        }
      ]
    },
    {
      "cell_type": "code",
      "source": [
        "soham.student_details()"
      ],
      "metadata": {
        "colab": {
          "base_uri": "https://localhost:8080/"
        },
        "id": "s_OAkEbPyBXB",
        "outputId": "641bda15-474c-45ff-8c24-ff670bb17e0c"
      },
      "execution_count": null,
      "outputs": [
        {
          "output_type": "execute_result",
          "data": {
            "text/plain": [
              "(4566446, 'soham@gmail.com ', 101)"
            ]
          },
          "metadata": {},
          "execution_count": 19
        }
      ]
    },
    {
      "cell_type": "markdown",
      "source": [
        "In short , the self reference is used in object-oriented programming to access and modify the attributes and methods of an object within a method. It is a way to reference the specific instance of the class that is calling the method.\n",
        "\n",
        "When a method is called on an object, Python automatically passes the object itself as the first argument to the method, which is usually referred to as self. The self reference allows the method to access the object's attributes and methods, which can be used to modify the object's state or behavior."
      ],
      "metadata": {
        "id": "d_WsFsVLpYI_"
      }
    },
    {
      "cell_type": "code",
      "source": [
        "# self is not a keyword  : reference to current instance to the class(kinda pointer)\n",
        "\n",
        "\n",
        "class pwskills1():\n",
        "\n",
        "  def __init__(pista, phone_num, email_id,student_id):\n",
        "\n",
        "    pista.phone_num = phone_num\n",
        "    pista.email_id = email_id\n",
        "    pista.student_id = student_id\n",
        "\n",
        "\n",
        "  def student_details(pista):\n",
        "    return pista.phone_num,pista.email_id, pista.student_id"
      ],
      "metadata": {
        "id": "Cd46CLSCyEH9"
      },
      "execution_count": null,
      "outputs": []
    },
    {
      "cell_type": "code",
      "source": [
        "mohan =pwskills(635622323,\"mohan@gmail.com\" ,102)"
      ],
      "metadata": {
        "id": "8Bb6EqPjzYLo"
      },
      "execution_count": null,
      "outputs": []
    },
    {
      "cell_type": "code",
      "source": [
        "mohan.email_id"
      ],
      "metadata": {
        "colab": {
          "base_uri": "https://localhost:8080/",
          "height": 36
        },
        "id": "TThmr9zMzh0M",
        "outputId": "155756bc-77d8-4899-8539-e8c8788ed174"
      },
      "execution_count": null,
      "outputs": [
        {
          "output_type": "execute_result",
          "data": {
            "text/plain": [
              "'mohan@gmail.com'"
            ],
            "application/vnd.google.colaboratory.intrinsic+json": {
              "type": "string"
            }
          },
          "metadata": {},
          "execution_count": 22
        }
      ]
    },
    {
      "cell_type": "code",
      "source": [
        "mohan.student_details()"
      ],
      "metadata": {
        "colab": {
          "base_uri": "https://localhost:8080/"
        },
        "id": "0GURjBWezsCA",
        "outputId": "cb8023e1-ef62-4f23-b7b3-3d9c877b2fa5"
      },
      "execution_count": null,
      "outputs": [
        {
          "output_type": "execute_result",
          "data": {
            "text/plain": [
              "(635622323, 'mohan@gmail.com', 102)"
            ]
          },
          "metadata": {},
          "execution_count": 23
        }
      ]
    },
    {
      "cell_type": "code",
      "source": [
        "class pwskills2():\n",
        "\n",
        "  def __init__(pista, phone_num, email_id,student_id):\n",
        "\n",
        "    pista.phone_num1 = phone_num\n",
        "    pista.email_id = email_id\n",
        "    pista.student_id = student_id\n",
        "\n",
        "\n",
        "  def student_details(pista):\n",
        "    return pista.phone_num1,pista.email_id, pista.student_id"
      ],
      "metadata": {
        "id": "gi6QaJ6Lzug_"
      },
      "execution_count": null,
      "outputs": []
    },
    {
      "cell_type": "code",
      "source": [
        "shreya = pwskills2(9662323,\"shreya@gmail.com\",111)"
      ],
      "metadata": {
        "id": "gr7qDojlz4pe"
      },
      "execution_count": null,
      "outputs": []
    },
    {
      "cell_type": "code",
      "source": [
        "shreya.phone_num\n"
      ],
      "metadata": {
        "colab": {
          "base_uri": "https://localhost:8080/",
          "height": 171
        },
        "id": "3AeXz0aY0A3W",
        "outputId": "f00e62bc-ecbe-4a44-f830-e34912123509"
      },
      "execution_count": null,
      "outputs": [
        {
          "output_type": "error",
          "ename": "AttributeError",
          "evalue": "ignored",
          "traceback": [
            "\u001b[0;31m---------------------------------------------------------------------------\u001b[0m",
            "\u001b[0;31mAttributeError\u001b[0m                            Traceback (most recent call last)",
            "\u001b[0;32m<ipython-input-26-53e19ee1e2f6>\u001b[0m in \u001b[0;36m<module>\u001b[0;34m\u001b[0m\n\u001b[0;32m----> 1\u001b[0;31m \u001b[0mshreya\u001b[0m\u001b[0;34m.\u001b[0m\u001b[0mphone_num\u001b[0m\u001b[0;34m\u001b[0m\u001b[0;34m\u001b[0m\u001b[0m\n\u001b[0m",
            "\u001b[0;31mAttributeError\u001b[0m: 'pwskills2' object has no attribute 'phone_num'"
          ]
        }
      ]
    },
    {
      "cell_type": "code",
      "source": [
        "shreya.phone_num1"
      ],
      "metadata": {
        "id": "IrXJDvgk0ODg"
      },
      "execution_count": null,
      "outputs": []
    },
    {
      "cell_type": "code",
      "source": [
        "shreya.student_details()"
      ],
      "metadata": {
        "id": "iASzwGTK0dTH"
      },
      "execution_count": null,
      "outputs": []
    },
    {
      "cell_type": "markdown",
      "source": [
        "## polymorphism\n"
      ],
      "metadata": {
        "id": "NECn0_7tT822"
      }
    },
    {
      "cell_type": "code",
      "source": [
        "def test(a,b): \n",
        "  return a+b"
      ],
      "metadata": {
        "id": "RkFWrIET0-TZ"
      },
      "execution_count": null,
      "outputs": []
    },
    {
      "cell_type": "code",
      "source": [
        "test(4,5)   # sum"
      ],
      "metadata": {
        "colab": {
          "base_uri": "https://localhost:8080/"
        },
        "id": "eo6qAxjEfK87",
        "outputId": "471cd465-213d-4ec8-caa4-fb2ea3b16348"
      },
      "execution_count": null,
      "outputs": [
        {
          "output_type": "execute_result",
          "data": {
            "text/plain": [
              "9"
            ]
          },
          "metadata": {},
          "execution_count": 28
        }
      ]
    },
    {
      "cell_type": "code",
      "source": [
        "test([1,2,3,4,5],[4,6,3,9])   # concatination"
      ],
      "metadata": {
        "colab": {
          "base_uri": "https://localhost:8080/"
        },
        "id": "piJ97MG1fNNA",
        "outputId": "2bd33169-b37d-4032-ee94-821da7545dd1"
      },
      "execution_count": null,
      "outputs": [
        {
          "output_type": "execute_result",
          "data": {
            "text/plain": [
              "[1, 2, 3, 4, 5, 4, 6, 3, 9]"
            ]
          },
          "metadata": {},
          "execution_count": 29
        }
      ]
    },
    {
      "cell_type": "code",
      "source": [
        "test(\"pista \" ,\"sharma\")"
      ],
      "metadata": {
        "colab": {
          "base_uri": "https://localhost:8080/",
          "height": 36
        },
        "id": "REm3U9ycfUHW",
        "outputId": "e1cfd060-5d91-4344-9a3a-556c7c81b9d5"
      },
      "execution_count": null,
      "outputs": [
        {
          "output_type": "execute_result",
          "data": {
            "text/plain": [
              "'pista sharma'"
            ],
            "application/vnd.google.colaboratory.intrinsic+json": {
              "type": "string"
            }
          },
          "metadata": {},
          "execution_count": 30
        }
      ]
    },
    {
      "cell_type": "code",
      "source": [
        "class data_science:\n",
        "  def syllabus(self):\n",
        "    print(\"this is my method for data science syllabus\")\n"
      ],
      "metadata": {
        "id": "BX_xEoKcfsny"
      },
      "execution_count": null,
      "outputs": []
    },
    {
      "cell_type": "code",
      "source": [
        "class web_dev:\n",
        "  def syllabus(self):\n",
        "    print(\"this is my method for web dev\")"
      ],
      "metadata": {
        "id": "QStqYaokgRjS"
      },
      "execution_count": null,
      "outputs": []
    },
    {
      "cell_type": "code",
      "source": [
        "def class_parser(class_obj):\n",
        "  for i in  class_obj:\n",
        "    i.syllabus()\n",
        "    "
      ],
      "metadata": {
        "id": "xLuU3dv2hFKT"
      },
      "execution_count": null,
      "outputs": []
    },
    {
      "cell_type": "code",
      "source": [
        "obj_data_science = data_science()\n",
        "obj_web_dev = web_dev()"
      ],
      "metadata": {
        "id": "E_s1H7hNhWU_"
      },
      "execution_count": null,
      "outputs": []
    },
    {
      "cell_type": "code",
      "source": [
        "class_object =  [obj_data_science,obj_web_dev] \n"
      ],
      "metadata": {
        "id": "EFAlIshShwgx"
      },
      "execution_count": null,
      "outputs": []
    },
    {
      "cell_type": "code",
      "source": [
        "class_parser(class_object)       \n",
        "                    \n",
        "                    \n",
        "    # polymorphism,cuz we are able to access \n",
        "  # different class methods by differnt class objects using\n",
        "  #  same function(class_parser)"
      ],
      "metadata": {
        "colab": {
          "base_uri": "https://localhost:8080/"
        },
        "id": "xahZA4rfh8eR",
        "outputId": "5340d237-8218-4ed2-b9fc-6b903edfbc15"
      },
      "execution_count": null,
      "outputs": [
        {
          "output_type": "stream",
          "name": "stdout",
          "text": [
            "this is my method for data science syllabus\n",
            "this is my method for web dev\n"
          ]
        }
      ]
    },
    {
      "cell_type": "markdown",
      "source": [
        "## Encapsulation :\n",
        "Encapsulation is one of the fundamental concepts in object-oriented programming (OOP). It describes the idea of wrapping data and the methods that work on data within one unit. This puts restrictions on accessing variables and methods directly and can prevent the accidental modification of data. To prevent accidental change, an object’s variable can only be changed by an object’s method. Those types of variables are known as private variables.\n",
        "\n",
        "\n",
        "protected members (in C++ and JAVA) are those members of the class that cannot be accessed outside the class but can be accessed from within the class and its subclasses. To accomplish this in Python, just follow the convention by prefixing the name of the member by a single underscore “_”."
      ],
      "metadata": {
        "id": "zrWzIg2jtIq1"
      }
    },
    {
      "cell_type": "markdown",
      "source": [
        " #### Encapsulation in Python describes the concept of bundling data and methods within a single unit.\n",
        "  ####  So, for example, when you create a class, it means you are implementing encapsulation.\n",
        "  #### A class is an example of encapsulation as it binds all the data members (instance variables) and methods into a single unit.\n",
        "\n",
        "\n",
        "  ![here](https://pynative.com/wp-content/uploads/2021/08/encapsulation_python_class.jpg)"
      ],
      "metadata": {
        "id": "HzaAMJU0-rr2"
      }
    },
    {
      "cell_type": "code",
      "source": [
        "class test:\n",
        "  def __init__(self,a,b):\n",
        "    self.a = a\n",
        "    self.b = b\n"
      ],
      "metadata": {
        "id": "lo0KESqiiJdE"
      },
      "execution_count": null,
      "outputs": []
    },
    {
      "cell_type": "code",
      "source": [
        "t=test(45,54)"
      ],
      "metadata": {
        "id": "uI0aqGiFtgvG"
      },
      "execution_count": null,
      "outputs": []
    },
    {
      "cell_type": "code",
      "source": [
        "t.a"
      ],
      "metadata": {
        "colab": {
          "base_uri": "https://localhost:8080/"
        },
        "id": "zYQygRwptjoc",
        "outputId": "1103b568-5632-4078-ee5d-941ca87ba1a6"
      },
      "execution_count": null,
      "outputs": [
        {
          "output_type": "execute_result",
          "data": {
            "text/plain": [
              "45"
            ]
          },
          "metadata": {},
          "execution_count": 39
        }
      ]
    },
    {
      "cell_type": "code",
      "source": [
        "t.b"
      ],
      "metadata": {
        "colab": {
          "base_uri": "https://localhost:8080/"
        },
        "id": "YcQNW97JtkHk",
        "outputId": "f0f07711-d90d-495b-e8c7-a930b9e0679f"
      },
      "execution_count": null,
      "outputs": [
        {
          "output_type": "execute_result",
          "data": {
            "text/plain": [
              "54"
            ]
          },
          "metadata": {},
          "execution_count": 40
        }
      ]
    },
    {
      "cell_type": "code",
      "source": [
        "t.a  =  45.4"
      ],
      "metadata": {
        "id": "n8V0zaMAtktq"
      },
      "execution_count": null,
      "outputs": []
    },
    {
      "cell_type": "code",
      "source": [
        "t.a"
      ],
      "metadata": {
        "colab": {
          "base_uri": "https://localhost:8080/"
        },
        "id": "dEc3T6KVtoOl",
        "outputId": "189dbb9e-7e42-439a-87e4-7582428b86df"
      },
      "execution_count": null,
      "outputs": [
        {
          "output_type": "execute_result",
          "data": {
            "text/plain": [
              "45.4"
            ]
          },
          "metadata": {},
          "execution_count": 42
        }
      ]
    },
    {
      "cell_type": "markdown",
      "source": [
        "To prevent the direct access and direct modification of class object's instances, encapsultion is used, i.e class object's instances are made private ."
      ],
      "metadata": {
        "id": "VNMUBuXNt5Z0"
      }
    },
    {
      "cell_type": "code",
      "source": [
        "class car():\n",
        "  def __init__(self, year, make, model, speed):\n",
        "    self.__year = year\n",
        "    self.__make  = make\n",
        "    self.__model = model\n",
        "    self.__speed = 0"
      ],
      "metadata": {
        "id": "6X-j6COBtpHm"
      },
      "execution_count": null,
      "outputs": []
    },
    {
      "cell_type": "code",
      "source": [
        "obj_car = car(2021,\"toyata\",\"innova\",12)"
      ],
      "metadata": {
        "id": "nLFZdBUDuzL1"
      },
      "execution_count": null,
      "outputs": []
    },
    {
      "cell_type": "code",
      "source": [
        "obj_car.__year"
      ],
      "metadata": {
        "colab": {
          "base_uri": "https://localhost:8080/",
          "height": 171
        },
        "id": "BkcjZHidu9aM",
        "outputId": "aa643b0c-8081-4f67-d8a5-9e06f073489b"
      },
      "execution_count": null,
      "outputs": [
        {
          "output_type": "error",
          "ename": "AttributeError",
          "evalue": "ignored",
          "traceback": [
            "\u001b[0;31m---------------------------------------------------------------------------\u001b[0m",
            "\u001b[0;31mAttributeError\u001b[0m                            Traceback (most recent call last)",
            "\u001b[0;32m<ipython-input-45-8266941e2182>\u001b[0m in \u001b[0;36m<module>\u001b[0;34m\u001b[0m\n\u001b[0;32m----> 1\u001b[0;31m \u001b[0mobj_car\u001b[0m\u001b[0;34m.\u001b[0m\u001b[0m__year\u001b[0m\u001b[0;34m\u001b[0m\u001b[0;34m\u001b[0m\u001b[0m\n\u001b[0m",
            "\u001b[0;31mAttributeError\u001b[0m: 'car' object has no attribute '__year'"
          ]
        }
      ]
    },
    {
      "cell_type": "code",
      "source": [
        "obj_car._car__year"
      ],
      "metadata": {
        "id": "3b5wHjqqvSDS"
      },
      "execution_count": null,
      "outputs": []
    },
    {
      "cell_type": "code",
      "source": [
        "obj_car._car__speed"
      ],
      "metadata": {
        "id": "Yk2LLJzEvXbt"
      },
      "execution_count": null,
      "outputs": []
    },
    {
      "cell_type": "code",
      "source": [
        "obj_car._car__year = 2016\n",
        "obj_car._car__year\n"
      ],
      "metadata": {
        "colab": {
          "base_uri": "https://localhost:8080/"
        },
        "id": "t-J7T3lnvcdP",
        "outputId": "da6c0227-798c-4a93-c959-1061cd868cdc"
      },
      "execution_count": null,
      "outputs": [
        {
          "output_type": "execute_result",
          "data": {
            "text/plain": [
              "2016"
            ]
          },
          "metadata": {},
          "execution_count": 46
        }
      ]
    },
    {
      "cell_type": "code",
      "source": [
        "class car():\n",
        "  def __init__(self, year, make, model, speed):\n",
        "    self.__year = year\n",
        "    self.__make  = make\n",
        "    self.__model = model\n",
        "    self.__speed = 0\n",
        "\n",
        "  def set_speed(self,speed):\n",
        "    self.__speed =0 if speed<0 else speed\n",
        "\n",
        "  def get_speed(self) :\n",
        "    return self.__speed"
      ],
      "metadata": {
        "id": "2UISNSyNwYfU"
      },
      "execution_count": null,
      "outputs": []
    },
    {
      "cell_type": "code",
      "source": [
        "obj_car = car(2021,\"toyata\",\"innova\",12)"
      ],
      "metadata": {
        "id": "6fAHLMMwwns_"
      },
      "execution_count": null,
      "outputs": []
    },
    {
      "cell_type": "code",
      "source": [
        "obj_car.get_speed()"
      ],
      "metadata": {
        "colab": {
          "base_uri": "https://localhost:8080/"
        },
        "id": "V4uvm3C1xNza",
        "outputId": "4e01c885-fdf7-4d62-bbd2-6294c0903c15"
      },
      "execution_count": null,
      "outputs": [
        {
          "output_type": "execute_result",
          "data": {
            "text/plain": [
              "0"
            ]
          },
          "metadata": {},
          "execution_count": 49
        }
      ]
    },
    {
      "cell_type": "code",
      "source": [
        "obj_car.set_speed(6548)"
      ],
      "metadata": {
        "id": "-L6HIPUCxPts"
      },
      "execution_count": null,
      "outputs": []
    },
    {
      "cell_type": "code",
      "source": [
        "obj_car.get_speed()"
      ],
      "metadata": {
        "colab": {
          "base_uri": "https://localhost:8080/"
        },
        "id": "4zA4yOAFxwT1",
        "outputId": "5bbae189-755f-42ee-9edd-175701656d1b"
      },
      "execution_count": null,
      "outputs": [
        {
          "output_type": "execute_result",
          "data": {
            "text/plain": [
              "6548"
            ]
          },
          "metadata": {},
          "execution_count": 51
        }
      ]
    },
    {
      "cell_type": "code",
      "source": [
        "obj_car._car__speed"
      ],
      "metadata": {
        "colab": {
          "base_uri": "https://localhost:8080/"
        },
        "id": "ubvMasKXx7Md",
        "outputId": "17e76557-4f5a-44e8-bf00-d7ae3541c3b3"
      },
      "execution_count": null,
      "outputs": [
        {
          "output_type": "execute_result",
          "data": {
            "text/plain": [
              "6548"
            ]
          },
          "metadata": {},
          "execution_count": 52
        }
      ]
    },
    {
      "cell_type": "code",
      "source": [
        "class bank_account():\n",
        "\n",
        "  def __init__(self, balance):\n",
        "    self.__balance = balance\n",
        "\n",
        "  def deposit(self, amount):\n",
        "    self.__balance = self.__balance + amount\n",
        "    return self.__balance\n",
        "\n",
        "  def withdraw(self,amount):\n",
        "    if self.__balance >=amount:\n",
        "      self.__balance = self.__balance  - amount\n",
        "\n",
        "      # return True\n",
        "      return self.__balance\n",
        "\n",
        "    else:\n",
        "      return False\n",
        "\n",
        "\n",
        "  def get_balance(self):\n",
        "    return self.__balance\n",
        "\n"
      ],
      "metadata": {
        "id": "5MPXObsTyC3K"
      },
      "execution_count": null,
      "outputs": []
    },
    {
      "cell_type": "code",
      "source": [
        "obj_bank_acc= bank_account(50000)"
      ],
      "metadata": {
        "id": "erHsFsiD22QP"
      },
      "execution_count": null,
      "outputs": []
    },
    {
      "cell_type": "code",
      "source": [
        "obj_bank_acc.balance"
      ],
      "metadata": {
        "colab": {
          "base_uri": "https://localhost:8080/",
          "height": 171
        },
        "id": "4eQJxnMP29Ry",
        "outputId": "ff016039-bac0-41cd-cafb-ad3857eab1bc"
      },
      "execution_count": null,
      "outputs": [
        {
          "output_type": "error",
          "ename": "AttributeError",
          "evalue": "ignored",
          "traceback": [
            "\u001b[0;31m---------------------------------------------------------------------------\u001b[0m",
            "\u001b[0;31mAttributeError\u001b[0m                            Traceback (most recent call last)",
            "\u001b[0;32m<ipython-input-55-089a170a17db>\u001b[0m in \u001b[0;36m<module>\u001b[0;34m\u001b[0m\n\u001b[0;32m----> 1\u001b[0;31m \u001b[0mobj_bank_acc\u001b[0m\u001b[0;34m.\u001b[0m\u001b[0mbalance\u001b[0m\u001b[0;34m\u001b[0m\u001b[0;34m\u001b[0m\u001b[0m\n\u001b[0m",
            "\u001b[0;31mAttributeError\u001b[0m: 'bank_account' object has no attribute 'balance'"
          ]
        }
      ]
    },
    {
      "cell_type": "code",
      "source": [
        "\n",
        "obj_bank_acc.get_balance()\n",
        "# obj_bank_acc._bank_account__balance    # i'm not aware about this methoda as an user "
      ],
      "metadata": {
        "colab": {
          "base_uri": "https://localhost:8080/"
        },
        "id": "FSCwQA-x3CiQ",
        "outputId": "06edfcbf-c8f3-402c-f886-77bd5ff69f42"
      },
      "execution_count": null,
      "outputs": [
        {
          "output_type": "execute_result",
          "data": {
            "text/plain": [
              "50000"
            ]
          },
          "metadata": {},
          "execution_count": 56
        }
      ]
    },
    {
      "cell_type": "code",
      "source": [
        "obj_bank_acc.deposit(25000)"
      ],
      "metadata": {
        "colab": {
          "base_uri": "https://localhost:8080/"
        },
        "id": "hKs6PX2O3IH5",
        "outputId": "bcaf503a-b2b1-480c-8954-da20014f0ff1"
      },
      "execution_count": null,
      "outputs": [
        {
          "output_type": "execute_result",
          "data": {
            "text/plain": [
              "75000"
            ]
          },
          "metadata": {},
          "execution_count": 57
        }
      ]
    },
    {
      "cell_type": "code",
      "source": [
        "# obj_bank_acc._bank_account__balance   # i'm not aware about this methoda as an user \n",
        "obj_bank_acc.get_balance()\n"
      ],
      "metadata": {
        "colab": {
          "base_uri": "https://localhost:8080/"
        },
        "id": "9WrlFCbM3NNM",
        "outputId": "26eef286-1862-4bcc-b961-0be41b3067a2"
      },
      "execution_count": null,
      "outputs": [
        {
          "output_type": "execute_result",
          "data": {
            "text/plain": [
              "75000"
            ]
          },
          "metadata": {},
          "execution_count": 58
        }
      ]
    },
    {
      "cell_type": "markdown",
      "source": [
        "I'm not aware about theses methods as an user so , i can only access those methods which have been made public in the class via classs objects.\n",
        "\n",
        "\n",
        " i.e hiding the enitre implementation and internal composition is called as encapsulation."
      ],
      "metadata": {
        "id": "evoVPqDa7pvW"
      }
    },
    {
      "cell_type": "code",
      "source": [
        "obj_bank_acc.withdraw(70000)\n"
      ],
      "metadata": {
        "colab": {
          "base_uri": "https://localhost:8080/"
        },
        "id": "nkhml06L3WLB",
        "outputId": "4d7587c4-5e34-4d1d-f13a-26178cb8fe13"
      },
      "execution_count": null,
      "outputs": [
        {
          "output_type": "execute_result",
          "data": {
            "text/plain": [
              "5000"
            ]
          },
          "metadata": {},
          "execution_count": 59
        }
      ]
    },
    {
      "cell_type": "code",
      "source": [
        "obj_bank_acc.get_balance()"
      ],
      "metadata": {
        "colab": {
          "base_uri": "https://localhost:8080/"
        },
        "id": "-1o92WvG3hLL",
        "outputId": "48f5d234-3c6c-4b85-8301-3c53b2552793"
      },
      "execution_count": null,
      "outputs": [
        {
          "output_type": "execute_result",
          "data": {
            "text/plain": [
              "5000"
            ]
          },
          "metadata": {},
          "execution_count": 60
        }
      ]
    },
    {
      "cell_type": "markdown",
      "source": [
        "## Inheritance:"
      ],
      "metadata": {
        "id": "a3_hFsuj_7Fp"
      }
    },
    {
      "cell_type": "markdown",
      "source": [
        "single level inheritance"
      ],
      "metadata": {
        "id": "yuJ5LcEWIoRp"
      }
    },
    {
      "cell_type": "code",
      "source": [
        "class parent():\n",
        "\n",
        "  def test_parent(self):\n",
        "    print(\"this is my parent class\")\n"
      ],
      "metadata": {
        "id": "byoSDHyr4fKj"
      },
      "execution_count": null,
      "outputs": []
    },
    {
      "cell_type": "code",
      "source": [
        "class child(parent):\n",
        "  pass"
      ],
      "metadata": {
        "id": "yL48sQcDAIdp"
      },
      "execution_count": null,
      "outputs": []
    },
    {
      "cell_type": "code",
      "source": [
        "child_obj= child()"
      ],
      "metadata": {
        "id": "kFTWHEe0AMMb"
      },
      "execution_count": null,
      "outputs": []
    },
    {
      "cell_type": "code",
      "source": [
        "child_obj.test_parent()\n",
        "# with the help of child class object i'm able to access parent classe's method."
      ],
      "metadata": {
        "colab": {
          "base_uri": "https://localhost:8080/"
        },
        "id": "7aiLCI2aAUTW",
        "outputId": "112d9f23-982c-456b-fbbb-826a12f3b73e"
      },
      "execution_count": null,
      "outputs": [
        {
          "output_type": "stream",
          "name": "stdout",
          "text": [
            "this is my parent class\n"
          ]
        }
      ]
    },
    {
      "cell_type": "markdown",
      "source": [
        "## Mutlilevel inheritance:"
      ],
      "metadata": {
        "id": "8-wOrS90CKBE"
      }
    },
    {
      "cell_type": "code",
      "source": [
        "class class1:\n",
        "  \n",
        "  def test_class1(self):\n",
        "    print(\"this is my class1\")"
      ],
      "metadata": {
        "id": "OarzCgOJAahJ"
      },
      "execution_count": null,
      "outputs": []
    },
    {
      "cell_type": "code",
      "source": [
        "class class2(class1):\n",
        "  \n",
        "  def test_class2(self):\n",
        "    print(\"this is my class2\")"
      ],
      "metadata": {
        "id": "_ij1bmIYCjpx"
      },
      "execution_count": null,
      "outputs": []
    },
    {
      "cell_type": "code",
      "source": [
        "class class3(class2):\n",
        "\n",
        "  def test_class3(self):\n",
        "    print(\"this is my class3\")"
      ],
      "metadata": {
        "id": "fchlJ2gAC8bT"
      },
      "execution_count": null,
      "outputs": []
    },
    {
      "cell_type": "code",
      "source": [
        "obj_class3 = class3() "
      ],
      "metadata": {
        "id": "n59TFVq2DLd4"
      },
      "execution_count": null,
      "outputs": []
    },
    {
      "cell_type": "code",
      "source": [
        "obj_class3.test_class1()"
      ],
      "metadata": {
        "colab": {
          "base_uri": "https://localhost:8080/"
        },
        "id": "D1iUG3D_Dajl",
        "outputId": "8daedcce-5177-4211-b9d1-4ced1ea2ce5c"
      },
      "execution_count": null,
      "outputs": [
        {
          "output_type": "stream",
          "name": "stdout",
          "text": [
            "this is my class1\n"
          ]
        }
      ]
    },
    {
      "cell_type": "code",
      "source": [
        "obj_class3.test_class2()"
      ],
      "metadata": {
        "colab": {
          "base_uri": "https://localhost:8080/"
        },
        "id": "iguBPl4kDhA9",
        "outputId": "1262cece-6e61-473c-de02-3288d4903c6f"
      },
      "execution_count": null,
      "outputs": [
        {
          "output_type": "stream",
          "name": "stdout",
          "text": [
            "this is my class2\n"
          ]
        }
      ]
    },
    {
      "cell_type": "code",
      "source": [
        "obj_class3.test_class3()"
      ],
      "metadata": {
        "colab": {
          "base_uri": "https://localhost:8080/"
        },
        "id": "Tb9bJbayDndq",
        "outputId": "1c9f6ff3-df1d-4d0a-b082-187a187e2d3c"
      },
      "execution_count": null,
      "outputs": [
        {
          "output_type": "stream",
          "name": "stdout",
          "text": [
            "this is my class3\n"
          ]
        }
      ]
    },
    {
      "cell_type": "markdown",
      "source": [
        "#Mutliple inheritance:"
      ],
      "metadata": {
        "id": "8n9Py1gLG-T1"
      }
    },
    {
      "cell_type": "code",
      "source": [
        "class class1:\n",
        "  \n",
        "  def test_class1(self):\n",
        "    print(\"this is my class1\")"
      ],
      "metadata": {
        "id": "reBusSKsDsKv"
      },
      "execution_count": null,
      "outputs": []
    },
    {
      "cell_type": "code",
      "source": [
        "class class2:\n",
        "  \n",
        "  def test_class2(self):\n",
        "    print(\"this is my class2\")"
      ],
      "metadata": {
        "id": "8O2gUtjNHSXm"
      },
      "execution_count": null,
      "outputs": []
    },
    {
      "cell_type": "code",
      "source": [
        "class class3(class1, class2):\n",
        "  pass"
      ],
      "metadata": {
        "id": "cKzTct5pHUWm"
      },
      "execution_count": null,
      "outputs": []
    },
    {
      "cell_type": "code",
      "source": [
        "obj_class3 = class3()"
      ],
      "metadata": {
        "id": "vZh_a9qBHgYH"
      },
      "execution_count": null,
      "outputs": []
    },
    {
      "cell_type": "code",
      "source": [
        "obj_class3.test_class1()\n"
      ],
      "metadata": {
        "colab": {
          "base_uri": "https://localhost:8080/"
        },
        "id": "hX_1B4iqH38N",
        "outputId": "faca6605-9f15-4e06-c8c7-eab54882c5c6"
      },
      "execution_count": null,
      "outputs": [
        {
          "output_type": "stream",
          "name": "stdout",
          "text": [
            "this is my class1\n"
          ]
        }
      ]
    },
    {
      "cell_type": "code",
      "source": [
        "obj_class3.test_class2()"
      ],
      "metadata": {
        "colab": {
          "base_uri": "https://localhost:8080/"
        },
        "id": "vFZOonJMIZ0l",
        "outputId": "3a750fca-bc3b-465b-b20d-0487bd01eefc"
      },
      "execution_count": null,
      "outputs": [
        {
          "output_type": "stream",
          "name": "stdout",
          "text": [
            "this is my class2\n"
          ]
        }
      ]
    },
    {
      "cell_type": "markdown",
      "source": [
        "##### Abstraction:  a process of handling complexity by hiding unnecessary information from the user.\n",
        "\n",
        "#####  It includes hiding the implementation part and showing only the required data and \n",
        "##### features to the user. It is done to hide the implementation complexity and details from the user. And to provide a good interface in programming."
      ],
      "metadata": {
        "id": "a8ySzkozRQ8h"
      }
    },
    {
      "cell_type": "markdown",
      "source": [
        "## Abstraction:\n"
      ],
      "metadata": {
        "id": "7zefc8ZlM47I"
      }
    },
    {
      "cell_type": "code",
      "source": [
        "import abc\n",
        " \n",
        "class pwskills():\n",
        "\n",
        "  \n",
        "  @abc.abstractmethod\n",
        "  def student_details(self):\n",
        "    pass\n",
        "\n",
        "  @abc.abstractmethod\n",
        "  def student_assignments(self):\n",
        "    pass\n",
        "\n",
        "  @abc.abstractmethod\n",
        "  def student_marks(self):\n",
        "    pass\n",
        "\n",
        "\n",
        "class data_science(pwskills):\n",
        "\n",
        "  def student_details(self):\n",
        "    print(\"This methods prints the details of the students of the data science masters course\")\n",
        "\n",
        "\n",
        "\n",
        "  def student_assignment(self):\n",
        "    print(\"This method prints the marks of students of the web data science course\")\n",
        "\n",
        "\n",
        "\n",
        "class web_dev(pwskills):\n",
        "\n",
        "  def student_details(self):\n",
        "    print(\"This method prints the details of the students of data science masters course\")\n",
        "\n",
        "  def student_asssignment(self):\n",
        "    print(\"This method prints the marks of the students of the web dev course\")\n",
        "\n",
        "\n",
        "ds= data_science()\n",
        "ds.student_details()"
      ],
      "metadata": {
        "id": "18hxom38M8bK",
        "colab": {
          "base_uri": "https://localhost:8080/"
        },
        "outputId": "2651ad70-b48e-4488-cde4-64adf8036cb7"
      },
      "execution_count": null,
      "outputs": [
        {
          "output_type": "stream",
          "name": "stdout",
          "text": [
            "This methods prints the details of the students of the data science masters course\n"
          ]
        }
      ]
    },
    {
      "cell_type": "code",
      "source": [
        "wd = web_dev()\n",
        "wd.student_details()"
      ],
      "metadata": {
        "colab": {
          "base_uri": "https://localhost:8080/"
        },
        "id": "zanKI5bxBdc0",
        "outputId": "390bca8e-8fad-4155-844e-d17c0b4c7757"
      },
      "execution_count": null,
      "outputs": [
        {
          "output_type": "stream",
          "name": "stdout",
          "text": [
            "This method prints the details of the students of data science masters course\n"
          ]
        }
      ]
    },
    {
      "cell_type": "code",
      "source": [],
      "metadata": {
        "id": "u8dBrkW5BoDJ"
      },
      "execution_count": null,
      "outputs": []
    }
  ]
}