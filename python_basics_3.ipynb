{
  "cells": [
    {
      "cell_type": "code",
      "execution_count": null,
      "id": "34d931f6-c203-43af-af4a-9f3ba497080b",
      "metadata": {
        "id": "34d931f6-c203-43af-af4a-9f3ba497080b",
        "outputId": "be1b0eb5-3eb3-4d62-9bd5-bd3d094e1564"
      },
      "outputs": [
        {
          "name": "stdout",
          "output_type": "stream",
          "text": [
            "*\n",
            "**\n",
            "***\n",
            "****\n",
            "*****\n",
            "******\n",
            "*******\n"
          ]
        }
      ],
      "source": [
        "n = 7\n",
        "for i in range(n):\n",
        "    for j in range(0,i+1):\n",
        "        print(\"*\",end='')\n",
        "    print(\"\\r\")\n",
        "    \n",
        "    "
      ]
    },
    {
      "cell_type": "code",
      "execution_count": null,
      "id": "07dac8d3-7000-4557-9568-98ac3d5df592",
      "metadata": {
        "id": "07dac8d3-7000-4557-9568-98ac3d5df592",
        "outputId": "774bd852-012c-41e6-e452-760fc5ff60b1"
      },
      "outputs": [
        {
          "name": "stdin",
          "output_type": "stream",
          "text": [
            "enter no. of rows 6\n"
          ]
        },
        {
          "name": "stdout",
          "output_type": "stream",
          "text": [
            "     * \n",
            "    * * \n",
            "   * * * \n",
            "  * * * * \n",
            " * * * * * \n",
            "* * * * * * \n"
          ]
        }
      ],
      "source": [
        "# printing an equilateral triangle\n",
        "n = int(input(\"enter no. of rows\"))\n",
        "for i in range(0,n):\n",
        "        for j in range(0,n-i-1):\n",
        "            print(\" \", end=\"\")\n",
        "        for j in range(0,i+1):\n",
        "            print(\"*\", end= \" \")\n",
        "        print()\n",
        "        \n"
      ]
    },
    {
      "cell_type": "code",
      "execution_count": null,
      "id": "1a931299-323c-4c7a-bf10-1957f83d2ff3",
      "metadata": {
        "id": "1a931299-323c-4c7a-bf10-1957f83d2ff3",
        "outputId": "d95b1d01-c98e-4c39-872d-af5d2e2b9c17"
      },
      "outputs": [
        {
          "data": {
            "text/plain": [
              "':::::vanna'"
            ]
          },
          "execution_count": 3,
          "metadata": {},
          "output_type": "execute_result"
        }
      ],
      "source": [
        "stir = \"vanna\"\n",
        "stir.rjust(10, \":\")"
      ]
    },
    {
      "cell_type": "code",
      "execution_count": null,
      "id": "08dacfc2-10ee-452b-9b59-05af2a1105a7",
      "metadata": {
        "id": "08dacfc2-10ee-452b-9b59-05af2a1105a7",
        "outputId": "e76edc90-f1af-4cfc-81ef-c8dd78ebef4a"
      },
      "outputs": [
        {
          "data": {
            "text/plain": [
              "'vanna     '"
            ]
          },
          "execution_count": 4,
          "metadata": {},
          "output_type": "execute_result"
        }
      ],
      "source": [
        "stir.ljust(10)"
      ]
    },
    {
      "cell_type": "code",
      "execution_count": null,
      "id": "04498794-61f4-4a74-8442-b005689a3119",
      "metadata": {
        "id": "04498794-61f4-4a74-8442-b005689a3119",
        "outputId": "87fbdf91-716b-47e1-a0f5-56310f7ffa78"
      },
      "outputs": [
        {
          "data": {
            "text/plain": [
              "'>>>vanna>>>'"
            ]
          },
          "execution_count": 5,
          "metadata": {},
          "output_type": "execute_result"
        }
      ],
      "source": [
        "stir.center(11,\">\")"
      ]
    },
    {
      "cell_type": "code",
      "execution_count": null,
      "id": "6f94c296-5021-47ce-98dc-72fe50a40a8e",
      "metadata": {
        "id": "6f94c296-5021-47ce-98dc-72fe50a40a8e",
        "outputId": "6c7adbfe-db01-4d9e-97fa-5397b700e3b1"
      },
      "outputs": [
        {
          "data": {
            "text/plain": [
              "'>>vanna>>>'"
            ]
          },
          "execution_count": 6,
          "metadata": {},
          "output_type": "execute_result"
        }
      ],
      "source": [
        "stir.center(10,\">\")"
      ]
    },
    {
      "cell_type": "code",
      "execution_count": null,
      "id": "ce28a547-95c5-4ccd-b145-b3183180a9c9",
      "metadata": {
        "id": "ce28a547-95c5-4ccd-b145-b3183180a9c9"
      },
      "outputs": [],
      "source": [
        "here =\"pista\"\n",
        "there =\"pista\""
      ]
    },
    {
      "cell_type": "code",
      "execution_count": null,
      "id": "9cd15847-9ade-427c-b9b6-af554c655fc6",
      "metadata": {
        "id": "9cd15847-9ade-427c-b9b6-af554c655fc6",
        "outputId": "28852a76-5f77-4559-df29-087191f990df"
      },
      "outputs": [
        {
          "data": {
            "text/plain": [
              "True"
            ]
          },
          "execution_count": 8,
          "metadata": {},
          "output_type": "execute_result"
        }
      ],
      "source": [
        "here is there"
      ]
    },
    {
      "cell_type": "code",
      "execution_count": null,
      "id": "67cd1601-b37f-400c-91d4-fa8cca5b65c6",
      "metadata": {
        "id": "67cd1601-b37f-400c-91d4-fa8cca5b65c6",
        "outputId": "9a2afb08-7990-4faf-f169-f5de80079e69"
      },
      "outputs": [
        {
          "data": {
            "text/plain": [
              "True"
            ]
          },
          "execution_count": 9,
          "metadata": {},
          "output_type": "execute_result"
        }
      ],
      "source": [
        "here == there"
      ]
    },
    {
      "cell_type": "code",
      "execution_count": null,
      "id": "d77681a9-3517-4044-abce-6f3832704285",
      "metadata": {
        "id": "d77681a9-3517-4044-abce-6f3832704285",
        "outputId": "e6578f2d-b1fc-470c-e7ee-312ed55b38c1"
      },
      "outputs": [
        {
          "data": {
            "text/plain": [
              "False"
            ]
          },
          "execution_count": 10,
          "metadata": {},
          "output_type": "execute_result"
        }
      ],
      "source": [
        "l1= [12,45,65]\n",
        "l2= [12,45,65]\n",
        "l1 is l2"
      ]
    },
    {
      "cell_type": "code",
      "execution_count": null,
      "id": "190efc2e-a313-4461-ac61-8e37a2a06bf7",
      "metadata": {
        "id": "190efc2e-a313-4461-ac61-8e37a2a06bf7",
        "outputId": "c163f437-ddc9-4aa5-eb50-13f9fb87262f"
      },
      "outputs": [
        {
          "data": {
            "text/plain": [
              "True"
            ]
          },
          "execution_count": 11,
          "metadata": {},
          "output_type": "execute_result"
        }
      ],
      "source": [
        "l1==l2"
      ]
    },
    {
      "cell_type": "code",
      "execution_count": null,
      "id": "78a8e64d-c39b-4473-9371-8d0b6c04ba58",
      "metadata": {
        "id": "78a8e64d-c39b-4473-9371-8d0b6c04ba58",
        "outputId": "ea58cf07-678a-4cfa-e626-a55b6b0bef2d"
      },
      "outputs": [
        {
          "data": {
            "text/plain": [
              "1"
            ]
          },
          "execution_count": 12,
          "metadata": {},
          "output_type": "execute_result"
        }
      ],
      "source": [
        "str2 = \"data science\"\n",
        "\n",
        "str2.count(' ')"
      ]
    },
    {
      "cell_type": "code",
      "execution_count": null,
      "id": "49c2c9a5-d4f9-4a58-970a-01942cc703f1",
      "metadata": {
        "id": "49c2c9a5-d4f9-4a58-970a-01942cc703f1",
        "outputId": "de9cc2d3-daf5-4a41-bd3f-c9f5f7233644"
      },
      "outputs": [
        {
          "data": {
            "text/plain": [
              "12"
            ]
          },
          "execution_count": 13,
          "metadata": {},
          "output_type": "execute_result"
        }
      ],
      "source": [
        "len(str2)"
      ]
    },
    {
      "cell_type": "code",
      "execution_count": null,
      "id": "f17753d7-188a-4112-81e8-2f4b632b5b49",
      "metadata": {
        "id": "f17753d7-188a-4112-81e8-2f4b632b5b49",
        "outputId": "c9047ee7-a3de-4c2c-cd5e-5d386ae85034"
      },
      "outputs": [
        {
          "name": "stdout",
          "output_type": "stream",
          "text": [
            "d\n",
            "a\n",
            "t\n",
            "a\n",
            " \n",
            "s\n",
            "c\n",
            "i\n",
            "e\n",
            "n\n",
            "c\n",
            "e\n"
          ]
        }
      ],
      "source": [
        "for i in str2:\n",
        "    print(i)"
      ]
    },
    {
      "cell_type": "code",
      "execution_count": null,
      "id": "7e2140ca-d7d4-4b81-81b2-d98ac1ff9d10",
      "metadata": {
        "id": "7e2140ca-d7d4-4b81-81b2-d98ac1ff9d10",
        "outputId": "11d8ed36-f9c0-42ee-94c1-0368158fe8cc"
      },
      "outputs": [
        {
          "name": "stdout",
          "output_type": "stream",
          "text": [
            "d\n",
            "a\n",
            "t\n",
            "a\n",
            " \n",
            "s\n",
            "c\n",
            "i\n",
            "e\n",
            "n\n",
            "c\n",
            "e\n"
          ]
        }
      ],
      "source": [
        "# displaying characters indexwisse\n",
        "for i in range(len(str2)):\n",
        "    print(str2[i])"
      ]
    },
    {
      "cell_type": "code",
      "execution_count": null,
      "id": "18819782-a6ea-4b8b-ac89-6e3b6cb6b1ed",
      "metadata": {
        "id": "18819782-a6ea-4b8b-ac89-6e3b6cb6b1ed",
        "outputId": "e2599567-a43d-4c64-ecb2-1f339c8577e8"
      },
      "outputs": [
        {
          "name": "stdout",
          "output_type": "stream",
          "text": [
            "12\n"
          ]
        }
      ],
      "source": [
        "# length function is written this way  , logic behind length function\n",
        "# to count the characters in a string\n",
        "\n",
        "count = 0\n",
        "\n",
        "for i in str2:\n",
        "    count+=1\n",
        "    \n",
        "print(count)"
      ]
    },
    {
      "cell_type": "code",
      "execution_count": null,
      "id": "4b7fbfcf-1af5-4563-a1c7-81f7b21450f4",
      "metadata": {
        "id": "4b7fbfcf-1af5-4563-a1c7-81f7b21450f4",
        "outputId": "b5759a79-f884-4019-cdf7-21b1653664d7"
      },
      "outputs": [
        {
          "name": "stdout",
          "output_type": "stream",
          "text": [
            "e\n",
            "c\n",
            "n\n",
            "e\n",
            "i\n",
            "c\n",
            "s\n",
            " \n",
            "a\n",
            "t\n",
            "a\n",
            "d\n"
          ]
        }
      ],
      "source": [
        "#***********************************************************************************\n",
        "# using index to iterate  string in reverse direction\n",
        "for i in range(len(str2)-1,-1,-1):\n",
        "    print(str2[i])"
      ]
    },
    {
      "cell_type": "code",
      "execution_count": null,
      "id": "e65014e2-216d-44bd-a02a-4cffdba83384",
      "metadata": {
        "id": "e65014e2-216d-44bd-a02a-4cffdba83384",
        "outputId": "98fcc47d-5254-42bc-d646-f4c5fd9a9e15"
      },
      "outputs": [
        {
          "name": "stdout",
          "output_type": "stream",
          "text": [
            "11\n"
          ]
        }
      ],
      "source": [
        "# another method\n",
        "ch= len(str2)-1\n",
        "print(ch)"
      ]
    },
    {
      "cell_type": "code",
      "execution_count": null,
      "id": "e6a5e260-df50-4161-9d6d-5e752c648485",
      "metadata": {
        "id": "e6a5e260-df50-4161-9d6d-5e752c648485",
        "outputId": "2e2d47a3-271a-44b3-fa1e-9971429444d1"
      },
      "outputs": [
        {
          "name": "stdout",
          "output_type": "stream",
          "text": [
            "e\n",
            "c\n",
            "n\n",
            "e\n",
            "i\n",
            "c\n",
            "s\n",
            " \n",
            "a\n",
            "t\n",
            "a\n",
            "d\n"
          ]
        }
      ],
      "source": [
        "while ch>=0:\n",
        "    print(str2[ch])\n",
        "    ch=ch-1"
      ]
    },
    {
      "cell_type": "code",
      "execution_count": null,
      "id": "e753c31a-eee3-43a6-a9a1-f922f78b1bd3",
      "metadata": {
        "id": "e753c31a-eee3-43a6-a9a1-f922f78b1bd3",
        "outputId": "15ecc93a-c31c-4525-8b44-d5f01baef9e4"
      },
      "outputs": [
        {
          "name": "stdout",
          "output_type": "stream",
          "text": [
            "ecneics atad"
          ]
        }
      ],
      "source": [
        "# best solution\n",
        "\n",
        "\n",
        "for i in range(len(str2)):\n",
        "     print(str2[len(str2) - (i+1)],end=\"\")"
      ]
    },
    {
      "cell_type": "code",
      "execution_count": null,
      "id": "40e13946-b537-4a61-8a9a-e856061be850",
      "metadata": {
        "id": "40e13946-b537-4a61-8a9a-e856061be850",
        "outputId": "f481a911-a3b9-43a9-8db5-1adbd3f0ffb9"
      },
      "outputs": [
        {
          "data": {
            "text/plain": [
              "['e', 'c', 'n', 'e', 'i', 'c', 's', ' ', 'a', 't', 'a', 'd']"
            ]
          },
          "execution_count": 21,
          "metadata": {},
          "output_type": "execute_result"
        }
      ],
      "source": [
        "list(reversed(str2))"
      ]
    },
    {
      "cell_type": "markdown",
      "id": "5ed07e3f-5eeb-4f8d-88eb-e91f4a897d4a",
      "metadata": {
        "id": "5ed07e3f-5eeb-4f8d-88eb-e91f4a897d4a"
      },
      "source": [
        "## List "
      ]
    },
    {
      "cell_type": "code",
      "execution_count": null,
      "id": "0d47c3f3-179c-42e0-b87f-cd8e230e203c",
      "metadata": {
        "id": "0d47c3f3-179c-42e0-b87f-cd8e230e203c",
        "outputId": "3a37b658-23b0-41b4-a6c9-88bd7f02da18"
      },
      "outputs": [
        {
          "data": {
            "text/plain": [
              "list"
            ]
          },
          "execution_count": 22,
          "metadata": {},
          "output_type": "execute_result"
        }
      ],
      "source": [
        "type([])"
      ]
    },
    {
      "cell_type": "code",
      "execution_count": null,
      "id": "86e6dbd7-1cc4-40f6-8832-917a9909f1db",
      "metadata": {
        "id": "86e6dbd7-1cc4-40f6-8832-917a9909f1db",
        "outputId": "499e1c8e-a04b-406a-8484-51c122981e36"
      },
      "outputs": [
        {
          "data": {
            "text/plain": [
              "[12, 45]"
            ]
          },
          "execution_count": 23,
          "metadata": {},
          "output_type": "execute_result"
        }
      ],
      "source": [
        "list([12,45])"
      ]
    },
    {
      "cell_type": "code",
      "execution_count": null,
      "id": "1b227f46-c4ce-40ad-ac01-d9dc7a0bab9d",
      "metadata": {
        "id": "1b227f46-c4ce-40ad-ac01-d9dc7a0bab9d",
        "outputId": "b8955829-803e-400d-9679-90163c5d19d7"
      },
      "outputs": [
        {
          "data": {
            "text/plain": [
              "['d', 'a', 't', 'a', ' ', 's', 'c', 'i', 'e', 'n', 'c', 'e']"
            ]
          },
          "execution_count": 24,
          "metadata": {},
          "output_type": "execute_result"
        }
      ],
      "source": [
        "list(str2)"
      ]
    },
    {
      "cell_type": "code",
      "execution_count": null,
      "id": "9e6ad4ec-a33a-4ffa-8f54-c9ee4f4b0222",
      "metadata": {
        "id": "9e6ad4ec-a33a-4ffa-8f54-c9ee4f4b0222",
        "outputId": "7dc8118b-4906-4fbe-f0d4-bf223d075b5c"
      },
      "outputs": [
        {
          "data": {
            "text/plain": [
              "[\"I'll\", 'make', 'it', 'to', 'the', 'leaderboard', 'soon']"
            ]
          },
          "execution_count": 25,
          "metadata": {},
          "output_type": "execute_result"
        }
      ],
      "source": [
        "sent = \"I'll make it to the leaderboard soon\"\n",
        "l1= list(sent.split(\" \"))\n",
        "l1"
      ]
    },
    {
      "cell_type": "code",
      "execution_count": null,
      "id": "d9b6684b-2cf4-4872-9dd5-4219cab11338",
      "metadata": {
        "id": "d9b6684b-2cf4-4872-9dd5-4219cab11338",
        "outputId": "71075945-5727-485c-86c3-646e554af7ee"
      },
      "outputs": [
        {
          "data": {
            "text/plain": [
              "[\"I'll\", 'make', 'it', 'to', 'the', 'leaderboard', 'soon']"
            ]
          },
          "execution_count": 26,
          "metadata": {},
          "output_type": "execute_result"
        }
      ],
      "source": [
        "l1[::]"
      ]
    },
    {
      "cell_type": "code",
      "execution_count": null,
      "id": "7a87e12c-7163-47ef-a245-b0d963c454a9",
      "metadata": {
        "id": "7a87e12c-7163-47ef-a245-b0d963c454a9",
        "outputId": "aca72a75-71ce-4048-bd5a-36da238aa9ba"
      },
      "outputs": [
        {
          "data": {
            "text/plain": [
              "['soon', 'leaderboard', 'the', 'to', 'it', 'make', \"I'll\"]"
            ]
          },
          "execution_count": 27,
          "metadata": {},
          "output_type": "execute_result"
        }
      ],
      "source": [
        "l1[::-1]"
      ]
    },
    {
      "cell_type": "code",
      "execution_count": null,
      "id": "2d1eb20e-8e4a-4334-98c8-da3589cc8d7f",
      "metadata": {
        "id": "2d1eb20e-8e4a-4334-98c8-da3589cc8d7f",
        "outputId": "bd3b1a8c-e972-44fd-900b-f23ad6cdd26b"
      },
      "outputs": [
        {
          "data": {
            "text/plain": [
              "[\"I'll\"]"
            ]
          },
          "execution_count": 28,
          "metadata": {},
          "output_type": "execute_result"
        }
      ],
      "source": [
        "l1[-7::-1]  \n",
        "# cause it doesnt hold much significance  as-1 being the step size , \n",
        "# after having a negative number in the first index itself"
      ]
    },
    {
      "cell_type": "code",
      "execution_count": null,
      "id": "b82b8e79-406d-47b6-82bc-379cc0e7e8b1",
      "metadata": {
        "id": "b82b8e79-406d-47b6-82bc-379cc0e7e8b1",
        "outputId": "2d18d92c-5b4a-43c4-b80c-08488377d946"
      },
      "outputs": [
        {
          "data": {
            "text/plain": [
              "[\"I'll\"]"
            ]
          },
          "execution_count": 29,
          "metadata": {},
          "output_type": "execute_result"
        }
      ],
      "source": [
        "l1[-7::-2]  \n",
        "# cause it doesnt hold much significance  as-2 being the step size , \n",
        "# after having a negative number in the first index itself"
      ]
    },
    {
      "cell_type": "code",
      "execution_count": null,
      "id": "e0d02b3b-e6e9-4a23-92be-2ab356c1f1d4",
      "metadata": {
        "id": "e0d02b3b-e6e9-4a23-92be-2ab356c1f1d4",
        "outputId": "b0f0fd33-5696-4d6d-86b0-d06fbb781c2c"
      },
      "outputs": [
        {
          "data": {
            "text/plain": [
              "[\"I'll\", 'make', 'it', 'to', 'the', 'leaderboard', 'soon', 'hie', 32]"
            ]
          },
          "execution_count": 30,
          "metadata": {},
          "output_type": "execute_result"
        }
      ],
      "source": [
        "# concatination operation\n",
        "l1 + [\"hie\" ,32]"
      ]
    },
    {
      "cell_type": "code",
      "execution_count": null,
      "id": "5db2949e-3e21-4357-99a1-1bee714b3367",
      "metadata": {
        "id": "5db2949e-3e21-4357-99a1-1bee714b3367",
        "outputId": "54ff1f81-d081-466b-841b-a048b5733ed6"
      },
      "outputs": [
        {
          "data": {
            "text/plain": [
              "[\"I'll\", 'make', 'it', 'to', 'the', 'leaderboard', 'soon', 'zeros', 'ones']"
            ]
          },
          "execution_count": 31,
          "metadata": {},
          "output_type": "execute_result"
        }
      ],
      "source": [
        "\n",
        "# if you dont want to make it a nested list , simply just dont append and usse extend instead\n",
        "l1.extend([\"zeros\",\"ones\"])\n",
        "l1"
      ]
    },
    {
      "cell_type": "code",
      "execution_count": null,
      "id": "d793c158-f0a6-4077-b8d2-e189c41e3809",
      "metadata": {
        "id": "d793c158-f0a6-4077-b8d2-e189c41e3809",
        "outputId": "ad220359-09dd-48e9-e573-53b77b0e9eba"
      },
      "outputs": [
        {
          "data": {
            "text/plain": [
              "[\"I'll\",\n",
              " 'make',\n",
              " 'it',\n",
              " 'to',\n",
              " 'the',\n",
              " 'leaderboard',\n",
              " 'soon',\n",
              " 'zeros',\n",
              " 'ones',\n",
              " ['hie', 32]]"
            ]
          },
          "execution_count": 32,
          "metadata": {},
          "output_type": "execute_result"
        }
      ],
      "source": [
        "l2= l1 + [[\"hie\" ,32]]   # nested list\n",
        "l2\n",
        "# if you dont want to make it a nested list , simply just dont append and usse extend instead"
      ]
    },
    {
      "cell_type": "code",
      "execution_count": null,
      "id": "3756e1ee-7e8a-4c51-be91-0952349f9ee8",
      "metadata": {
        "id": "3756e1ee-7e8a-4c51-be91-0952349f9ee8",
        "outputId": "5912287a-1391-4ea2-910d-b53b93f5146d"
      },
      "outputs": [
        {
          "data": {
            "text/plain": [
              "'hie'"
            ]
          },
          "execution_count": 33,
          "metadata": {},
          "output_type": "execute_result"
        }
      ],
      "source": [
        "l2[-1][0]"
      ]
    },
    {
      "cell_type": "code",
      "execution_count": null,
      "id": "92ab494d-912d-4d49-b8f5-b34306217280",
      "metadata": {
        "id": "92ab494d-912d-4d49-b8f5-b34306217280",
        "outputId": "09642971-f10a-4c4b-9432-bf3e54f7372e"
      },
      "outputs": [
        {
          "data": {
            "text/plain": [
              "32"
            ]
          },
          "execution_count": 34,
          "metadata": {},
          "output_type": "execute_result"
        }
      ],
      "source": [
        "l2[-1][1]"
      ]
    },
    {
      "cell_type": "code",
      "execution_count": null,
      "id": "0edce960-07d1-4040-a51e-babd9c7e7d93",
      "metadata": {
        "id": "0edce960-07d1-4040-a51e-babd9c7e7d93",
        "outputId": "4f331081-7552-4213-adff-91be7ac870d4"
      },
      "outputs": [
        {
          "data": {
            "text/plain": [
              "'ones'"
            ]
          },
          "execution_count": 35,
          "metadata": {},
          "output_type": "execute_result"
        }
      ],
      "source": [
        "l2[-2]"
      ]
    },
    {
      "cell_type": "code",
      "execution_count": null,
      "id": "63ab525f-932c-4998-9d25-1bcea359c0b8",
      "metadata": {
        "id": "63ab525f-932c-4998-9d25-1bcea359c0b8",
        "outputId": "d1d54237-f3fd-420b-efb2-87eeb848ba2b"
      },
      "outputs": [
        {
          "data": {
            "text/plain": [
              "'ones'"
            ]
          },
          "execution_count": 36,
          "metadata": {},
          "output_type": "execute_result"
        }
      ],
      "source": [
        "l1[-1]"
      ]
    },
    {
      "cell_type": "code",
      "execution_count": null,
      "id": "71d32981-8b77-46fe-98e7-77208a5ee928",
      "metadata": {
        "id": "71d32981-8b77-46fe-98e7-77208a5ee928",
        "outputId": "213fed08-4a30-4e6f-8a88-a8995e23f3a3"
      },
      "outputs": [
        {
          "data": {
            "text/plain": [
              "[\"I'll\",\n",
              " 'make',\n",
              " 'it',\n",
              " 'to',\n",
              " 'the',\n",
              " 'leaderboard',\n",
              " 'soon',\n",
              " 'zeros',\n",
              " 'ones',\n",
              " ['hie', 32],\n",
              " \"I'll\",\n",
              " 'make',\n",
              " 'it',\n",
              " 'to',\n",
              " 'the',\n",
              " 'leaderboard',\n",
              " 'soon',\n",
              " 'zeros',\n",
              " 'ones',\n",
              " ['hie', 32]]"
            ]
          },
          "execution_count": 37,
          "metadata": {},
          "output_type": "execute_result"
        }
      ],
      "source": [
        "l2*2  # same list gets printed twice"
      ]
    },
    {
      "cell_type": "code",
      "execution_count": null,
      "id": "23fed761-fb38-469c-be3b-53db77dc86b1",
      "metadata": {
        "id": "23fed761-fb38-469c-be3b-53db77dc86b1",
        "outputId": "520cbbe6-8a75-4577-e920-c362b36e11fd"
      },
      "outputs": [
        {
          "name": "stdout",
          "output_type": "stream",
          "text": [
            "True\n"
          ]
        }
      ],
      "source": [
        "# membership operator\n",
        "if \"soon\" in l1:\n",
        "    print(True)"
      ]
    },
    {
      "cell_type": "code",
      "execution_count": null,
      "id": "cfa07cc9-ce4e-4d6e-8668-682579ce4607",
      "metadata": {
        "id": "cfa07cc9-ce4e-4d6e-8668-682579ce4607",
        "outputId": "570e90e9-fc11-46ea-c9bc-b19ddcbe9837"
      },
      "outputs": [
        {
          "name": "stdout",
          "output_type": "stream",
          "text": [
            "True\n"
          ]
        }
      ],
      "source": [
        "for i in l1:\n",
        "    if i==\"soon\":\n",
        "        print(True)\n",
        "        break"
      ]
    },
    {
      "cell_type": "code",
      "execution_count": null,
      "id": "c8445f41-4edc-4acb-8478-9ae146f38aaf",
      "metadata": {
        "id": "c8445f41-4edc-4acb-8478-9ae146f38aaf"
      },
      "outputs": [],
      "source": [
        "lx = [\"zerodha\" , \"angleone\" , \"kite\" , \"5paisa\"]\n",
        "ly=  [12,45,65,98,23]"
      ]
    },
    {
      "cell_type": "code",
      "execution_count": null,
      "id": "8d49de1e-fbff-408f-89a3-1d3b53d856ea",
      "metadata": {
        "id": "8d49de1e-fbff-408f-89a3-1d3b53d856ea",
        "outputId": "2f53df3a-dd42-468f-a975-eb16c4ad53d9"
      },
      "outputs": [
        {
          "data": {
            "text/plain": [
              "True"
            ]
          },
          "execution_count": 41,
          "metadata": {},
          "output_type": "execute_result"
        }
      ],
      "source": [
        "12 in ly"
      ]
    },
    {
      "cell_type": "code",
      "execution_count": null,
      "id": "8ba24aa9-dbb0-4072-9ddb-71d7b3ad5be3",
      "metadata": {
        "id": "8ba24aa9-dbb0-4072-9ddb-71d7b3ad5be3",
        "outputId": "acaa8e9b-657d-4dac-d8ec-9bdd62231735"
      },
      "outputs": [
        {
          "name": "stdout",
          "output_type": "stream",
          "text": [
            "zerodha\n",
            "5paisa\n"
          ]
        }
      ],
      "source": [
        "print(max(lx))\n",
        "print(min(lx))"
      ]
    },
    {
      "cell_type": "code",
      "execution_count": null,
      "id": "15f0270f-eb61-429b-8c98-c0387f78d2dc",
      "metadata": {
        "id": "15f0270f-eb61-429b-8c98-c0387f78d2dc",
        "outputId": "31423e89-298e-4026-becb-24606a6bbbe0"
      },
      "outputs": [
        {
          "name": "stdout",
          "output_type": "stream",
          "text": [
            "98\n",
            "12\n"
          ]
        }
      ],
      "source": [
        "print(max(ly))\n",
        "print(min(ly))"
      ]
    },
    {
      "cell_type": "code",
      "execution_count": null,
      "id": "fd9100ec-6bf3-42d1-b4ed-2c03c52a81a7",
      "metadata": {
        "id": "fd9100ec-6bf3-42d1-b4ed-2c03c52a81a7",
        "outputId": "e773b6c6-d47e-41eb-f0c4-523de4e5d88b"
      },
      "outputs": [
        {
          "data": {
            "text/plain": [
              "True"
            ]
          },
          "execution_count": 44,
          "metadata": {},
          "output_type": "execute_result"
        }
      ],
      "source": [
        "12.0 in ly"
      ]
    },
    {
      "cell_type": "code",
      "execution_count": null,
      "id": "3428f53a-7d9e-49ad-981a-7cc11209a86a",
      "metadata": {
        "id": "3428f53a-7d9e-49ad-981a-7cc11209a86a",
        "outputId": "daa2b87c-56e0-4da4-833f-e5b328cf0651"
      },
      "outputs": [
        {
          "data": {
            "text/plain": [
              "['zerodha', 'angleone', 'kite', '5paisa', 'Data']"
            ]
          },
          "execution_count": 45,
          "metadata": {},
          "output_type": "execute_result"
        }
      ],
      "source": [
        "lx.append(\"Data\")\n",
        "lx"
      ]
    },
    {
      "cell_type": "code",
      "execution_count": null,
      "id": "460997f3-ce12-4040-ba2a-075c9c17a37e",
      "metadata": {
        "id": "460997f3-ce12-4040-ba2a-075c9c17a37e",
        "outputId": "539e6f21-da49-42fd-8011-f792fa653dcd"
      },
      "outputs": [
        {
          "data": {
            "text/plain": [
              "['zerodha', 'angleone', 'kite', '5paisa', 'Data', ['Science', 'masters']]"
            ]
          },
          "execution_count": 46,
          "metadata": {},
          "output_type": "execute_result"
        }
      ],
      "source": [
        "lx.append([\"Science\",\"masters\"])\n",
        "lx\n"
      ]
    },
    {
      "cell_type": "code",
      "execution_count": null,
      "id": "c2021778-11ac-4780-8891-59a4d7745fa7",
      "metadata": {
        "id": "c2021778-11ac-4780-8891-59a4d7745fa7",
        "outputId": "80cc2ab4-c748-4b7b-9984-6de68aa36a01"
      },
      "outputs": [
        {
          "data": {
            "text/plain": [
              "['Science', 'masters']"
            ]
          },
          "execution_count": 47,
          "metadata": {},
          "output_type": "execute_result"
        }
      ],
      "source": [
        "lx.pop()"
      ]
    },
    {
      "cell_type": "code",
      "execution_count": null,
      "id": "b4785ecc-d11d-469f-b249-64a7e831d080",
      "metadata": {
        "id": "b4785ecc-d11d-469f-b249-64a7e831d080",
        "outputId": "aad838d7-0d76-42aa-848f-f272d66f4dc7"
      },
      "outputs": [
        {
          "data": {
            "text/plain": [
              "23"
            ]
          },
          "execution_count": 48,
          "metadata": {},
          "output_type": "execute_result"
        }
      ],
      "source": [
        "ly.pop()"
      ]
    },
    {
      "cell_type": "code",
      "execution_count": null,
      "id": "e492fc53-60a5-40af-b873-442faf5f37a1",
      "metadata": {
        "id": "e492fc53-60a5-40af-b873-442faf5f37a1",
        "outputId": "cff293b3-0ae1-43e7-a576-8e3f2e2a96b9"
      },
      "outputs": [
        {
          "data": {
            "text/plain": [
              "['zerodha', 'angleone', 'kite', '5paisa', 'Data']"
            ]
          },
          "execution_count": 49,
          "metadata": {},
          "output_type": "execute_result"
        }
      ],
      "source": [
        "lx"
      ]
    },
    {
      "cell_type": "code",
      "execution_count": null,
      "id": "9747aaee-9570-4634-9fa9-09d91d15324f",
      "metadata": {
        "id": "9747aaee-9570-4634-9fa9-09d91d15324f",
        "outputId": "5cec51d3-5167-4052-ef8e-ce677109b53f"
      },
      "outputs": [
        {
          "data": {
            "text/plain": [
              "[12, 45, 65, 98]"
            ]
          },
          "execution_count": 50,
          "metadata": {},
          "output_type": "execute_result"
        }
      ],
      "source": [
        "ly"
      ]
    },
    {
      "cell_type": "code",
      "execution_count": null,
      "id": "8f90f2fe-5add-4ae4-a95b-a40b91fac60c",
      "metadata": {
        "id": "8f90f2fe-5add-4ae4-a95b-a40b91fac60c",
        "outputId": "0fb6ae63-2a9c-4002-8da2-0745575fd390"
      },
      "outputs": [
        {
          "data": {
            "text/plain": [
              "12"
            ]
          },
          "execution_count": 51,
          "metadata": {},
          "output_type": "execute_result"
        }
      ],
      "source": [
        "ly.pop(0)  # index can be given to pop, by default pops out last index"
      ]
    },
    {
      "cell_type": "code",
      "execution_count": null,
      "id": "c91b0947-8166-406b-a11c-8d21fda86224",
      "metadata": {
        "id": "c91b0947-8166-406b-a11c-8d21fda86224",
        "outputId": "df9dedd9-be39-43df-b259-28d510bddf40"
      },
      "outputs": [
        {
          "data": {
            "text/plain": [
              "[45, 65, 98]"
            ]
          },
          "execution_count": 52,
          "metadata": {},
          "output_type": "execute_result"
        }
      ],
      "source": [
        "ly"
      ]
    },
    {
      "cell_type": "code",
      "execution_count": null,
      "id": "3a117419-5689-460c-8a27-c1a0f3dfc0f2",
      "metadata": {
        "id": "3a117419-5689-460c-8a27-c1a0f3dfc0f2"
      },
      "outputs": [],
      "source": [
        "ly.remove(45)"
      ]
    },
    {
      "cell_type": "code",
      "execution_count": null,
      "id": "66756210-f4fe-4897-a922-58dc58e86883",
      "metadata": {
        "id": "66756210-f4fe-4897-a922-58dc58e86883",
        "outputId": "501456f0-f6d4-4202-f6f0-bf68e93c96f8"
      },
      "outputs": [
        {
          "data": {
            "text/plain": [
              "[65, 98]"
            ]
          },
          "execution_count": 54,
          "metadata": {},
          "output_type": "execute_result"
        }
      ],
      "source": [
        "ly"
      ]
    },
    {
      "cell_type": "code",
      "execution_count": null,
      "id": "31338c29-57dd-41a4-9201-dde8de7b0555",
      "metadata": {
        "id": "31338c29-57dd-41a4-9201-dde8de7b0555"
      },
      "outputs": [],
      "source": [
        "ly.append(99)"
      ]
    },
    {
      "cell_type": "code",
      "execution_count": null,
      "id": "fe4a859f-3450-4181-bb57-d96037c740bd",
      "metadata": {
        "id": "fe4a859f-3450-4181-bb57-d96037c740bd",
        "outputId": "7f334e20-8af0-4d17-bf1a-4df05a3d51dc"
      },
      "outputs": [
        {
          "data": {
            "text/plain": [
              "[65, 98, 99]"
            ]
          },
          "execution_count": 56,
          "metadata": {},
          "output_type": "execute_result"
        }
      ],
      "source": [
        "ly"
      ]
    },
    {
      "cell_type": "markdown",
      "id": "cfc57617-a2b8-4a10-886b-89aa1a699ca3",
      "metadata": {
        "id": "cfc57617-a2b8-4a10-886b-89aa1a699ca3"
      },
      "source": [
        "##  Reversing and Sorting in list"
      ]
    },
    {
      "cell_type": "code",
      "execution_count": null,
      "id": "9edee7ce-c482-4cae-ab43-5bcde2c31d4d",
      "metadata": {
        "id": "9edee7ce-c482-4cae-ab43-5bcde2c31d4d",
        "outputId": "c84266ba-68e9-4831-c9dc-49c2216815ff"
      },
      "outputs": [
        {
          "data": {
            "text/plain": [
              "['a', 'n', 'a', 'c', 'o', 'n', 'd', 'a']"
            ]
          },
          "execution_count": 57,
          "metadata": {},
          "output_type": "execute_result"
        }
      ],
      "source": [
        "ter = \"anaconda\" \n",
        "lz= list(ter)\n",
        "lz"
      ]
    },
    {
      "cell_type": "code",
      "execution_count": null,
      "id": "051651ca-4caf-4224-9410-167a04579574",
      "metadata": {
        "id": "051651ca-4caf-4224-9410-167a04579574",
        "outputId": "c13ffd24-f35f-4fa3-af3a-a1edfcf9eb25"
      },
      "outputs": [
        {
          "data": {
            "text/plain": [
              "['a', 'n', 'a', 'c', 'o', 'n', 'd', 'a']"
            ]
          },
          "execution_count": 58,
          "metadata": {},
          "output_type": "execute_result"
        }
      ],
      "source": [
        "lz[::]"
      ]
    },
    {
      "cell_type": "code",
      "execution_count": null,
      "id": "88eab824-e9d8-4db6-9c78-c31351f822a4",
      "metadata": {
        "id": "88eab824-e9d8-4db6-9c78-c31351f822a4",
        "outputId": "43fb6105-4113-4779-b098-2b34d6cf974e"
      },
      "outputs": [
        {
          "data": {
            "text/plain": [
              "['a', 'd', 'n', 'o', 'c', 'a', 'n', 'a']"
            ]
          },
          "execution_count": 59,
          "metadata": {},
          "output_type": "execute_result"
        }
      ],
      "source": [
        "lz[::-1]"
      ]
    },
    {
      "cell_type": "code",
      "execution_count": null,
      "id": "00e57102-ac12-4df9-beeb-8e9e98f78fe8",
      "metadata": {
        "id": "00e57102-ac12-4df9-beeb-8e9e98f78fe8"
      },
      "outputs": [],
      "source": [
        "lz.reverse()   # inplace"
      ]
    },
    {
      "cell_type": "code",
      "execution_count": null,
      "id": "fa6f17c4-c1bc-409a-a22e-51d4f6174007",
      "metadata": {
        "id": "fa6f17c4-c1bc-409a-a22e-51d4f6174007",
        "outputId": "a56b8a35-8c23-442f-ac85-3f834960062e"
      },
      "outputs": [
        {
          "data": {
            "text/plain": [
              "['a', 'd', 'n', 'o', 'c', 'a', 'n', 'a']"
            ]
          },
          "execution_count": 61,
          "metadata": {},
          "output_type": "execute_result"
        }
      ],
      "source": [
        "lz"
      ]
    },
    {
      "cell_type": "code",
      "execution_count": null,
      "id": "48e41161-d6a6-4004-b460-e3d54e52010e",
      "metadata": {
        "id": "48e41161-d6a6-4004-b460-e3d54e52010e"
      },
      "outputs": [],
      "source": [
        "lz.sort()"
      ]
    },
    {
      "cell_type": "code",
      "execution_count": null,
      "id": "b1f35cb6-15bc-4a0b-8924-d340744bb4c5",
      "metadata": {
        "id": "b1f35cb6-15bc-4a0b-8924-d340744bb4c5",
        "outputId": "10be4c73-614d-49c7-eb9c-082f13277700"
      },
      "outputs": [
        {
          "data": {
            "text/plain": [
              "['a', 'a', 'a', 'c', 'd', 'n', 'n', 'o']"
            ]
          },
          "execution_count": 63,
          "metadata": {},
          "output_type": "execute_result"
        }
      ],
      "source": [
        "lz"
      ]
    },
    {
      "cell_type": "code",
      "execution_count": null,
      "id": "ea661690-38d3-44f3-a81c-e9de9f3453e1",
      "metadata": {
        "id": "ea661690-38d3-44f3-a81c-e9de9f3453e1",
        "outputId": "71afadda-9924-41d8-d37d-9776ea080e8d"
      },
      "outputs": [
        {
          "data": {
            "text/plain": [
              "['o', 'n', 'n', 'd', 'c', 'a', 'a', 'a']"
            ]
          },
          "execution_count": 64,
          "metadata": {},
          "output_type": "execute_result"
        }
      ],
      "source": [
        "lz.sort(reverse= True)\n",
        "lz"
      ]
    },
    {
      "cell_type": "markdown",
      "id": "ad69b012-6021-4ba7-83ed-27cad566e969",
      "metadata": {
        "id": "ad69b012-6021-4ba7-83ed-27cad566e969"
      },
      "source": [
        "## append, extend , pop[i], remove are used as inbuilt methods in lists"
      ]
    },
    {
      "cell_type": "code",
      "execution_count": null,
      "id": "ae36c2d8-f7d6-475e-8839-e3c1df36a056",
      "metadata": {
        "id": "ae36c2d8-f7d6-475e-8839-e3c1df36a056"
      },
      "outputs": [],
      "source": [
        "roll = \"546468644\"\n",
        "xo= list(roll)\n",
        "     # int object is not iterable thats why first converted into string"
      ]
    },
    {
      "cell_type": "code",
      "execution_count": null,
      "id": "4479b75e-5eb6-423e-a264-cde8d5522fb0",
      "metadata": {
        "id": "4479b75e-5eb6-423e-a264-cde8d5522fb0",
        "outputId": "2286b058-bea9-4c60-f72b-cd1c8a7ad85a"
      },
      "outputs": [
        {
          "data": {
            "text/plain": [
              "['5', '4', '6', '4', '6', '8', '6', '4', '4']"
            ]
          },
          "execution_count": 66,
          "metadata": {},
          "output_type": "execute_result"
        }
      ],
      "source": [
        "xo"
      ]
    },
    {
      "cell_type": "code",
      "execution_count": null,
      "id": "27f621f1-9e6c-4251-99fe-4f757f73b316",
      "metadata": {
        "id": "27f621f1-9e6c-4251-99fe-4f757f73b316"
      },
      "outputs": [],
      "source": [
        "# typcasting string into integer\n",
        "bt =[]\n",
        "for i in xo:\n",
        "    bt.append(int(i))\n",
        "    "
      ]
    },
    {
      "cell_type": "code",
      "execution_count": null,
      "id": "8886e80d-01ee-4cdc-9f84-13f1c7870761",
      "metadata": {
        "id": "8886e80d-01ee-4cdc-9f84-13f1c7870761",
        "outputId": "3bcb179c-0764-49e7-da39-19fb79b3740f"
      },
      "outputs": [
        {
          "data": {
            "text/plain": [
              "[5, 4, 6, 4, 6, 8, 6, 4, 4]"
            ]
          },
          "execution_count": 68,
          "metadata": {},
          "output_type": "execute_result"
        }
      ],
      "source": [
        "bt"
      ]
    },
    {
      "cell_type": "markdown",
      "id": "3092532a-81bf-4624-95b8-d6266a838096",
      "metadata": {
        "id": "3092532a-81bf-4624-95b8-d6266a838096"
      },
      "source": [
        "## 2d and 3d matrices\n"
      ]
    },
    {
      "cell_type": "code",
      "execution_count": null,
      "id": "364b4294-0720-47cd-b8b6-45fbf0920b3c",
      "metadata": {
        "id": "364b4294-0720-47cd-b8b6-45fbf0920b3c"
      },
      "outputs": [],
      "source": [
        "x1 =  [(2,3,5),\n",
        "      (4,2,3)]"
      ]
    },
    {
      "cell_type": "code",
      "execution_count": null,
      "id": "5770d44f-45e8-4137-a12c-3887ed1c4c1b",
      "metadata": {
        "id": "5770d44f-45e8-4137-a12c-3887ed1c4c1b"
      },
      "outputs": [],
      "source": [
        "y1 =  [(2,3,5),\n",
        "      (4,2,3),\n",
        "      (1,3,7)]"
      ]
    },
    {
      "cell_type": "code",
      "execution_count": null,
      "id": "1304f86f-07e3-475e-b5b7-ee59bf9a61ac",
      "metadata": {
        "id": "1304f86f-07e3-475e-b5b7-ee59bf9a61ac",
        "outputId": "52400910-29e3-4efd-e4fb-e6714e779c0e"
      },
      "outputs": [
        {
          "data": {
            "text/plain": [
              "[(2, 3, 5), (4, 2, 3), (1, 3, 7)]"
            ]
          },
          "execution_count": 71,
          "metadata": {},
          "output_type": "execute_result"
        }
      ],
      "source": [
        "y1"
      ]
    },
    {
      "cell_type": "code",
      "execution_count": null,
      "id": "c0d0943b-04ce-439c-8745-3f1b5044d925",
      "metadata": {
        "id": "c0d0943b-04ce-439c-8745-3f1b5044d925",
        "outputId": "5037ac99-4273-44a4-d36d-4cae1658bfa2"
      },
      "outputs": [
        {
          "data": {
            "text/plain": [
              "2"
            ]
          },
          "execution_count": 72,
          "metadata": {},
          "output_type": "execute_result"
        }
      ],
      "source": [
        "x1[1][1]"
      ]
    },
    {
      "cell_type": "code",
      "execution_count": null,
      "id": "07a71179-a0f1-41e1-80b9-60b0aff8fbf3",
      "metadata": {
        "id": "07a71179-a0f1-41e1-80b9-60b0aff8fbf3",
        "outputId": "56bc7f98-953c-4286-af92-28e858a8d44a"
      },
      "outputs": [
        {
          "data": {
            "text/plain": [
              "(2, 3)"
            ]
          },
          "execution_count": 73,
          "metadata": {},
          "output_type": "execute_result"
        }
      ],
      "source": [
        "x1[1][1:]"
      ]
    },
    {
      "cell_type": "code",
      "execution_count": null,
      "id": "8597feda-8273-4980-b43b-9cbfd76bb8f4",
      "metadata": {
        "id": "8597feda-8273-4980-b43b-9cbfd76bb8f4",
        "outputId": "f152053d-0127-4ce2-da72-4cbca7b8bb54"
      },
      "outputs": [
        {
          "data": {
            "text/plain": [
              "[[1, 2, 3], [4, 3, 2], [5, 3, 6]]"
            ]
          },
          "execution_count": 74,
          "metadata": {},
          "output_type": "execute_result"
        }
      ],
      "source": [
        "# another way to define matrices\n",
        "l11 = [1,2,3]\n",
        "l12 = [4,3,2]\n",
        "l13 = [5,3,6]\n",
        "lf = [l11, l12, l13]\n",
        "lf"
      ]
    },
    {
      "cell_type": "markdown",
      "id": "2ec97bb0-8dc8-4761-9e16-c739be3c4800",
      "metadata": {
        "id": "2ec97bb0-8dc8-4761-9e16-c739be3c4800"
      },
      "source": [
        "## list comprehensions"
      ]
    },
    {
      "cell_type": "code",
      "execution_count": null,
      "id": "df981dc4-bf05-470f-96ae-3723c98a2b12",
      "metadata": {
        "id": "df981dc4-bf05-470f-96ae-3723c98a2b12",
        "outputId": "0cd93c3b-6850-4084-b92a-42184985d308"
      },
      "outputs": [
        {
          "data": {
            "text/plain": [
              "[0, 1, 2, 3, 4, 5, 6, 7, 8, 9, 10, 11, 12, 13, 14, 15, 16, 17, 18, 19]"
            ]
          },
          "execution_count": 75,
          "metadata": {},
          "output_type": "execute_result"
        }
      ],
      "source": [
        "[i for i in range(20)]"
      ]
    },
    {
      "cell_type": "code",
      "execution_count": null,
      "id": "0737c663-184c-467c-9fd4-3f20533754b8",
      "metadata": {
        "id": "0737c663-184c-467c-9fd4-3f20533754b8",
        "outputId": "0f6f6d7f-b5ad-40c7-f5e2-a49d3ff39b60"
      },
      "outputs": [
        {
          "data": {
            "text/plain": [
              "[0,\n",
              " 'ODD',\n",
              " 2,\n",
              " 'ODD',\n",
              " 4,\n",
              " 'ODD',\n",
              " 6,\n",
              " 'ODD',\n",
              " 8,\n",
              " 'ODD',\n",
              " 10,\n",
              " 'ODD',\n",
              " 12,\n",
              " 'ODD',\n",
              " 14,\n",
              " 'ODD',\n",
              " 16,\n",
              " 'ODD',\n",
              " 18,\n",
              " 'ODD']"
            ]
          },
          "execution_count": 76,
          "metadata": {},
          "output_type": "execute_result"
        }
      ],
      "source": [
        "[i if i%2==0 else \"ODD\" for i in range(20)]"
      ]
    },
    {
      "cell_type": "code",
      "execution_count": null,
      "id": "4c98083b-fe1d-471e-82a0-7dba4ba546c3",
      "metadata": {
        "id": "4c98083b-fe1d-471e-82a0-7dba4ba546c3",
        "outputId": "df65af64-74a5-4a59-ee7f-78c816da748f"
      },
      "outputs": [
        {
          "data": {
            "text/plain": [
              "[0, 2, 4, 6, 8, 10, 12, 14, 16, 18]"
            ]
          },
          "execution_count": 77,
          "metadata": {},
          "output_type": "execute_result"
        }
      ],
      "source": [
        "[i for i in range(20) if i %2 ==0]"
      ]
    },
    {
      "cell_type": "code",
      "execution_count": null,
      "id": "1762835c-f1c1-4a50-ab57-0035ce98e25a",
      "metadata": {
        "id": "1762835c-f1c1-4a50-ab57-0035ce98e25a",
        "outputId": "471bb4a4-686d-48fd-ca89-6d53d5d30dc8"
      },
      "outputs": [
        {
          "data": {
            "text/plain": [
              "90"
            ]
          },
          "execution_count": 78,
          "metadata": {},
          "output_type": "execute_result"
        }
      ],
      "source": [
        "sum([i for i in range(20) if i %2 ==0])"
      ]
    },
    {
      "cell_type": "code",
      "execution_count": null,
      "id": "9e3e6285-4509-4508-b70f-ce8123b22206",
      "metadata": {
        "id": "9e3e6285-4509-4508-b70f-ce8123b22206",
        "outputId": "50ac3fa8-6cbc-40b8-8a4e-d7fcf9cb0d39"
      },
      "outputs": [
        {
          "data": {
            "text/plain": [
              "100"
            ]
          },
          "execution_count": 79,
          "metadata": {},
          "output_type": "execute_result"
        }
      ],
      "source": [
        "sum([i for i in range(20) if i %2 !=0])"
      ]
    },
    {
      "cell_type": "code",
      "execution_count": null,
      "id": "91d96f5c-bff1-45a2-b76e-474f86b0c5fa",
      "metadata": {
        "id": "91d96f5c-bff1-45a2-b76e-474f86b0c5fa"
      },
      "outputs": [],
      "source": [
        "# simple method\n",
        "even = 0\n",
        "odd = 0\n",
        "for i in range(20):\n",
        "    if i%2==0:\n",
        "        even+=i\n",
        "    else:\n",
        "        odd+=i\n",
        "\n"
      ]
    },
    {
      "cell_type": "code",
      "execution_count": null,
      "id": "ab418cfc-dafe-4bac-994c-99cfb9df6fb4",
      "metadata": {
        "id": "ab418cfc-dafe-4bac-994c-99cfb9df6fb4",
        "outputId": "5a112417-1f36-4d89-d188-48f76f612e1e"
      },
      "outputs": [
        {
          "data": {
            "text/plain": [
              "90"
            ]
          },
          "execution_count": 81,
          "metadata": {},
          "output_type": "execute_result"
        }
      ],
      "source": [
        "even"
      ]
    },
    {
      "cell_type": "code",
      "execution_count": null,
      "id": "9c387816-eca7-4f22-8e1d-91aac6b4f498",
      "metadata": {
        "id": "9c387816-eca7-4f22-8e1d-91aac6b4f498",
        "outputId": "50a65854-38de-4c62-bc4f-5eb9184ca3b8"
      },
      "outputs": [
        {
          "data": {
            "text/plain": [
              "100"
            ]
          },
          "execution_count": 82,
          "metadata": {},
          "output_type": "execute_result"
        }
      ],
      "source": [
        "odd"
      ]
    },
    {
      "cell_type": "code",
      "execution_count": null,
      "id": "fec4a599-65f0-4356-888d-4d14354b487d",
      "metadata": {
        "id": "fec4a599-65f0-4356-888d-4d14354b487d",
        "outputId": "0db200da-2517-4d55-c235-5309cfb56ae5"
      },
      "outputs": [
        {
          "data": {
            "text/plain": [
              "[0, 1, 4, 9, 16, 25]"
            ]
          },
          "execution_count": 83,
          "metadata": {},
          "output_type": "execute_result"
        }
      ],
      "source": [
        "[i**2 for i in range(6)]"
      ]
    },
    {
      "cell_type": "code",
      "execution_count": null,
      "id": "643c10ca-5f60-4ea6-aa17-ba49a621a3e1",
      "metadata": {
        "id": "643c10ca-5f60-4ea6-aa17-ba49a621a3e1",
        "outputId": "2adf3267-0111-4d47-98c1-7a858affc82e"
      },
      "outputs": [
        {
          "data": {
            "text/plain": [
              "[1, 4, 9, 16, 25, 36, 49, 64, 81, 100]"
            ]
          },
          "execution_count": 84,
          "metadata": {},
          "output_type": "execute_result"
        }
      ],
      "source": [
        "lst=[1,2,3,4,5,6,7,8,9,10]\n",
        "[num**2 for num in lst]"
      ]
    },
    {
      "cell_type": "code",
      "execution_count": null,
      "id": "1b7e5f3f-0c8a-4022-8e2b-18f23bef4a6b",
      "metadata": {
        "id": "1b7e5f3f-0c8a-4022-8e2b-18f23bef4a6b",
        "outputId": "691e7fff-a2e4-47d1-ceac-d231347c6a27"
      },
      "outputs": [
        {
          "data": {
            "text/plain": [
              "[0, 1, 2, 3, 4]"
            ]
          },
          "execution_count": 85,
          "metadata": {},
          "output_type": "execute_result"
        }
      ],
      "source": [
        "# example 1: create a list of only positive numbers out of the given numbers from the list\n",
        "numbers = [-2, -1, 0, 1, 2, 3, 4]\n",
        "[i for i in numbers if i>=0]"
      ]
    },
    {
      "cell_type": "code",
      "execution_count": null,
      "id": "97ec4ea1-6f7b-4bc7-8183-809a1fc419f0",
      "metadata": {
        "id": "97ec4ea1-6f7b-4bc7-8183-809a1fc419f0"
      },
      "outputs": [],
      "source": [
        "# example 2: create a list of initial letters from the words in the list\n",
        "comment = \"wont give up this time\"\n",
        "words = comment.split(\" \")"
      ]
    },
    {
      "cell_type": "code",
      "execution_count": null,
      "id": "7d181c45-39b9-4111-b763-ab3ce980c781",
      "metadata": {
        "id": "7d181c45-39b9-4111-b763-ab3ce980c781",
        "outputId": "240ee748-4b3d-4c75-a5d5-7f4a07d92ce8"
      },
      "outputs": [
        {
          "data": {
            "text/plain": [
              "['wont', 'give', 'up', 'this', 'time']"
            ]
          },
          "execution_count": 87,
          "metadata": {},
          "output_type": "execute_result"
        }
      ],
      "source": [
        "words"
      ]
    },
    {
      "cell_type": "code",
      "execution_count": null,
      "id": "4d5a5c0f-a542-48d8-a318-7ca6e3021983",
      "metadata": {
        "id": "4d5a5c0f-a542-48d8-a318-7ca6e3021983",
        "outputId": "92d7758a-2579-4084-fa3b-94dd3704f550"
      },
      "outputs": [
        {
          "data": {
            "text/plain": [
              "['w', 'g', 'u', 't', 't']"
            ]
          },
          "execution_count": 88,
          "metadata": {},
          "output_type": "execute_result"
        }
      ],
      "source": [
        "[word[0]  for word in words ]"
      ]
    },
    {
      "cell_type": "code",
      "execution_count": null,
      "id": "7d00131f-b28c-4e7c-84d1-465513c30733",
      "metadata": {
        "id": "7d00131f-b28c-4e7c-84d1-465513c30733"
      },
      "outputs": [],
      "source": [
        "# Example 4: Convert a list of temperatures from Celsius to Fahrenheit uing list comprehesnion\n",
        "celsius_temperatures = [0, 10, 20, 30, 40, 50]"
      ]
    },
    {
      "cell_type": "code",
      "execution_count": null,
      "id": "05ad991d-ca8a-4aa7-b8db-657f09ac113b",
      "metadata": {
        "id": "05ad991d-ca8a-4aa7-b8db-657f09ac113b",
        "outputId": "735317df-6d23-4637-b3fa-36837dab672c"
      },
      "outputs": [
        {
          "data": {
            "text/plain": [
              "[32.0, 50.0, 68.0, 86.0, 104.0, 122.0]"
            ]
          },
          "execution_count": 90,
          "metadata": {},
          "output_type": "execute_result"
        }
      ],
      "source": [
        "[((9/5)*i + 32) for i in celsius_temperatures]"
      ]
    },
    {
      "cell_type": "code",
      "execution_count": null,
      "id": "09fd76e4-99b5-41a7-933c-d4a0326644ca",
      "metadata": {
        "id": "09fd76e4-99b5-41a7-933c-d4a0326644ca",
        "outputId": "fb446fb0-8a2b-4029-8f1a-309dc6dec33a"
      },
      "outputs": [
        {
          "data": {
            "text/plain": [
              "[1, 2, 3, 4, 5, 6, 7, 8, 9]"
            ]
          },
          "execution_count": 91,
          "metadata": {},
          "output_type": "execute_result"
        }
      ],
      "source": [
        "# Example 4 : Flatten a list of lists into a single list\n",
        "lists = [[1, 2, 3], [4, 5, 6], [7, 8, 9]]\n",
        "[j for i in lists for j in i]"
      ]
    },
    {
      "cell_type": "code",
      "execution_count": null,
      "id": "3dbbdddc-3c7c-4b4d-90d3-2b5ff13f18d8",
      "metadata": {
        "id": "3dbbdddc-3c7c-4b4d-90d3-2b5ff13f18d8",
        "outputId": "42419db0-f8b8-4e8e-f291-6e56b019ec4c"
      },
      "outputs": [
        {
          "name": "stdout",
          "output_type": "stream",
          "text": [
            "1\n",
            "2\n",
            "3\n",
            "4\n",
            "5\n",
            "6\n",
            "7\n",
            "8\n",
            "9\n",
            "10\n"
          ]
        }
      ],
      "source": [
        "numbers = [1, 2, 3, 4, 5, 6, 7, 8, 9, 10]\n",
        "for i in numbers:\n",
        "    print(i)"
      ]
    },
    {
      "cell_type": "markdown",
      "id": "c8349883-9927-433e-a8bd-b2ade3d2bd2f",
      "metadata": {
        "id": "c8349883-9927-433e-a8bd-b2ade3d2bd2f"
      },
      "source": [
        "## program to detect whether a number is prime or not "
      ]
    },
    {
      "cell_type": "code",
      "execution_count": null,
      "id": "a23c88a4-ce2d-4aa7-8f4e-a66e341d9be7",
      "metadata": {
        "id": "a23c88a4-ce2d-4aa7-8f4e-a66e341d9be7"
      },
      "outputs": [],
      "source": [
        "# creating a list out of a given list which contains only prime numbers\n"
      ]
    },
    {
      "cell_type": "code",
      "execution_count": null,
      "id": "e66c8bae-86b1-4f12-9810-c451ac23203e",
      "metadata": {
        "id": "e66c8bae-86b1-4f12-9810-c451ac23203e"
      },
      "outputs": [],
      "source": [
        "# n= int(input(\"enter no.:\"))\n",
        "# for i in range(2, n):\n",
        "#              if n%i ==0:\n",
        "#                  print(\"Not Prime\")\n",
        "#                  break\n",
        "#              else:\n",
        "#                  print(\"Prime\")\n",
        "#                  break\n",
        "                 \n",
        "             "
      ]
    },
    {
      "cell_type": "code",
      "execution_count": null,
      "id": "b6fbc4fc-05ce-45b6-89a3-ac5ba2804965",
      "metadata": {
        "id": "b6fbc4fc-05ce-45b6-89a3-ac5ba2804965"
      },
      "outputs": [],
      "source": [
        "# n= int(input(\"enter no.:\"))\n",
        "\n",
        "# if n>1:\n",
        "#     for i in range(2, n):\n",
        "#         if n%i==0:\n",
        "#             print(\"non prime\")\n",
        "            \n",
        "#         else:\n",
        "#             print(\"prime\")\n",
        "            \n",
        "            \n",
        "            \n",
        "    "
      ]
    },
    {
      "cell_type": "code",
      "execution_count": null,
      "id": "3ec12311-9cb7-4c19-8e1a-7a8c63d2cbfb",
      "metadata": {
        "id": "3ec12311-9cb7-4c19-8e1a-7a8c63d2cbfb",
        "outputId": "1b52a239-cac6-4afa-9149-fbd3fd03fdf7"
      },
      "outputs": [
        {
          "name": "stdout",
          "output_type": "stream",
          "text": [
            "[2, 3, 5, 7]\n"
          ]
        }
      ],
      "source": [
        "# this code is also  generated by chatgpt , its quite weird as well\n",
        "\n",
        "\n",
        "numbers = [1, 2, 3, 4, 5, 6, 7, 8, 9, 10]\n",
        "prime_ls = []\n",
        "for n in numbers:\n",
        "    if n > 1:\n",
        "        for i in range(2, n):\n",
        "            if n % i == 0:\n",
        "                # print(\"non prime\")\n",
        "                break\n",
        "        else:\n",
        "            # print(\"prime\")\n",
        "            prime_ls.append(n)\n",
        "            \n",
        "print(prime_ls)"
      ]
    },
    {
      "cell_type": "code",
      "execution_count": null,
      "id": "bbc77ca6-a4b9-46bd-a9a4-f30966c5e37e",
      "metadata": {
        "id": "bbc77ca6-a4b9-46bd-a9a4-f30966c5e37e"
      },
      "outputs": [],
      "source": [
        "# code not working\n",
        "\n",
        "\n",
        "# n= int(input(\"enter no.:\"))\n",
        "\n",
        "# if n==2:\n",
        "#     print(\"prime\")\n",
        "\n",
        "# elif(n>2):\n",
        "#     for i in range(2, n):\n",
        "#         if n %i == 0:\n",
        "#             print(\"non prime\")\n",
        "#             break\n",
        "            \n",
        "#     else:\n",
        "#         print(\"prime\")\n"
      ]
    },
    {
      "cell_type": "code",
      "execution_count": null,
      "id": "f6a893f4-caa4-419f-b36c-ffd1b22832a3",
      "metadata": {
        "id": "f6a893f4-caa4-419f-b36c-ffd1b22832a3"
      },
      "outputs": [],
      "source": [
        "# code generated by chatgpt , somethings wrong with this code\n",
        "\n",
        "\n",
        "\n",
        "# n = int(input(\"Enter a number: \"))\n",
        "\n",
        "# if n > 1:\n",
        "#     for i in range(2, n):\n",
        "#         if n % i == 0:\n",
        "#             print(n, \"is not a prime number\")\n",
        "#             break\n",
        "#     else:\n",
        "#         print(n, \"is a prime number\")\n",
        "# else:\n",
        "#     print(n, \"is not a prime number\")\n",
        "    \n"
      ]
    },
    {
      "cell_type": "code",
      "execution_count": null,
      "id": "ee0b77ff-3c88-4fea-b1d3-b7c8c17edc4f",
      "metadata": {
        "id": "ee0b77ff-3c88-4fea-b1d3-b7c8c17edc4f",
        "outputId": "c36baa71-aa11-472a-f51e-9b872cd40f60"
      },
      "outputs": [
        {
          "name": "stdout",
          "output_type": "stream",
          "text": [
            "Enter the Number: \n"
          ]
        },
        {
          "name": "stdin",
          "output_type": "stream",
          "text": [
            " 6\n"
          ]
        },
        {
          "name": "stdout",
          "output_type": "stream",
          "text": [
            "\n",
            "It is not a Prime Number\n"
          ]
        }
      ],
      "source": [
        "print(\"Enter the Number: \")\n",
        "num = int(input())\n",
        "\n",
        "p = 0\n",
        "for i in range(2, num):\n",
        "    if num%i==0:\n",
        "        p = 1\n",
        "        break\n",
        "\n",
        "if p==0:\n",
        "    print(\"\\nIt is a Prime Number\")\n",
        "else:\n",
        "    print(\"\\nIt is not a Prime Number\")"
      ]
    },
    {
      "cell_type": "code",
      "execution_count": null,
      "id": "2908f893-0ace-4b4d-a81c-7cb83396bd1b",
      "metadata": {
        "id": "2908f893-0ace-4b4d-a81c-7cb83396bd1b"
      },
      "outputs": [],
      "source": [
        "#Assignment\n",
        "#Create a list of only the prime numbers from a given list\n",
        "# using both code nad list comprehension\n",
        "numbers = [1, 2, 3, 4, 5, 6, 7, 8, 9, 10]\n",
        "# [i for i in numbers if i>1 and for i in range(2, n-1) is n%i!=0]"
      ]
    },
    {
      "cell_type": "code",
      "execution_count": null,
      "id": "4c00c739-aa2c-47d6-81f3-bddc44bf5e81",
      "metadata": {
        "id": "4c00c739-aa2c-47d6-81f3-bddc44bf5e81",
        "outputId": "cd8e3037-ffa7-4590-bf87-e7a45684a09f"
      },
      "outputs": [
        {
          "name": "stdout",
          "output_type": "stream",
          "text": [
            "[2, 3, 5, 7]\n"
          ]
        }
      ],
      "source": [
        "# this code is generated by chatgpt , its quite weird as well\n",
        "\n",
        "\n",
        "numbers = [1, 2, 3, 4, 5, 6, 7, 8, 9, 10]\n",
        "prime_ls = []\n",
        "for n in numbers:\n",
        "    if n > 1:\n",
        "        for i in range(2, n):\n",
        "            if n % i == 0:\n",
        "                # print(\"non prime\")\n",
        "                break\n",
        "        else:\n",
        "            # print(\"prime\")\n",
        "            prime_ls.append(n)\n",
        "            \n",
        "print(prime_ls)"
      ]
    },
    {
      "cell_type": "code",
      "execution_count": null,
      "id": "418e3392-8a00-4175-8711-9b876957b83b",
      "metadata": {
        "id": "418e3392-8a00-4175-8711-9b876957b83b"
      },
      "outputs": [],
      "source": [
        "# list comprehension method\n"
      ]
    },
    {
      "cell_type": "code",
      "execution_count": null,
      "id": "132897ee-bd70-4bd7-a128-dacbbc2376fd",
      "metadata": {
        "id": "132897ee-bd70-4bd7-a128-dacbbc2376fd"
      },
      "outputs": [],
      "source": [
        "# Example 3: Create a list of all the possible combinations of 2 elements from a list\n",
        "numbers = [1, 2, 3, 4, 5]"
      ]
    }
  ],
  "metadata": {
    "kernelspec": {
      "display_name": "Python 3 (ipykernel)",
      "language": "python",
      "name": "python3"
    },
    "language_info": {
      "codemirror_mode": {
        "name": "ipython",
        "version": 3
      },
      "file_extension": ".py",
      "mimetype": "text/x-python",
      "name": "python",
      "nbconvert_exporter": "python",
      "pygments_lexer": "ipython3",
      "version": "3.10.8"
    },
    "colab": {
      "provenance": []
    }
  },
  "nbformat": 4,
  "nbformat_minor": 5
}