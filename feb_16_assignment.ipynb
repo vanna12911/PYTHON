{
  "nbformat": 4,
  "nbformat_minor": 0,
  "metadata": {
    "colab": {
      "provenance": []
    },
    "kernelspec": {
      "name": "python3",
      "display_name": "Python 3"
    },
    "language_info": {
      "name": "python"
    }
  },
  "cells": [
    {
      "cell_type": "markdown",
      "source": [
        "#### ANS(1):\n",
        "\n",
        "A database is an organized collection of data stored and accessed electronically. Small databases can be stored on a file system, while large databases are hosted on computer clusters or cloud storage.A database is usually controlled by a Database management system(DBMS).\n",
        "\n",
        "\n",
        "* #### Differences b/w SQL and NoSQL Database:\n",
        "1. SQL databases are primarily called as Relational Databases (RDBMS); whereas NoSQL database are primarily called as non-relational or distributed database. \n",
        "\n",
        "2. SQL databases have fixed or static or predefined schema where as NoSQL databases have a dynamic schema for unstructured data.\n",
        "\n",
        "3. SQL databases are not suited for hierarchical data storage where as NoSQL databases arebest suited for hierarchial data storage.\n",
        "\n",
        "4. SQL databases are best suited for complex queries where as NoSQL databases are not so good for complex queries.\n",
        "\n",
        "5. SQL databases are vertically scalable. This means that you can increase the load on a single server by increasing things like RAM, CPU or SSD.NoSQL databases are horizontally scalable. This means that you handle more traffic by sharding, or adding more servers in your NoSQL database. \n",
        " \n",
        "6. SQL Databses follows ACID property(Atomicity, Consistency, Isolation and Durability) whrer as NoSQL databases follows CAP(consistency, availability, partition tolerance)\n"
      ],
      "metadata": {
        "id": "nJAuz31F7Apg"
      }
    },
    {
      "cell_type": "markdown",
      "source": [
        "####ANS(2):\n",
        "DDL is an abbreviation of Data Definition Language.The DDL Commands in Structured Query Language are used to create and modify the schema of the database and its objects. \n",
        "1. CREATE :  It is a DDL command in SQL used to create databases , tables , triggers and other  database objects.\n",
        "\n",
        "```\n",
        " CREATE database books;\n",
        " CREATE table Student;\n",
        " (Roll_no INT ,\n",
        "  First_Name varchar(50) ,\n",
        "  Last_Name varchar(60) , \n",
        "  Age INT);\n",
        "```\n",
        "2. DROP : DROP is a DDL command used to delete/remove the database objects from the SQL database. \n",
        "\n",
        "```\n",
        "DROP table students;\n",
        "DROP database books;\n",
        "```\n",
        "\n",
        "3. ALTER: ALTER is a DDL command which changes or modifies the existing structure of the database, and it also changes the schema of database objects.\n",
        "\n",
        "```\n",
        " ALTER TABLE Student ADD Father's_Name varchar(60);  \n",
        " ALTER TABLE Student DROP Age; \n",
        " ALTER TABLE Student MODIFY ( Last_Name varchar(25)); \n",
        " ```\n",
        "\n",
        "4. TRUNCATE :TRUNCATE is another DDL command which deletes or removes all the records from the table.\n",
        "\n",
        "``` \n",
        "TRUNCATE table Student;\n",
        "SELECT * from Student;\n",
        "```\n",
        "\n",
        "\n",
        "\n"
      ],
      "metadata": {
        "id": "fA3bKuC2-X0u"
      }
    },
    {
      "cell_type": "markdown",
      "source": [
        "#### ANS(3):\n",
        "DML stands for data manipulation language. DML commands in SQL are used to change the data present in the database tables, views, etc. These commands deal with inserting data into the tables, updating the data according to the conditions, and removing the data from the tables.\n",
        "\n",
        "1. INSERT : INSERT command is used to insert new records  into databases tables.\n",
        "\n",
        "```\n",
        "INSERT INTO Students (Roll_no,Name,Age,Address,Date_of_Birth) VALUES (1, 'John', 16, 'Pune', '2006/06/06');\n",
        "INSERT INTO Students (Roll_no,Name,Age,Address,Date_of_Birth) VALUES (2, 'Ajay', 15, 'Chennai', '2007/10/02');\n",
        "INSERT INTO Students (Roll_no,Name,Age,Address,Date_of_Birth) VALUES (3, 'Ron', 12, 'Delhi', '2010/08/31');\n",
        "\n",
        "```\n",
        "2. UPDATE : UPDATE is a DML command in SQL used to update existing records in the table. We need to specify which records we want to update using the WHERE condition. WHERE is a clause in SQL used to filter data depending on the condition. The UPDATE command can update single or multiple records according to WHERE conditions.\n",
        "\n",
        "```\n",
        "UPDATE Students\n",
        "SET Address= 'Nashik'\n",
        "WHERE Address= 'Pune';\n",
        "```\n",
        "3. DELETE :This command is used to delete single or multiple records from the tables based on the condition given in the WHERE clause.\n",
        "\n",
        "```\n",
        "DELETE FROM Students WHERE Roll_no = 2;\n",
        "```\n"
      ],
      "metadata": {
        "id": "a1TlJvspIpRJ"
      }
    },
    {
      "cell_type": "markdown",
      "source": [
        "####ANS(4):\n",
        "DQl stands for data query language.DQL commands are used for fetching data from a relational database. They perform read-only queries of data.\n",
        "\n",
        "The only command, 'SELECT' is equivalent to the projection operation in relational algebra. It command selects the attribute based on the condition described by the WHERE clause and returns them.\n",
        "\n",
        "```\n",
        "SELECT * from my_table;\n",
        "SELECT * from my_table where age>20;\n",
        "SELECT * from my_table where first_name like \"myName_\";\n",
        "```\n"
      ],
      "metadata": {
        "id": "zbBa9hCnOrgy"
      }
    },
    {
      "cell_type": "markdown",
      "source": [
        "####ANS(5):\n",
        "1. Primary Key: A primary key is used to ensure that data in the specific column is unique. A column cannot have NULL values. It is either an existing table column or a column that is specifically generated by the database according to a defined sequence. \n",
        "\n",
        "  * Example:\n",
        "  STUD_NO, as well as STUD_PHONE both, are candidate keys for relation STUDENT but STUD_NO can be chosen as the primary key (only one out of many candidate keys)\n",
        "\n",
        "2. FOREIGN KEY :A foreign key is a column or group of columns in a relational database table that provides a link between data in two tables. It is a column (or columns) that references a column (most often the primary key) of another table. \n",
        "\n",
        "  * Example: \n",
        "  STUD_NO in STUDENT_COURSE is a foreign key to STUD_NO in STUDENT relation. "
      ],
      "metadata": {
        "id": "h0HqAXlnQDll"
      }
    },
    {
      "cell_type": "markdown",
      "source": [
        "####ANS(6):\n",
        "To connect MySQL to Python, you need to install the \"mysql-connector-python\" package using pip, which allows Python to communicate with the MySQL database. Here is the Python code to connect to a MySQL database:\n",
        "\n",
        "```python\n",
        "import mysql.connector\n",
        "\n",
        "# establish connection to the database\n",
        "mydb = mysql.connector.connect(\n",
        "  host=\"localhost\",\n",
        "  user=\"yourusername\",\n",
        "  password=\"yourpassword\",\n",
        "  database=\"yourdatabase\"\n",
        ")\n",
        "\n",
        "# create a cursor object\n",
        "mycursor = mydb.cursor()\n",
        "\n",
        "# execute a SQL query\n",
        "mycursor.execute(\"SELECT * FROM yourtable\")\n",
        "\n",
        "# fetch all the rows\n",
        "result = mycursor.fetchall()\n",
        "\n",
        "# display the rows\n",
        "for row in result:\n",
        "  print(row)\n",
        "```\n",
        "* The \"execute()\" method is used to execute a SQL query on the database. The SQL query is passed as a string argument to the \"execute()\" method. The method returns a cursor object, which can be used to traverse the records in the result set.\n",
        "\n",
        "* The \"cursor()\" method is used to create a cursor object, which is used to execute SQL queries and traverse records in the result set. The cursor object is created by calling the \"cursor()\" method on the connection object."
      ],
      "metadata": {
        "id": "hSmHa52hR4_R"
      }
    },
    {
      "cell_type": "markdown",
      "source": [
        "###ANS(7):\n",
        "In a SQL query, the order of execution of SQL clauses is as follows:\n",
        "\n",
        "* FROM clause: This clause specifies the table or tables from which the data is to be retrieved.\n",
        "\n",
        "* WHERE clause: This clause filters the rows returned by the query based on one or more conditions.\n",
        "\n",
        "* GROUP BY clause: This clause groups the rows returned by the query based on one or more columns.\n",
        "\n",
        "* HAVING clause: This clause filters the groups returned by the query based on one or more conditions.\n",
        "\n",
        "* SELECT clause: This clause specifies the columns to be retrieved from the table or tables specified in the FROM clause.\n",
        "\n",
        "* DISTINCT clause: This clause removes duplicate rows from the result set.\n",
        "\n",
        "* ORDER BY clause: This clause sorts the rows returned by the query based on one or more columns.\n",
        "\n",
        "* LIMIT clause: This clause limits the number of rows returned by the query.\n",
        "\n",
        "All of these clauses are required in every SQL query, and some of them can be used in different orders depending on the specific requirements of the query."
      ],
      "metadata": {
        "id": "DBm3d_KmSfzk"
      }
    }
  ]
}