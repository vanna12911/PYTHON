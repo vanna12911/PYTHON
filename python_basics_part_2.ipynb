{
  "nbformat": 4,
  "nbformat_minor": 0,
  "metadata": {
    "colab": {
      "provenance": []
    },
    "kernelspec": {
      "name": "python3",
      "display_name": "Python 3"
    },
    "language_info": {
      "name": "python"
    }
  },
  "cells": [
    {
      "cell_type": "markdown",
      "source": [
        "## string formatting :"
      ],
      "metadata": {
        "id": "R9EWDms15pu5"
      }
    },
    {
      "cell_type": "code",
      "execution_count": null,
      "metadata": {
        "colab": {
          "base_uri": "https://localhost:8080/"
        },
        "id": "wro2cKFC5mFC",
        "outputId": "50bbe69c-8da6-4292-91d0-47d70bdb7a64"
      },
      "outputs": [
        {
          "output_type": "stream",
          "name": "stdout",
          "text": [
            "my age is :  20\n",
            "my age is 20\n",
            "my age is 20 \n"
          ]
        }
      ],
      "source": [
        "age = 20\n",
        "print(\"my age is : \", age)  \n",
        "print(f\"my age is {age}\")         # fstrings\n",
        "print(\"my age is {} \".format(age))     # .format() method\n"
      ]
    },
    {
      "cell_type": "code",
      "source": [
        "# another way to use format method  , not so good method tho\n",
        "age= 20\n",
        "name = \"vanna\"\n",
        "degree =\"BCA\"\n",
        "\n",
        "print(\"my name is {fname} and i'm {fage} years old and i have completed my {fdegree}  degree \".format(fname =name, fage= age,fdegree=degree)) \n",
        " # fnaem, fage, fdegree are placeholders here"
      ],
      "metadata": {
        "colab": {
          "base_uri": "https://localhost:8080/"
        },
        "id": "Msx3shYX5-Ok",
        "outputId": "f1d9a304-3eb4-4ea2-a4af-c0602aa02e16"
      },
      "execution_count": null,
      "outputs": [
        {
          "output_type": "stream",
          "name": "stdout",
          "text": [
            "my name is vanna and i'm 20 years old and i have completed my BCA  degree \n"
          ]
        }
      ]
    },
    {
      "cell_type": "markdown",
      "source": [
        "## control flow: includes  loops and decsion making statements\n",
        "## decison making statements:                 \n",
        "                                              if \n",
        "                                              if-else\n",
        "                                              if elif\n",
        "                                              single suite statements\n",
        "## loops:\n",
        "            for loop\n",
        "            while loop\n",
        "\n",
        "## control statments:\n",
        "                    break\n",
        "                    continue \n",
        "                    pass"
      ],
      "metadata": {
        "id": "7qDDFCRi9HLV"
      }
    },
    {
      "cell_type": "code",
      "source": [
        "age = int(input(\"enter your age: \"))\n",
        "if age>=18:\n",
        "  print(\"youth\")"
      ],
      "metadata": {
        "colab": {
          "base_uri": "https://localhost:8080/"
        },
        "id": "C0nyciDm9G0l",
        "outputId": "348d6f6d-aab1-4ec3-b8b0-42af19bf12ad"
      },
      "execution_count": null,
      "outputs": [
        {
          "output_type": "stream",
          "name": "stdout",
          "text": [
            "enter your age: 22\n",
            "youth\n"
          ]
        }
      ]
    },
    {
      "cell_type": "code",
      "source": [
        "age = int(input(\"enter your age: \"))\n",
        "if age>=18 & age<=40:\n",
        "  print(\"youth\")\n"
      ],
      "metadata": {
        "colab": {
          "base_uri": "https://localhost:8080/"
        },
        "id": "pL6F9tmw7Eq2",
        "outputId": "c5359935-4032-488b-a7b1-f6ccc9587c54"
      },
      "execution_count": null,
      "outputs": [
        {
          "output_type": "stream",
          "name": "stdout",
          "text": [
            "enter your age: 13\n",
            "youth\n"
          ]
        }
      ]
    },
    {
      "cell_type": "code",
      "source": [
        "age = int(input(\"enter your age: \"))\n",
        "if age>=18 and age<=40:\n",
        "  print(\"youth\")\n",
        "else:\n",
        "  print(\"enthusiastic\")\n"
      ],
      "metadata": {
        "colab": {
          "base_uri": "https://localhost:8080/"
        },
        "id": "wU9OPNti-Ygb",
        "outputId": "87401c31-5a08-4981-b9b8-ca6d570a8286"
      },
      "execution_count": null,
      "outputs": [
        {
          "output_type": "stream",
          "name": "stdout",
          "text": [
            "enter your age: 26\n",
            "youth\n"
          ]
        }
      ]
    },
    {
      "cell_type": "code",
      "source": [
        "age = int(input(\"enter your age: \"))\n",
        "if age>=18 & age<=40:\n",
        "  print(\"youth\")\n",
        "else:\n",
        "  print(\"enthusiastic\")\n",
        "  # hence, functionality of AND(logical op) and &(bitwise op ) is not same"
      ],
      "metadata": {
        "colab": {
          "base_uri": "https://localhost:8080/"
        },
        "id": "JLPLtE_y_AL9",
        "outputId": "cc2d189c-2864-48df-f2e2-289d91b94509"
      },
      "execution_count": null,
      "outputs": [
        {
          "output_type": "stream",
          "name": "stdout",
          "text": [
            "enter your age: 45\n",
            "youth\n"
          ]
        }
      ]
    },
    {
      "cell_type": "code",
      "source": [
        "# rock , papers and scissors game \n",
        "\n",
        "import random \n",
        "\n",
        "options =[\"rock\", \"papers\", \"scissors\"]\n",
        "\n",
        "comp = random.choice(options)\n",
        "test =input(\"enter your input: \")\n",
        "\n",
        "print(\"lapu's choice: \",comp)\n",
        "\n",
        "if (test==comp):\n",
        "  print(\"Draw\")\n",
        "\n",
        "if(comp==\"rock\"):\n",
        "  if(test==\"papers\"):\n",
        "    print(\"You Won\")\n",
        "  elif(test==\"scissors\"):\n",
        "    print(\"you lose\")\n",
        "\n",
        "if(comp==\"papers\"):\n",
        "  if(test==\"scissors\"):\n",
        "    print(\"you won\")\n",
        "  elif(test==\"rock\"):\n",
        "    print(\"you lose\")\n",
        "\n",
        "if(comp==\"scissors\"):\n",
        "  if(test==\"papers\"):\n",
        "    print(\"You lose\")     \n",
        "  elif(test==\"rock\"):\n",
        "    print(\"You Won\")\n",
        "\n",
        "\n",
        "\n",
        "# time complexity is high in this case beacause of  multiple if statements\n"
      ],
      "metadata": {
        "colab": {
          "base_uri": "https://localhost:8080/"
        },
        "outputId": "86aac62c-13fb-4a22-e172-5ae66351fb69",
        "id": "Cm7iEaYtEqaQ"
      },
      "execution_count": null,
      "outputs": [
        {
          "output_type": "stream",
          "name": "stdout",
          "text": [
            "enter your input: papers\n",
            "lapu's choice:  papers\n",
            "Draw\n"
          ]
        }
      ]
    },
    {
      "cell_type": "code",
      "source": [
        "# rock , papers and scissors game \n",
        "\n",
        "import random \n",
        "\n",
        "options =[\"rock\" , \"papers\" , \"scissors\"]\n",
        "\n",
        "comp = random.choice(options)\n",
        "test =input(\"enter your input: \")\n",
        "\n",
        "print(\"lapu's choice: \",comp)\n",
        "\n",
        "if(test==comp):\n",
        "  print(\"Draw\")\n",
        "\n",
        "elif(comp==\"rock\"):\n",
        "  if(test==\"papers\"):\n",
        "    print(\"You Won\")\n",
        "  elif(test==\"scissors\"):\n",
        "    print(\"you lose\")\n",
        "\n",
        "elif(comp==\"papers\"):\n",
        "  if(test==\"scissors\"):\n",
        "    print(\"you won\")\n",
        "  elif(test==\"rock\"):\n",
        "    print(\"you lose\")\n",
        "\n",
        "elif(comp==\"scissors\"):\n",
        "  if(test==\"papers\"):\n",
        "    print(\"You lose\")     \n",
        "  elif(test==\"rock\"):\n",
        "    print(\"You Won\")\n",
        "  \n",
        "# else statement should not be written over here , cuz it doesnt make sense\n",
        "# else:\n",
        "#   print(\"Draw\") \n",
        "\n",
        "# problem with this is that, its not printing draw in draw case, if we want to print draw , then have to change elif to if statements\n",
        "\n",
        "\n",
        "# this code is way better than the above one in terms of time complexity"
      ],
      "metadata": {
        "colab": {
          "base_uri": "https://localhost:8080/"
        },
        "id": "fB3EbdtE_Lwy",
        "outputId": "e6bca4d0-b9cc-4be3-a670-6983585921ba"
      },
      "execution_count": null,
      "outputs": [
        {
          "output_type": "stream",
          "name": "stdout",
          "text": [
            "enter your input: scissors\n",
            "lapu's choice:  rock\n",
            "you lose\n"
          ]
        }
      ]
    },
    {
      "cell_type": "markdown",
      "source": [
        "## single statement suits:"
      ],
      "metadata": {
        "id": "fg0UltX7H1Bk"
      }
    },
    {
      "cell_type": "code",
      "source": [
        "val=99\n",
        "if val==99:print(True)\n",
        "else:print(False)"
      ],
      "metadata": {
        "colab": {
          "base_uri": "https://localhost:8080/"
        },
        "id": "XWtK8ePRFFms",
        "outputId": "cb9d3906-9856-4e20-84e1-e50c2881caf3"
      },
      "execution_count": null,
      "outputs": [
        {
          "output_type": "stream",
          "name": "stdout",
          "text": [
            "True\n"
          ]
        }
      ]
    },
    {
      "cell_type": "code",
      "source": [
        "val=45\n",
        "if val==99:print(True)\n",
        "else:print(False)"
      ],
      "metadata": {
        "colab": {
          "base_uri": "https://localhost:8080/"
        },
        "id": "PeninuT6H9tj",
        "outputId": "0a132d3b-f285-4ee9-cfe7-9fdb41f44d45"
      },
      "execution_count": null,
      "outputs": [
        {
          "output_type": "stream",
          "name": "stdout",
          "text": [
            "False\n"
          ]
        }
      ]
    },
    {
      "cell_type": "markdown",
      "source": [],
      "metadata": {
        "id": "JYf5cWSaK3l8"
      }
    },
    {
      "cell_type": "markdown",
      "source": [
        "## loops"
      ],
      "metadata": {
        "id": "LRYZuxTgRLq4"
      }
    },
    {
      "cell_type": "code",
      "source": [
        "# while loop\n",
        "i =0\n",
        "while(i<=10):\n",
        "  print(i)\n",
        "  i+=1"
      ],
      "metadata": {
        "colab": {
          "base_uri": "https://localhost:8080/"
        },
        "id": "Gc1ckgM7IQlP",
        "outputId": "cfc40da3-dd8c-48c6-e9e3-464c37c115f8"
      },
      "execution_count": null,
      "outputs": [
        {
          "output_type": "stream",
          "name": "stdout",
          "text": [
            "0\n",
            "1\n",
            "2\n",
            "3\n",
            "4\n",
            "5\n",
            "6\n",
            "7\n",
            "8\n",
            "9\n",
            "10\n"
          ]
        }
      ]
    },
    {
      "cell_type": "code",
      "source": [
        "i=0\n",
        "while(i<=20):\n",
        "  if i %2==0:\n",
        "    print(i)\n",
        "  i+=1"
      ],
      "metadata": {
        "colab": {
          "base_uri": "https://localhost:8080/"
        },
        "id": "GSyUCEsGRyYc",
        "outputId": "57f5598d-1196-4dae-aa55-2a6a426c5e7c"
      },
      "execution_count": null,
      "outputs": [
        {
          "output_type": "stream",
          "name": "stdout",
          "text": [
            "0\n",
            "2\n",
            "4\n",
            "6\n",
            "8\n",
            "10\n",
            "12\n",
            "14\n",
            "16\n",
            "18\n",
            "20\n"
          ]
        }
      ]
    },
    {
      "cell_type": "code",
      "source": [
        "# money being keep deducted from atm until only 100 rs left\n",
        "total_amount=1000\n",
        "while(total_amount>=100):\n",
        "  print(total_amount)\n",
        "  total_amount-=100\n"
      ],
      "metadata": {
        "colab": {
          "base_uri": "https://localhost:8080/"
        },
        "id": "KAX0EFyGSRAw",
        "outputId": "79f125f2-7e8b-49ca-d0bd-3df6d4ec73ee"
      },
      "execution_count": null,
      "outputs": [
        {
          "output_type": "stream",
          "name": "stdout",
          "text": [
            "1000\n",
            "900\n",
            "800\n",
            "700\n",
            "600\n",
            "500\n",
            "400\n",
            "300\n",
            "200\n",
            "100\n"
          ]
        }
      ]
    },
    {
      "cell_type": "code",
      "source": [
        "age= int(input(\"enter your age:\" ))\n",
        "retirement_age= 55\n",
        "while (age<=retirement_age):\n",
        "  print(age)\n",
        "  if age==retirement_age:\n",
        "    print(\"its time to retire\")\n",
        "  age+=1\n",
        "\n"
      ],
      "metadata": {
        "colab": {
          "base_uri": "https://localhost:8080/"
        },
        "id": "xMhtQWmUTD2X",
        "outputId": "72c43b69-6fa5-491a-eba2-cf4ff67767d1"
      },
      "execution_count": null,
      "outputs": [
        {
          "output_type": "stream",
          "name": "stdout",
          "text": [
            "enter your age:25\n",
            "25\n",
            "26\n",
            "27\n",
            "28\n",
            "29\n",
            "30\n",
            "31\n",
            "32\n",
            "33\n",
            "34\n",
            "35\n",
            "36\n",
            "37\n",
            "38\n",
            "39\n",
            "40\n",
            "41\n",
            "42\n",
            "43\n",
            "44\n",
            "45\n",
            "46\n",
            "47\n",
            "48\n",
            "49\n",
            "50\n",
            "51\n",
            "52\n",
            "53\n",
            "54\n",
            "55\n",
            "its time to retire\n"
          ]
        }
      ]
    },
    {
      "cell_type": "code",
      "source": [
        "for i in range(0,21):\n",
        "  print(i)\n",
        "  i+=1"
      ],
      "metadata": {
        "colab": {
          "base_uri": "https://localhost:8080/"
        },
        "id": "g2J3MkhAabOM",
        "outputId": "118b7b4d-ae36-4f36-c8b6-1239e6278725"
      },
      "execution_count": null,
      "outputs": [
        {
          "output_type": "stream",
          "name": "stdout",
          "text": [
            "0\n",
            "1\n",
            "2\n",
            "3\n",
            "4\n",
            "5\n",
            "6\n",
            "7\n",
            "8\n",
            "9\n",
            "10\n",
            "11\n",
            "12\n",
            "13\n",
            "14\n",
            "15\n",
            "16\n",
            "17\n",
            "18\n",
            "19\n",
            "20\n"
          ]
        }
      ]
    },
    {
      "cell_type": "code",
      "source": [
        "for i in range(0,20):\n",
        "  if i%2==0:\n",
        "    print(i)"
      ],
      "metadata": {
        "colab": {
          "base_uri": "https://localhost:8080/"
        },
        "id": "cjKVqqDAbQI-",
        "outputId": "1ae56af8-15e6-47e1-ed3b-9a4fcb5805f1"
      },
      "execution_count": null,
      "outputs": [
        {
          "output_type": "stream",
          "name": "stdout",
          "text": [
            "0\n",
            "2\n",
            "4\n",
            "6\n",
            "8\n",
            "10\n",
            "12\n",
            "14\n",
            "16\n",
            "18\n"
          ]
        }
      ]
    },
    {
      "cell_type": "code",
      "source": [
        "even =[]\n",
        "odd=[]\n",
        "for i in range(0,20):\n",
        "  if i%2==0:\n",
        "   even.append(i)\n",
        "  else:\n",
        "    odd.append(i)\n"
      ],
      "metadata": {
        "id": "cOF65GO2bgk8"
      },
      "execution_count": null,
      "outputs": []
    },
    {
      "cell_type": "code",
      "source": [
        "even"
      ],
      "metadata": {
        "colab": {
          "base_uri": "https://localhost:8080/"
        },
        "id": "HoqOXEDEbw_P",
        "outputId": "3206ce93-0752-42b3-bf9a-a892a101b57b"
      },
      "execution_count": null,
      "outputs": [
        {
          "output_type": "execute_result",
          "data": {
            "text/plain": [
              "[0, 2, 4, 6, 8, 10, 12, 14, 16, 18]"
            ]
          },
          "metadata": {},
          "execution_count": 52
        }
      ]
    },
    {
      "cell_type": "code",
      "source": [
        "odd"
      ],
      "metadata": {
        "colab": {
          "base_uri": "https://localhost:8080/"
        },
        "id": "W1jHo_TYb0gc",
        "outputId": "f7296f56-3451-47db-f409-2b681a1eb86d"
      },
      "execution_count": null,
      "outputs": [
        {
          "output_type": "execute_result",
          "data": {
            "text/plain": [
              "[1, 3, 5, 7, 9, 11, 13, 15, 17, 19]"
            ]
          },
          "metadata": {},
          "execution_count": 53
        }
      ]
    },
    {
      "cell_type": "code",
      "source": [
        "for i in range(0,20,2):\n",
        "  print(i)"
      ],
      "metadata": {
        "colab": {
          "base_uri": "https://localhost:8080/"
        },
        "id": "S5sxwHDGi9Av",
        "outputId": "6776e1ab-da37-4f1b-99c5-57569facd435"
      },
      "execution_count": null,
      "outputs": [
        {
          "output_type": "stream",
          "name": "stdout",
          "text": [
            "0\n",
            "2\n",
            "4\n",
            "6\n",
            "8\n",
            "10\n",
            "12\n",
            "14\n",
            "16\n",
            "18\n"
          ]
        }
      ]
    },
    {
      "cell_type": "markdown",
      "source": [
        "## control statements:\n",
        "                      1.Break\n",
        "                      2.continue\n",
        "                      3.pass"
      ],
      "metadata": {
        "id": "ZCr5wPlvgYXR"
      }
    },
    {
      "cell_type": "code",
      "source": [
        "items= [\"pen\",\"pencils\",\"eraser\",\"sharpner\"]\n",
        "for i in items:\n",
        "  print(i)\n",
        "  if (i==\"pencils\"):\n",
        "    continue\n",
        "\n",
        "\n",
        "    # here continue doesnt work cuz, print should be used later only"
      ],
      "metadata": {
        "colab": {
          "base_uri": "https://localhost:8080/"
        },
        "id": "yPZ2_9hbb1_F",
        "outputId": "ed9b5a41-9f59-44ee-900c-0edff9851c95"
      },
      "execution_count": null,
      "outputs": [
        {
          "output_type": "stream",
          "name": "stdout",
          "text": [
            "pen\n",
            "pencils\n",
            "eraser\n",
            "sharpner\n"
          ]
        }
      ]
    },
    {
      "cell_type": "code",
      "source": [
        "items= [\"pen\",\"pencils\",\"eraser\",\"sharpner\"]\n",
        "for i in items:\n",
        "  \n",
        "  if (i==\"pencils\"):\n",
        "    continue\n",
        "  print(i)\n",
        "\n",
        "  # more corrected code "
      ],
      "metadata": {
        "id": "PWSWQTPyctRa",
        "colab": {
          "base_uri": "https://localhost:8080/"
        },
        "outputId": "b3c5059a-cb5a-4b85-ddfa-dad56af7c523"
      },
      "execution_count": null,
      "outputs": [
        {
          "output_type": "stream",
          "name": "stdout",
          "text": [
            "pen\n",
            "eraser\n",
            "sharpner\n"
          ]
        }
      ]
    },
    {
      "cell_type": "code",
      "source": [
        "items= [\"pen\",\"pencils\",\"eraser\",\"sharpner\"]\n",
        "for i in items:\n",
        "  \n",
        "  if (i==\"pencils\"):\n",
        "    break\n",
        "  print(i)\n"
      ],
      "metadata": {
        "colab": {
          "base_uri": "https://localhost:8080/"
        },
        "id": "QhQZQOvwgL48",
        "outputId": "a3b9f27d-8f49-43eb-bb9e-cc1e824724df"
      },
      "execution_count": null,
      "outputs": [
        {
          "output_type": "stream",
          "name": "stdout",
          "text": [
            "pen\n"
          ]
        }
      ]
    },
    {
      "cell_type": "code",
      "source": [
        "items= [\"pen\",\"pencils\",\"eraser\",\"sharpner\"]\n",
        "for i in items:\n",
        "  \n",
        "  if (i==\"pencils\"):\n",
        "    pass\n",
        "  print(i)\n"
      ],
      "metadata": {
        "colab": {
          "base_uri": "https://localhost:8080/"
        },
        "id": "QMEPQ2mFgMl_",
        "outputId": "a8a50539-45d6-4f44-ddb7-70a243e1d892"
      },
      "execution_count": null,
      "outputs": [
        {
          "output_type": "stream",
          "name": "stdout",
          "text": [
            "pen\n",
            "pencils\n",
            "eraser\n",
            "sharpner\n"
          ]
        }
      ]
    },
    {
      "cell_type": "code",
      "source": [
        "items= [\"pen\",\"pencils\",\"eraser\",\"sharpner\"]\n",
        "for i in items:\n",
        "  if len(i)!=2:\n",
        "    print(\"hi, there\")"
      ],
      "metadata": {
        "colab": {
          "base_uri": "https://localhost:8080/"
        },
        "id": "FplMlH1LiMNm",
        "outputId": "2434b5ec-2b45-4f82-a5b8-9eadda80b592"
      },
      "execution_count": null,
      "outputs": [
        {
          "output_type": "stream",
          "name": "stdout",
          "text": [
            "hi, there\n",
            "hi, there\n",
            "hi, there\n",
            "hi, there\n"
          ]
        }
      ]
    },
    {
      "cell_type": "code",
      "source": [],
      "metadata": {
        "id": "naCrGYNODkv-"
      },
      "execution_count": null,
      "outputs": []
    },
    {
      "cell_type": "code",
      "source": [
        "#slicing and reversing the string   \n",
        "\n",
        "# pattern printing    \n",
        "\n",
        "# strings \n",
        "\n",
        "# strings in python are immutable\n",
        "\n",
        "# in built string functions\n",
        "\n",
        "# list comprehensions\n",
        "\n",
        "# data structures in python : list, tuple, sets, dictionary\n",
        "# functions\n",
        "# generator functions\n",
        "# lambda functions\n",
        "# map, filter, reduce\n",
        "# oops\n",
        "# polymorphism, encapsulation,inheritance\n",
        "# decoraters\n",
        "# static methods\n",
        "# class methods\n",
        "# special(magic / dunder methods)\n",
        "#property decoraters (getters, setters and deleters)\n",
        "# working with files\n",
        "#reading and writing files\n",
        "# buffered read and write and other file methods\n",
        "#logging nad debuggger\n",
        "# modules and import statements\n",
        "# exceptions handling with try and except\n",
        "# custom exception handling"
      ],
      "metadata": {
        "id": "IebwV_2PgSOm"
      },
      "execution_count": null,
      "outputs": []
    },
    {
      "cell_type": "code",
      "source": [],
      "metadata": {
        "id": "YlWdH9vElnwn"
      },
      "execution_count": null,
      "outputs": []
    }
  ]
}