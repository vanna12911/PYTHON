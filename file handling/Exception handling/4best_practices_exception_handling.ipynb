{
 "cells": [
  {
   "cell_type": "code",
   "execution_count": 2,
   "metadata": {},
   "outputs": [
    {
     "name": "stdout",
     "output_type": "stream",
     "text": [
      "division by zero\n"
     ]
    }
   ],
   "source": [
    "#use always a specific exception\n",
    "try :\n",
    "    10/0\n",
    "except Exception as  e  :\n",
    "    print(e)"
   ]
  },
  {
   "cell_type": "code",
   "execution_count": 3,
   "metadata": {},
   "outputs": [
    {
     "name": "stdout",
     "output_type": "stream",
     "text": [
      "division by zero\n"
     ]
    }
   ],
   "source": [
    "try :\n",
    "    10/0\n",
    "except ZeroDivisionError as e   :\n",
    "    print(e)"
   ]
  },
  {
   "cell_type": "code",
   "execution_count": 4,
   "metadata": {},
   "outputs": [
    {
     "name": "stdout",
     "output_type": "stream",
     "text": [
      "this is my zero division error i ma handing division by zero\n"
     ]
    }
   ],
   "source": [
    "# print always a valid msg\n",
    "try  :\n",
    "    10/0\n",
    "\n",
    "except ZeroDivisionError as e :\n",
    "    print(\"this is my zero division error i ma handing\" , e)"
   ]
  },
  {
   "cell_type": "code",
   "execution_count": 5,
   "metadata": {},
   "outputs": [],
   "source": [
    "# always try to log\n",
    "\n",
    "import logging\n",
    "logging.basicConfig(filename = \"error.log\" , level =logging.ERROR)\n",
    "try :\n",
    "    10/0\n",
    "\n",
    "except ZeroDivisionError as  e :\n",
    "    logging.error(\"this is my zero divison error i ma handling {}\".format(e))"
   ]
  },
  {
   "cell_type": "code",
   "execution_count": 6,
   "metadata": {},
   "outputs": [],
   "source": [
    "# always avoid to write multiple exception handling, to avoid generating unnecessary errors\n",
    "\n",
    "try :\n",
    "    10/0\n",
    "\n",
    "except FileNotFoundError as e  :\n",
    "    logging.error(f\"this is file not found {e}\")\n",
    "\n",
    "except AttributeError as e:\n",
    "    logging.error(f\"this is my attribute error {e}\")\n",
    "except ZeroDivisionError as e :\n",
    "    logging.error(f\"this i my zero division error im handlng {e}\")"
   ]
  },
  {
   "cell_type": "code",
   "execution_count": 7,
   "metadata": {},
   "outputs": [],
   "source": [
    "# prepare a proper documentation\n"
   ]
  },
  {
   "cell_type": "code",
   "execution_count": null,
   "metadata": {},
   "outputs": [],
   "source": [
    "# cleanup all the resources , dont scatter all the resources leading to\n",
    "# increasing bandwidth, utilise resources in such a way that u dont end up\n",
    "# over or under utilizing the resources.\n",
    "\n",
    "try :\n",
    "    with open(\"test.txt\", \"w\") as f :\n",
    "        f.write(\"this is my msg to file\")\n",
    "\n",
    "except FileNotFoundError as e:\n",
    "    logging.error(f\"this file has not been found {e}\")\n",
    "\n",
    "finally :\n",
    "    f.close()"
   ]
  },
  {
   "cell_type": "code",
   "execution_count": 10,
   "metadata": {},
   "outputs": [
    {
     "ename": "TypeError",
     "evalue": "can only concatenate str (not \"float\") to str",
     "output_type": "error",
     "traceback": [
      "\u001b[0;31m---------------------------------------------------------------------------\u001b[0m",
      "\u001b[0;31mTypeError\u001b[0m                                 Traceback (most recent call last)",
      "Cell \u001b[0;32mIn[10], line 12\u001b[0m\n\u001b[1;32m      9\u001b[0m \u001b[39m    \u001b[39m\u001b[39m\"\"\"Add two numbers.\"\"\"\u001b[39;00m\n\u001b[1;32m     10\u001b[0m     \u001b[39mreturn\u001b[39;00m a \u001b[39m+\u001b[39m b\n\u001b[0;32m---> 12\u001b[0m add_two_things(\u001b[39m'\u001b[39;49m\u001b[39ma string\u001b[39;49m\u001b[39m'\u001b[39;49m, \u001b[39m5.7\u001b[39;49m)\n\u001b[1;32m     14\u001b[0m \u001b[39m# gives type error  :   Run time error\u001b[39;00m\n",
      "Cell \u001b[0;32mIn[10], line 10\u001b[0m, in \u001b[0;36madd_two_things\u001b[0;34m(a, b)\u001b[0m\n\u001b[1;32m      8\u001b[0m \u001b[39mdef\u001b[39;00m \u001b[39madd_two_things\u001b[39m(a, b):\n\u001b[1;32m      9\u001b[0m \u001b[39m    \u001b[39m\u001b[39m\"\"\"Add two numbers.\"\"\"\u001b[39;00m\n\u001b[0;32m---> 10\u001b[0m     \u001b[39mreturn\u001b[39;00m a \u001b[39m+\u001b[39;49m b\n",
      "\u001b[0;31mTypeError\u001b[0m: can only concatenate str (not \"float\") to str"
     ]
    }
   ],
   "source": [
    "# python has both run time and complie time errors.\n",
    "# compile time errors: Errors that occur when you violate the rules of writing syntax  \n",
    " #  eg:\n",
    "        # missing semicolons or parentheses, misspelled keywords or usage of undeclared variables.\n",
    "# run time errors are the ones we encounter during runtime i.e value error , type error\n",
    "\n",
    "\n",
    "def add_two_things(a, b):\n",
    "    \"\"\"Add two numbers.\"\"\"\n",
    "    return a + b\n",
    "\n",
    "add_two_things('a string', 5.7)\n",
    "\n",
    "# gives type error  :   Run time error\n"
   ]
  },
  {
   "cell_type": "code",
   "execution_count": 9,
   "metadata": {},
   "outputs": [
    {
     "ename": "SyntaxError",
     "evalue": "Missing parentheses in call to 'print'. Did you mean print(\"Square=\",R)? (1185114226.py, line 4)",
     "output_type": "error",
     "traceback": [
      "\u001b[0;36m  Cell \u001b[0;32mIn[9], line 4\u001b[0;36m\u001b[0m\n\u001b[0;31m    print \"Square=\",R\u001b[0m\n\u001b[0m          ^\u001b[0m\n\u001b[0;31mSyntaxError\u001b[0m\u001b[0;31m:\u001b[0m Missing parentheses in call to 'print'. Did you mean print(\"Square=\",R)?\n"
     ]
    }
   ],
   "source": [
    "X = int(input(\"Enter a Number\")) \n",
    "\n",
    "R = X*X \n",
    "print \"Square=\",R\n",
    "\n",
    "# meaning its an compile time error"
   ]
  },
  {
   "cell_type": "code",
   "execution_count": 11,
   "metadata": {},
   "outputs": [],
   "source": [
    " # Name Error exception is raised when a name is not found in the local or global namespace"
   ]
  }
 ],
 "metadata": {
  "kernelspec": {
   "display_name": "Python 3",
   "language": "python",
   "name": "python3"
  },
  "language_info": {
   "codemirror_mode": {
    "name": "ipython",
    "version": 3
   },
   "file_extension": ".py",
   "mimetype": "text/x-python",
   "name": "python",
   "nbconvert_exporter": "python",
   "pygments_lexer": "ipython3",
   "version": "3.8.10"
  },
  "orig_nbformat": 4,
  "vscode": {
   "interpreter": {
    "hash": "31f2aee4e71d21fbe5cf8b01ff0e069b9275f58929596ceb00d14d90e3e16cd6"
   }
  }
 },
 "nbformat": 4,
 "nbformat_minor": 2
}
