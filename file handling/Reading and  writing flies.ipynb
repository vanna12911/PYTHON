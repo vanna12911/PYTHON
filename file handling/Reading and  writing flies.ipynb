{
 "cells": [
  {
   "cell_type": "markdown",
   "id": "e95efa43-a3db-47b8-a6a3-f457a346ac62",
   "metadata": {},
   "source": [
    "## Reading and writing files"
   ]
  },
  {
   "cell_type": "markdown",
   "id": "dc7883fb-42ef-45c0-bb0a-4d88a94067bd",
   "metadata": {},
   "source": [
    "* json file (javascript object notation ):\n",
    "     used widely in terms of transferring data from one file to another file,\n",
    "    and a json file holds data in the form of key value pairs only."
   ]
  },
  {
   "cell_type": "code",
   "execution_count": 4,
   "id": "03dd2acb-fc2a-468e-9889-5f00d340237c",
   "metadata": {},
   "outputs": [],
   "source": [
    "data ={\n",
    "        \"name\" : \"pista\" ,\n",
    "         \"mail_id\" : \"pista@gmail.com\",\n",
    "         \"phone_number\": \"659865\",\n",
    "          \"subjects\" : [\"data science\" , \"big data\",\"data analytics\"]\n",
    "        } "
   ]
  },
  {
   "cell_type": "code",
   "execution_count": 5,
   "id": "ac4eb3c0-97fa-48d5-a680-a2ccc3b1c6e2",
   "metadata": {},
   "outputs": [],
   "source": [
    "import json"
   ]
  },
  {
   "cell_type": "code",
   "execution_count": 6,
   "id": "8501d656-d2cb-40a2-b5c4-47c54bea313b",
   "metadata": {},
   "outputs": [],
   "source": [
    "with open(\"test1.json\" ,\"w\") as f:\n",
    "    json.dump(data,f)"
   ]
  },
  {
   "cell_type": "code",
   "execution_count": 8,
   "id": "a326723c-7f1c-4ca4-abbc-0aabac8a4416",
   "metadata": {},
   "outputs": [],
   "source": [
    "with open(\"test1.json\" ,\"r\") as f:\n",
    "    data1=json.load(f)"
   ]
  },
  {
   "cell_type": "code",
   "execution_count": 9,
   "id": "ac405c10-bf2f-4b36-a339-b89162cfb0b0",
   "metadata": {},
   "outputs": [
    {
     "data": {
      "text/plain": [
       "{'name': 'pista',\n",
       " 'mail_id': 'pista@gmail.com',\n",
       " 'phone_number': '659865',\n",
       " 'subjects': ['data science', 'big data', 'data analytics']}"
      ]
     },
     "execution_count": 9,
     "metadata": {},
     "output_type": "execute_result"
    }
   ],
   "source": [
    "data1"
   ]
  },
  {
   "cell_type": "code",
   "execution_count": 10,
   "id": "5b200d27-aae0-4a73-9295-44c6bcbd922f",
   "metadata": {},
   "outputs": [
    {
     "data": {
      "text/plain": [
       "'big data'"
      ]
     },
     "execution_count": 10,
     "metadata": {},
     "output_type": "execute_result"
    }
   ],
   "source": [
    "data1[\"subjects\"][1]"
   ]
  },
  {
   "cell_type": "markdown",
   "id": "a8cc09e8-38e0-492a-9927-3128f7c63dce",
   "metadata": {},
   "source": [
    "* ## csv files"
   ]
  },
  {
   "cell_type": "code",
   "execution_count": 11,
   "id": "b43e1b41-f216-4d67-89fb-e2cf2ddb0ccb",
   "metadata": {},
   "outputs": [],
   "source": [
    "import csv"
   ]
  },
  {
   "cell_type": "code",
   "execution_count": 12,
   "id": "5c5649d7-96cd-4336-83ee-01bb2a3c3869",
   "metadata": {},
   "outputs": [],
   "source": [
    "data = [[\"name\" ,\"emai_id\" , \"phone_number\"],\n",
    "        [\"pista\" ,\"pista@gmail.com\", 566465546],\n",
    "         [\"vanna\",\"vann@gmail.com\",36554656]]"
   ]
  },
  {
   "cell_type": "code",
   "execution_count": 13,
   "id": "f4d7a577-feb7-437e-96b1-b731faa6d46c",
   "metadata": {},
   "outputs": [],
   "source": [
    "with open(\"test2.csv\" , \"w\") as f:\n",
    "    w= csv.writer(f)\n",
    "    for i in data:\n",
    "        w.writerow(i)"
   ]
  },
  {
   "cell_type": "code",
   "execution_count": 14,
   "id": "0019d058-6d97-472d-8fe2-406e0cf9375c",
   "metadata": {},
   "outputs": [
    {
     "name": "stdout",
     "output_type": "stream",
     "text": [
      "['name', 'emai_id', 'phone_number']\n",
      "['pista', 'pista@gmail.com', '566465546']\n",
      "['vanna', 'vann@gmail.com', '36554656']\n"
     ]
    }
   ],
   "source": [
    "with open(\"test2.csv\",\"r\") as f:\n",
    "    read = csv.reader(f)\n",
    "    for i in read:\n",
    "        print(i)\n",
    "    "
   ]
  },
  {
   "cell_type": "markdown",
   "id": "1b2446cc-d764-48fe-b6d6-b40905cea6cb",
   "metadata": {},
   "source": [
    "* ### Binary files : stores files like images and audios ,in the form of binary code"
   ]
  },
  {
   "cell_type": "code",
   "execution_count": 17,
   "id": "14ba3a3e-8331-4c6d-817a-c05d9b701a7c",
   "metadata": {},
   "outputs": [],
   "source": [
    "# import bin   # No module named 'bin'"
   ]
  },
  {
   "cell_type": "code",
   "execution_count": 18,
   "id": "5723221b-88ba-4a11-b0c7-fc88d1afcaa4",
   "metadata": {},
   "outputs": [],
   "source": [
    "with open(\"test3.bin\" ,\"wb\") as f:\n",
    "    f.write(b\"\\x01\\x02\\x03\")"
   ]
  },
  {
   "cell_type": "code",
   "execution_count": 20,
   "id": "667dc625-5c7d-477a-95e7-35e824cbef7d",
   "metadata": {},
   "outputs": [
    {
     "name": "stdout",
     "output_type": "stream",
     "text": [
      "b'\\x01\\x02\\x03'\n"
     ]
    }
   ],
   "source": [
    "with open(\"test3.bin\" , \"rb\") as f:\n",
    "    print(f.read())"
   ]
  },
  {
   "cell_type": "code",
   "execution_count": null,
   "id": "dbeb2f42-2bb6-433c-82b9-565ee36ee3da",
   "metadata": {},
   "outputs": [],
   "source": []
  }
 ],
 "metadata": {
  "kernelspec": {
   "display_name": "Python 3 (ipykernel)",
   "language": "python",
   "name": "python3"
  },
  "language_info": {
   "codemirror_mode": {
    "name": "ipython",
    "version": 3
   },
   "file_extension": ".py",
   "mimetype": "text/x-python",
   "name": "python",
   "nbconvert_exporter": "python",
   "pygments_lexer": "ipython3",
   "version": "3.10.8"
  }
 },
 "nbformat": 4,
 "nbformat_minor": 5
}
