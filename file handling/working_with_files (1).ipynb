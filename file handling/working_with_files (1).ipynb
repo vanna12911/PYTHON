{
 "cells": [
  {
   "cell_type": "code",
   "execution_count": 1,
   "id": "21cb56fa-cf62-4d34-8cdc-a0586e95bc1a",
   "metadata": {},
   "outputs": [],
   "source": [
    "f = open(\"test.txt\" ,\"w\")   # whenever a file is opened in write format, on writing the file gets\n",
    "                            # overwritten each time , to avoid the same append mode could be used as \"a\""
   ]
  },
  {
   "cell_type": "code",
   "execution_count": 2,
   "id": "5b0b21cb-4b51-4d55-805f-8eb146d07b43",
   "metadata": {},
   "outputs": [
    {
     "data": {
      "text/plain": [
       "'/home/jovyan/work'"
      ]
     },
     "execution_count": 2,
     "metadata": {},
     "output_type": "execute_result"
    }
   ],
   "source": [
    "pwd"
   ]
  },
  {
   "cell_type": "code",
   "execution_count": 3,
   "id": "f3a53a47-b88f-42ef-b23a-2cbb86f0e534",
   "metadata": {},
   "outputs": [
    {
     "name": "stdout",
     "output_type": "stream",
     "text": [
      "day1.ipynb  day4.ipynb            README.md          test.txt\n",
      "day2.ipynb  doubts.ipynb          rough.ipynb        working_with_files.ipynb\n",
      "day3.ipynb  python_basics3.ipynb  sample-code.ipynb\n"
     ]
    }
   ],
   "source": [
    "ls"
   ]
  },
  {
   "cell_type": "code",
   "execution_count": 4,
   "id": "795a8f08-b7ae-4fcb-8027-bd9987b19549",
   "metadata": {},
   "outputs": [
    {
     "data": {
      "text/plain": [
       "216"
      ]
     },
     "execution_count": 4,
     "metadata": {},
     "output_type": "execute_result"
    }
   ],
   "source": [
    "f.write(\"I noticed that the current Kaggle environment (2023-02-17) has polars supported! So I made a notebook series to implement Chris's idea using polars. And I also added a new elapse-time diff feature named time_past for\")"
   ]
  },
  {
   "cell_type": "code",
   "execution_count": 5,
   "id": "e1a35e2b-e644-4b07-a682-5868637e4130",
   "metadata": {},
   "outputs": [],
   "source": [
    "f.close()"
   ]
  },
  {
   "cell_type": "code",
   "execution_count": 6,
   "id": "f180a118-998b-408d-af3a-493542b68a10",
   "metadata": {},
   "outputs": [],
   "source": [
    "f = open(\"test.txt\" ,\"a\")"
   ]
  },
  {
   "cell_type": "code",
   "execution_count": 7,
   "id": "5b58b106-5784-4e7b-a9ac-90b25d1d92ce",
   "metadata": {},
   "outputs": [
    {
     "data": {
      "text/plain": [
       "12"
      ]
     },
     "execution_count": 7,
     "metadata": {},
     "output_type": "execute_result"
    }
   ],
   "source": [
    "f.write(\"here it ends\")"
   ]
  },
  {
   "cell_type": "code",
   "execution_count": 8,
   "id": "912252ac-afb2-4186-87eb-89c0fffccc1b",
   "metadata": {},
   "outputs": [],
   "source": [
    "f.close()"
   ]
  },
  {
   "cell_type": "code",
   "execution_count": 9,
   "id": "dbda04ba-6ed0-4453-b37d-21cdb94bded4",
   "metadata": {},
   "outputs": [],
   "source": [
    "data =open(\"test.txt\",\"r\")"
   ]
  },
  {
   "cell_type": "code",
   "execution_count": 10,
   "id": "4a44c372-0ed9-4bcd-b1ef-acc67791a09a",
   "metadata": {},
   "outputs": [
    {
     "data": {
      "text/plain": [
       "\"I noticed that the current Kaggle environment (2023-02-17) has polars supported! So I made a notebook series to implement Chris's idea using polars. And I also added a new elapse-time diff feature named time_past forhere it ends\""
      ]
     },
     "execution_count": 10,
     "metadata": {},
     "output_type": "execute_result"
    }
   ],
   "source": [
    "data.read()"
   ]
  },
  {
   "cell_type": "code",
   "execution_count": 11,
   "id": "4594d31a-9acc-421b-8f2c-ead05720e843",
   "metadata": {},
   "outputs": [
    {
     "data": {
      "text/plain": [
       "''"
      ]
     },
     "execution_count": 11,
     "metadata": {},
     "output_type": "execute_result"
    }
   ],
   "source": [
    "data.read()"
   ]
  },
  {
   "cell_type": "code",
   "execution_count": 12,
   "id": "b2f745a7-a246-47a7-b472-1bb9555fb2b7",
   "metadata": {},
   "outputs": [
    {
     "data": {
      "text/plain": [
       "0"
      ]
     },
     "execution_count": 12,
     "metadata": {},
     "output_type": "execute_result"
    }
   ],
   "source": [
    "data.seek(0)"
   ]
  },
  {
   "cell_type": "code",
   "execution_count": 13,
   "id": "608d155b-be8e-4076-a49f-4a126c90baa1",
   "metadata": {},
   "outputs": [
    {
     "data": {
      "text/plain": [
       "\"I noticed that the current Kaggle environment (2023-02-17) has polars supported! So I made a notebook series to implement Chris's idea using polars. And I also added a new elapse-time diff feature named time_past forhere it ends\""
      ]
     },
     "execution_count": 13,
     "metadata": {},
     "output_type": "execute_result"
    }
   ],
   "source": [
    "data.read()"
   ]
  },
  {
   "cell_type": "code",
   "execution_count": 14,
   "id": "e18f93e2-d79d-4b4d-82ca-bbb92581ab9a",
   "metadata": {},
   "outputs": [
    {
     "data": {
      "text/plain": [
       "20"
      ]
     },
     "execution_count": 14,
     "metadata": {},
     "output_type": "execute_result"
    }
   ],
   "source": [
    "data.seek(20)"
   ]
  },
  {
   "cell_type": "code",
   "execution_count": 15,
   "id": "84b84770-3660-40f2-89ed-ea89ccc7c1c3",
   "metadata": {},
   "outputs": [
    {
     "data": {
      "text/plain": [
       "\"urrent Kaggle environment (2023-02-17) has polars supported! So I made a notebook series to implement Chris's idea using polars. And I also added a new elapse-time diff feature named time_past forhere it ends\""
      ]
     },
     "execution_count": 15,
     "metadata": {},
     "output_type": "execute_result"
    }
   ],
   "source": [
    "data.read()\n"
   ]
  },
  {
   "cell_type": "markdown",
   "id": "ef029653-bc38-4243-a6da-dab670fa3d2f",
   "metadata": {},
   "source": [
    "## another way to read data from a file"
   ]
  },
  {
   "cell_type": "code",
   "execution_count": 16,
   "id": "47749f59-a2c5-4263-b6cb-4f55a029ac6e",
   "metadata": {},
   "outputs": [],
   "source": [
    "data1 = open(\"test.txt\" ,\"r\")"
   ]
  },
  {
   "cell_type": "code",
   "execution_count": 17,
   "id": "0f401543-ea08-4948-9dba-de19e8d41864",
   "metadata": {},
   "outputs": [
    {
     "name": "stdout",
     "output_type": "stream",
     "text": [
      "I noticed that the current Kaggle environment (2023-02-17) has polars supported! So I made a notebook series to implement Chris's idea using polars. And I also added a new elapse-time diff feature named time_past forhere it ends\n"
     ]
    }
   ],
   "source": [
    "for i in data1:\n",
    "    print(i)"
   ]
  },
  {
   "cell_type": "code",
   "execution_count": 18,
   "id": "28484ebd-fd2d-4cb6-a98e-0c7db076b98b",
   "metadata": {},
   "outputs": [
    {
     "data": {
      "text/plain": [
       "228"
      ]
     },
     "execution_count": 18,
     "metadata": {},
     "output_type": "execute_result"
    }
   ],
   "source": [
    "import os\n",
    "os.path.getsize(\"test.txt\")  # size in bytes"
   ]
  },
  {
   "cell_type": "code",
   "execution_count": 19,
   "id": "e5e5e711-a851-4b5b-a64c-b58294c7b386",
   "metadata": {},
   "outputs": [
    {
     "data": {
      "text/plain": [
       "'new_test.txt'"
      ]
     },
     "execution_count": 19,
     "metadata": {},
     "output_type": "execute_result"
    }
   ],
   "source": [
    "import shutil\n",
    "shutil.copy(\"test.txt\" , \"new_test.txt\")  # makes copy of the file"
   ]
  },
  {
   "cell_type": "code",
   "execution_count": 20,
   "id": "b04150a2-ffcd-4d37-b778-da4db3f0fef9",
   "metadata": {},
   "outputs": [],
   "source": [
    "os.remove(\"test.txt\")"
   ]
  },
  {
   "cell_type": "code",
   "execution_count": 22,
   "id": "931a9cdb-ec93-4415-a555-b4320fd67bbb",
   "metadata": {},
   "outputs": [
    {
     "name": "stdout",
     "output_type": "stream",
     "text": [
      "I noticed that the current Kaggle environment (2023-02-17) has polars supported! So I made a notebook series to implement Chris's idea using polars. And I also added a new elapse-time diff feature named time_past forhere it ends\n"
     ]
    }
   ],
   "source": [
    "with open(\"new_test.txt\", \"r\") as f:\n",
    "    print(f.read())"
   ]
  },
  {
   "cell_type": "code",
   "execution_count": 23,
   "id": "10433f09-4fc0-4615-86a6-31a9e05c804c",
   "metadata": {},
   "outputs": [],
   "source": [
    "os.rename(\"new_test.txt\" ,\"test1.txt\")  # to rename a file"
   ]
  },
  {
   "cell_type": "code",
   "execution_count": null,
   "id": "fb40a77c-f90c-4899-8d38-100c9bcb3c4b",
   "metadata": {},
   "outputs": [],
   "source": []
  }
 ],
 "metadata": {
  "kernelspec": {
   "display_name": "Python 3 (ipykernel)",
   "language": "python",
   "name": "python3"
  },
  "language_info": {
   "codemirror_mode": {
    "name": "ipython",
    "version": 3
   },
   "file_extension": ".py",
   "mimetype": "text/x-python",
   "name": "python",
   "nbconvert_exporter": "python",
   "pygments_lexer": "ipython3",
   "version": "3.10.8"
  }
 },
 "nbformat": 4,
 "nbformat_minor": 5
}
