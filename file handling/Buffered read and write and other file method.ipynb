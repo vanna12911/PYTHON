{
 "cells": [
  {
   "cell_type": "code",
   "execution_count": 1,
   "id": "750567ff-bb09-4d21-8aba-98ca7d74d2f6",
   "metadata": {},
   "outputs": [],
   "source": [
    "import io"
   ]
  },
  {
   "cell_type": "markdown",
   "id": "acb44711-aca5-4558-b61f-ec3951588e68",
   "metadata": {},
   "source": [
    "buffered read and write is used  wnhenever data to read and write  us very big. \n",
    "and buffered data is written in the form of chunks. "
   ]
  },
  {
   "cell_type": "code",
   "execution_count": 2,
   "id": "0e2857ec-9d75-4e6a-b588-e964658e3fe6",
   "metadata": {},
   "outputs": [],
   "source": [
    "with open(\"test4.txt\" ,\"wb\") as f:\n",
    "    file = io.BufferedWriter(f)\n",
    "    file.write(b\"this is my buffered text\\n\")\n",
    "    file.write(b\"To qualify for student benefits, you must.Be currently enrolled in a degree or diploma granting course of study such as a high school, secondary school, college, university, homeschool, or similar educational institution.\")\n",
    "    file.write(b\"this my second line i'm trying to write\")\n",
    "    file.flush()\n",
    "\n",
    "    # with BufferedWriter we can achieve data writing in chunks"
   ]
  },
  {
   "cell_type": "code",
   "execution_count": 3,
   "id": "4a69b4ff-663f-490c-8134-87b5e3e7b4e3",
   "metadata": {},
   "outputs": [
    {
     "name": "stdout",
     "output_type": "stream",
     "text": [
      "b\"this is my buffered text\\nTo qualify for student benefits, you must.Be currently enrolled in a degree or diploma granting course of study such as a high school, secondary school, college, university, homeschool, or similar educational institution.this my second line i'm trying to write\"\n"
     ]
    }
   ],
   "source": [
    "with open(\"test4.txt\", \"rb\") as f:\n",
    "    file= io.BufferedReader(f)\n",
    "    data = file.read()\n",
    "    print(data)"
   ]
  },
  {
   "cell_type": "code",
   "execution_count": 4,
   "id": "cab06a46-db09-4bbf-acf7-5ebf4d64c18a",
   "metadata": {},
   "outputs": [
    {
     "name": "stdout",
     "output_type": "stream",
     "text": [
      "b'this is my'\n"
     ]
    }
   ],
   "source": [
    "with open(\"test4.txt\", \"rb\") as f:\n",
    "    file= io.BufferedReader(f)\n",
    "    data = file.read(10)                # reads only specified bytes\n",
    "    print(data)"
   ]
  },
  {
   "cell_type": "code",
   "execution_count": null,
   "id": "5c504639-0434-4853-9e81-a2dd059dab89",
   "metadata": {},
   "outputs": [],
   "source": []
  },
  {
   "cell_type": "code",
   "execution_count": null,
   "id": "af2b97a9",
   "metadata": {},
   "outputs": [],
   "source": []
  }
 ],
 "metadata": {
  "kernelspec": {
   "display_name": "Python 3",
   "language": "python",
   "name": "python3"
  },
  "language_info": {
   "codemirror_mode": {
    "name": "ipython",
    "version": 3
   },
   "file_extension": ".py",
   "mimetype": "text/x-python",
   "name": "python",
   "nbconvert_exporter": "python",
   "pygments_lexer": "ipython3",
   "version": "3.8.10"
  },
  "vscode": {
   "interpreter": {
    "hash": "916dbcbb3f70747c44a77c7bcd40155683ae19c65e1c03b4aa3499c5328201f1"
   }
  }
 },
 "nbformat": 4,
 "nbformat_minor": 5
}
