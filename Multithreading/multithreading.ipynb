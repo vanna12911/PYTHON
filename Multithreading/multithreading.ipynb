{
 "cells": [
  {
   "cell_type": "markdown",
   "id": "a6025e92-d6c8-49c7-bb86-2c589fc5c8fe",
   "metadata": {},
   "source": [
    "# MULTITHREADING  :  how we can run multiple instances of a program in a single core"
   ]
  },
  {
   "cell_type": "markdown",
   "id": "bcbce7d8-b9c1-4adc-a609-10e00615b0d6",
   "metadata": {},
   "source": [
    "Executing the same program in the same core n number of times , here concept of threading comes into the picture.\n",
    "It is going to create multiple threads of the same program and going to execute them consecutivly.  where single core i going to occupy all the resources and going to execute the programs one by one.\n",
    "\n",
    "\n",
    "Threading in python is used to run thre same function n number of times with different arguments.\n",
    "\n",
    "Threading in python is used to run multiple threads (tasks, function calls) at the same time. Note that this does not mean that they are executed on different CPUs. Python threads will NOT make your program faster if it already uses 100 % CPU time."
   ]
  },
  {
   "cell_type": "code",
   "execution_count": 64,
   "id": "be58e73b-3637-46a2-af9e-0a3db27e1842",
   "metadata": {},
   "outputs": [],
   "source": [
    "import threading"
   ]
  },
  {
   "cell_type": "markdown",
   "id": "cba3bea0-b6a7-4f49-a87d-b5367870b7e7",
   "metadata": {},
   "source": [
    "## Multithreading is  the process of running multiple threads simultaneously within a single process."
   ]
  },
  {
   "cell_type": "markdown",
   "id": "61c2db09-3c70-4911-993b-99d07f4dbd14",
   "metadata": {},
   "source": [
    "\n",
    " ## purpose of multithreading :To improve the performance of a program by using multiple CPUs or CPU cores."
   ]
  },
  {
   "cell_type": "markdown",
   "id": "ed1d8680-c35b-4eed-8041-f4afb07da6ff",
   "metadata": {},
   "source": [
    "## Mutex in multithreading : A synchronization primitive used to protect shared resources from being accessed by multiple threads at the same time."
   ]
  },
  {
   "cell_type": "code",
   "execution_count": 65,
   "id": "0072d977-2bc2-4f3c-a358-dfd85fda7c36",
   "metadata": {},
   "outputs": [],
   "source": [
    "def test(id):\n",
    "    print(\"this is my id %d\" %id)"
   ]
  },
  {
   "cell_type": "code",
   "execution_count": 66,
   "id": "92a6ae0c-5199-4aaa-8fd0-5e9598e7219f",
   "metadata": {},
   "outputs": [
    {
     "name": "stdout",
     "output_type": "stream",
     "text": [
      "this is my id 10\n"
     ]
    }
   ],
   "source": [
    "test(10)"
   ]
  },
  {
   "cell_type": "code",
   "execution_count": 67,
   "id": "017cf363-4540-4a96-9e29-9a94c6f177b7",
   "metadata": {},
   "outputs": [
    {
     "name": "stdout",
     "output_type": "stream",
     "text": [
      "this is my id 45\n"
     ]
    }
   ],
   "source": [
    "test(45)"
   ]
  },
  {
   "cell_type": "code",
   "execution_count": 68,
   "id": "3eeedf8c-545d-411f-9306-0d62dc606fda",
   "metadata": {},
   "outputs": [
    {
     "name": "stdout",
     "output_type": "stream",
     "text": [
      "this is my id 3\n"
     ]
    }
   ],
   "source": [
    "test(3)"
   ]
  },
  {
   "cell_type": "markdown",
   "id": "acd02684-4548-403e-b4fd-f01a1207244d",
   "metadata": {},
   "source": [
    "### As the Global Interpreter Lock (GIL) is a mechanism used by Python to ensure that only one thread executes Python bytecode at a time."
   ]
  },
  {
   "cell_type": "code",
   "execution_count": 69,
   "id": "95f9a2be-f48d-4882-ae9b-45388c6bffc6",
   "metadata": {},
   "outputs": [],
   "source": [
    "dhaga = [threading.Thread(target =test , args =(i,)) for i  in [10,45,3]]"
   ]
  },
  {
   "cell_type": "code",
   "execution_count": 70,
   "id": "b3e14243-c79e-4d20-9af3-babf814bfe73",
   "metadata": {},
   "outputs": [
    {
     "data": {
      "text/plain": [
       "[<Thread(Thread-35 (test), initial)>,\n",
       " <Thread(Thread-36 (test), initial)>,\n",
       " <Thread(Thread-37 (test), initial)>]"
      ]
     },
     "execution_count": 70,
     "metadata": {},
     "output_type": "execute_result"
    }
   ],
   "source": [
    "dhaga"
   ]
  },
  {
   "cell_type": "code",
   "execution_count": 71,
   "id": "0ffb2ed5-0666-4be1-8883-9b5887375472",
   "metadata": {},
   "outputs": [
    {
     "name": "stdout",
     "output_type": "stream",
     "text": [
      "this is my id 10\n",
      "this is my id 45\n",
      "this is my id 3\n"
     ]
    }
   ],
   "source": [
    " for d in dhaga:\n",
    "        d.start()"
   ]
  },
  {
   "cell_type": "code",
   "execution_count": 72,
   "id": "b1108cfd-739d-485e-ab02-3f05fe2908f1",
   "metadata": {},
   "outputs": [],
   "source": [
    "import urllib.request"
   ]
  },
  {
   "cell_type": "code",
   "execution_count": 73,
   "id": "1c4f0920-5947-406b-9a42-cff8bf6107a0",
   "metadata": {},
   "outputs": [],
   "source": [
    "def file_download(url , file_name):\n",
    "    urllib.request.urlretrieve(url , file_name)"
   ]
  },
  {
   "cell_type": "code",
   "execution_count": 74,
   "id": "2382f9e3-2a2b-4eae-b1c1-ac1cca199fb7",
   "metadata": {},
   "outputs": [],
   "source": [
    "file_download('https://raw.githubusercontent.com/itsfoss/text-files/master/agatha.txt' , \"tester.txt\")"
   ]
  },
  {
   "cell_type": "code",
   "execution_count": 75,
   "id": "9ec4a25d-fcf3-4a37-839c-932a6b5ca2d4",
   "metadata": {},
   "outputs": [],
   "source": [
    "url_list = ['https://raw.githubusercontent.com/itsfoss/text-files/master/agatha.txt', 'https://raw.githubusercontent.com/itsfoss/text-files/master/sample_log_file.txt' , 'https://raw.githubusercontent.com/itsfoss/text-files/master/sherlock.txt']"
   ]
  },
  {
   "cell_type": "code",
   "execution_count": 76,
   "id": "62334a2e-2010-4c57-b918-55db55e5da43",
   "metadata": {},
   "outputs": [],
   "source": [
    "file_list = [\"Data1.txt\" ,\"Data2.txt\" ,\"Data3.txt\"]\n"
   ]
  },
  {
   "cell_type": "code",
   "execution_count": 77,
   "id": "580a6848-811a-45a1-8a87-0e3a44fd83b3",
   "metadata": {},
   "outputs": [],
   "source": [
    "dhaga2 = [threading.Thread(target=file_download , args=(url_list[i], file_list[i])) for i in range(len(url_list))]\n"
   ]
  },
  {
   "cell_type": "code",
   "execution_count": 78,
   "id": "a4e40ac5-f77e-4f7d-afe8-227823d914ae",
   "metadata": {},
   "outputs": [
    {
     "data": {
      "text/plain": [
       "[<Thread(Thread-38 (file_download), initial)>,\n",
       " <Thread(Thread-39 (file_download), initial)>,\n",
       " <Thread(Thread-40 (file_download), initial)>]"
      ]
     },
     "execution_count": 78,
     "metadata": {},
     "output_type": "execute_result"
    }
   ],
   "source": [
    "dhaga2"
   ]
  },
  {
   "cell_type": "code",
   "execution_count": 79,
   "id": "49e3aa39-2292-4c03-9c0a-bb0b48cd6c01",
   "metadata": {},
   "outputs": [],
   "source": [
    "for d in dhaga2:\n",
    "    d.start()"
   ]
  },
  {
   "cell_type": "code",
   "execution_count": 80,
   "id": "20a890c7-faf7-41d0-a136-3c31554fd932",
   "metadata": {},
   "outputs": [],
   "source": [
    "import time"
   ]
  },
  {
   "cell_type": "code",
   "execution_count": 81,
   "id": "e1f696ac-e6f7-4474-9794-a89d8903d954",
   "metadata": {},
   "outputs": [],
   "source": [
    "def test2(x):\n",
    "    for i in range(10):\n",
    "        print(\"the value of  x %d and the value of i %d\" %(x,i))"
   ]
  },
  {
   "cell_type": "code",
   "execution_count": 82,
   "id": "5c93fc42-b1a7-4962-a44e-1d99107fddcb",
   "metadata": {},
   "outputs": [
    {
     "name": "stdout",
     "output_type": "stream",
     "text": [
      "the value of  x 10 and the value of i 0\n",
      "the value of  x 10 and the value of i 1\n",
      "the value of  x 10 and the value of i 2\n",
      "the value of  x 10 and the value of i 3\n",
      "the value of  x 10 and the value of i 4\n",
      "the value of  x 10 and the value of i 5\n",
      "the value of  x 10 and the value of i 6\n",
      "the value of  x 10 and the value of i 7\n",
      "the value of  x 10 and the value of i 8\n",
      "the value of  x 10 and the value of i 9\n"
     ]
    }
   ],
   "source": [
    "test2(10)"
   ]
  },
  {
   "cell_type": "code",
   "execution_count": 83,
   "id": "e0ebf21a-1f9e-4613-835f-b1dc9139f770",
   "metadata": {},
   "outputs": [
    {
     "name": "stdout",
     "output_type": "stream",
     "text": [
      "the value of  x 45 and the value of i 0\n",
      "the value of  x 45 and the value of i 1\n",
      "the value of  x 45 and the value of i 2\n",
      "the value of  x 45 and the value of i 3\n",
      "the value of  x 45 and the value of i 4\n",
      "the value of  x 45 and the value of i 5\n",
      "the value of  x 45 and the value of i 6\n",
      "the value of  x 45 and the value of i 7\n",
      "the value of  x 45 and the value of i 8\n",
      "the value of  x 45 and the value of i 9\n"
     ]
    }
   ],
   "source": [
    "test2(45)"
   ]
  },
  {
   "cell_type": "code",
   "execution_count": 84,
   "id": "eb30a7ff-a65d-4cbe-8c6a-504748c89b0f",
   "metadata": {},
   "outputs": [],
   "source": [
    "def test2(x):\n",
    "    for i in range(10):\n",
    "        print(\"the value of  x %d and the value of i %d\" %(x,i))\n",
    "        # time.sleep(1)"
   ]
  },
  {
   "cell_type": "code",
   "execution_count": 85,
   "id": "109937cc-3bb7-480e-b50c-3e24ed4c5ec5",
   "metadata": {},
   "outputs": [
    {
     "name": "stdout",
     "output_type": "stream",
     "text": [
      "the value of  x 6 and the value of i 0\n",
      "the value of  x 6 and the value of i 1\n",
      "the value of  x 6 and the value of i 2\n",
      "the value of  x 6 and the value of i 3\n",
      "the value of  x 6 and the value of i 4\n",
      "the value of  x 6 and the value of i 5\n",
      "the value of  x 6 and the value of i 6\n",
      "the value of  x 6 and the value of i 7\n",
      "the value of  x 6 and the value of i 8\n",
      "the value of  x 6 and the value of i 9\n"
     ]
    }
   ],
   "source": [
    "test2(6)"
   ]
  },
  {
   "cell_type": "code",
   "execution_count": 86,
   "id": "0986e305-7755-428c-b02d-97b86f0d7865",
   "metadata": {},
   "outputs": [],
   "source": [
    "dhaga3 =[threading.Thread(target = test2 , args= (i,)) for i in [100,12,45]]"
   ]
  },
  {
   "cell_type": "code",
   "execution_count": 87,
   "id": "0335b2e6-bbfa-497e-9d5b-ba9d1e59a6b6",
   "metadata": {},
   "outputs": [
    {
     "data": {
      "text/plain": [
       "[<Thread(Thread-41 (test2), initial)>,\n",
       " <Thread(Thread-42 (test2), initial)>,\n",
       " <Thread(Thread-43 (test2), initial)>]"
      ]
     },
     "execution_count": 87,
     "metadata": {},
     "output_type": "execute_result"
    }
   ],
   "source": [
    "dhaga3"
   ]
  },
  {
   "cell_type": "code",
   "execution_count": 88,
   "id": "021cd9f0-6fba-45b9-8272-94f78f1c7734",
   "metadata": {},
   "outputs": [
    {
     "name": "stdout",
     "output_type": "stream",
     "text": [
      "the value of  x 100 and the value of i 0\n",
      "the value of  x 100 and the value of i 1\n",
      "the value of  x 100 and the value of i 2\n",
      "the value of  x 100 and the value of i 3\n",
      "the value of  x 100 and the value of i 4\n",
      "the value of  x 100 and the value of i 5\n",
      "the value of  x 100 and the value of i 6\n",
      "the value of  x 100 and the value of i 7\n",
      "the value of  x 100 and the value of i 8\n",
      "the value of  x 100 and the value of i 9\n",
      "the value of  x 12 and the value of i 0\n",
      "the value of  x 12 and the value of i 1\n",
      "the value of  x 12 and the value of i 2\n",
      "the value of  x 12 and the value of i 3\n",
      "the value of  x 12 and the value of i 4\n",
      "the value of  x 12 and the value of i 5\n",
      "the value of  x 12 and the value of i 6\n",
      "the value of  x 12 and the value of i 7\n",
      "the value of  x 12 and the value of i 8\n",
      "the value of  x 12 and the value of i 9\n",
      "the value of  x 45 and the value of i 0\n",
      "the value of  x 45 and the value of i 1\n",
      "the value of  x 45 and the value of i 2\n",
      "the value of  x 45 and the value of i 3\n",
      "the value of  x 45 and the value of i 4\n",
      "the value of  x 45 and the value of i 5\n",
      "the value of  x 45 and the value of i 6\n",
      "the value of  x 45 and the value of i 7\n",
      "the value of  x 45 and the value of i 8\n",
      "the value of  x 45 and the value of i 9\n"
     ]
    }
   ],
   "source": [
    "for d3  in dhaga3:\n",
    "    d3.start()\n",
    "# here the same core is shifting bw different tasks as we can see from the ouptuts  only if we use time.sleep else it works like completion of one task then shifts to the other task"
   ]
  },
  {
   "cell_type": "code",
   "execution_count": 89,
   "id": "016bd9ef-b30f-4748-a611-6228311c48bb",
   "metadata": {},
   "outputs": [
    {
     "name": "stdout",
     "output_type": "stream",
     "text": [
      "the value of  x 45 and the value of i 0\n",
      "the value of  x 45 and the value of i 1\n",
      "the value of  x 45 and the value of i 2\n",
      "the value of  x 45 and the value of i 3\n",
      "the value of  x 45 and the value of i 4\n",
      "the value of  x 45 and the value of i 5\n",
      "the value of  x 45 and the value of i 6\n",
      "the value of  x 45 and the value of i 7\n",
      "the value of  x 45 and the value of i 8\n",
      "the value of  x 45 and the value of i 9\n"
     ]
    }
   ],
   "source": [
    "test2(45)"
   ]
  },
  {
   "cell_type": "code",
   "execution_count": 94,
   "id": "04e7250f-cf5b-409c-9d71-08d5bb9b66d0",
   "metadata": {},
   "outputs": [],
   "source": [
    "# not able to understand it quite well\n",
    "\n",
    "shared_var =0\n",
    "lock_var = threading.Lock()\n",
    "def test4(x):\n",
    "    global shared_var\n",
    "    with lock_var:\n",
    "        shared_var =shared_var +1 \n",
    "        print('value of x %d and value of  shared_var %d' %(x, shared_var))\n",
    "        time.sleep(1)"
   ]
  },
  {
   "cell_type": "code",
   "execution_count": 95,
   "id": "2f55de20-31ed-40a7-8783-fc90659eb6a2",
   "metadata": {},
   "outputs": [],
   "source": [
    "dhaga4= [threading.Thread(target =test4, args= (i,)) for i in [1,2,3,4,5,6]]"
   ]
  },
  {
   "cell_type": "code",
   "execution_count": 96,
   "id": "962f0890-203c-4b3e-bf3c-2ffba23c3acb",
   "metadata": {},
   "outputs": [
    {
     "data": {
      "text/plain": [
       "[<Thread(Thread-50 (test4), initial)>,\n",
       " <Thread(Thread-51 (test4), initial)>,\n",
       " <Thread(Thread-52 (test4), initial)>,\n",
       " <Thread(Thread-53 (test4), initial)>,\n",
       " <Thread(Thread-54 (test4), initial)>,\n",
       " <Thread(Thread-55 (test4), initial)>]"
      ]
     },
     "execution_count": 96,
     "metadata": {},
     "output_type": "execute_result"
    }
   ],
   "source": [
    "dhaga4"
   ]
  },
  {
   "cell_type": "code",
   "execution_count": 97,
   "id": "e52d81a1-4e6e-4865-b391-803947d8b25a",
   "metadata": {},
   "outputs": [
    {
     "name": "stdout",
     "output_type": "stream",
     "text": [
      "value of x 1 and value of  shared_var 1\n",
      "value of x 2 and value of  shared_var 2\n",
      "value of x 3 and value of  shared_var 3\n",
      "value of x 4 and value of  shared_var 4\n",
      "value of x 5 and value of  shared_var 5\n",
      "value of x 6 and value of  shared_var 6\n"
     ]
    }
   ],
   "source": [
    "for d4 in dhaga4:\n",
    "    d4.start()"
   ]
  }
 ],
 "metadata": {
  "kernelspec": {
   "display_name": "Python 3 (ipykernel)",
   "language": "python",
   "name": "python3"
  },
  "language_info": {
   "codemirror_mode": {
    "name": "ipython",
    "version": 3
   },
   "file_extension": ".py",
   "mimetype": "text/x-python",
   "name": "python",
   "nbconvert_exporter": "python",
   "pygments_lexer": "ipython3",
   "version": "3.10.8"
  }
 },
 "nbformat": 4,
 "nbformat_minor": 5
}
