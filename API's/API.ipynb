{
 "cells": [
  {
   "attachments": {},
   "cell_type": "markdown",
   "metadata": {},
   "source": [
    "#   Web API : Application Programming Interface"
   ]
  },
  {
   "attachments": {},
   "cell_type": "markdown",
   "metadata": {},
   "source": [
    "APIs are mechanisms that enable two software components to communicate with each other using a set of definitions and protocols(HTTP, TCP , SMTP). For example, the weather bureau's software system contains daily weather data. The weather app on your phone “talks” to this system via APIs and shows you daily weather updates on your phone.\n",
    "\n",
    "An API allows two software applications to interact with each other by sharing data and functionality. An API acts as a mediator between two applications, enabling them to communicate with each other.\n",
    "\n",
    "G-pay interacts with bank application with the help of API(func/code written by bank to check bal,initiating transaction , transaction func).\n",
    "\n",
    "both the system may be implemented in different stacks . To establish the connection bw the two is done by API's as API's are language independent. and they never store data at client server or side but they do the same at backend or at the server side.\n",
    "\n",
    "If I want to run java code with python , it can be done by API's . API's helps us to communicate b./w two systems be them homogenous or heterogenous softwares in terms of stack and language used."
   ]
  },
  {
   "attachments": {},
   "cell_type": "markdown",
   "metadata": {},
   "source": [
    "whenever we search something on google, the same keyword is taken as an input inside the function written at the server side(API) and that func will fetch the result and give it back to the client side.\n",
    "\n",
    "The primary purpose of a Web API is to allow different software systems to access and retrieve data from a remote server. This allows for the creation of interconnected systems, where one system can use data or services provided by another"
   ]
  },
  {
   "attachments": {},
   "cell_type": "markdown",
   "metadata": {},
   "source": [
    "# Diff bw API and web API :\n",
    " A Web API is a set of standards and protocols for accessing web-based software applications or web tools. It provides a way for different software systems to communicate with each other over the internet.\n",
    " \n",
    " API's use protocols such as TCP , SMTP , HTTP etc where as WEB API's use HTTP protocol only."
   ]
  },
  {
   "attachments": {},
   "cell_type": "markdown",
   "metadata": {},
   "source": [
    "# REST v/s SOAP architecture:\n",
    "* REST : Representational state transfer protocol\n",
    "* SOAP : Simple object access protocol\n",
    "\n",
    "1. REST :\n",
    " * A REST API is a type of API that uses Representational State Transfer (REST) principles. REST is a set of architectural principles for designing networked systems, and REST APIs are designed to be lightweight, scalable, and easy to use. They are the most common type of web API and use standard HTTP methods (such as GET, POST, PUT, and DELETE) to interact with data.\n",
    " * REST stands for Representational State Transfer and is a software architecture style for creating scalable web services. RESTful web services use HTTP protocols and return data in the form of JSON or XML. RESTful architecture is designed to be lightweight and easy to use, making it a popular choice for building web-based applications and APIs.\n",
    " * uses HTTP and this http protocol has  methods like PUT, GET ,POST,  DELETE\n",
    " * is simplistic\n",
    " * is scalable\n",
    " * is flexible to work with\n",
    " * comparitively less secure\n",
    "\n",
    "2. SOAP : \n",
    " * A protocol for sending and receiving messages between applications.\n",
    " * SOAP stands for Simple Object Access Protocol and is a protocol for sending and receiving messages between applications. SOAP messages are typically sent over HTTP or other transport protocols and are formatted in XML. SOAP is designed to provide a secure and reliable way for applications to communicate with each other, making it a popular choice for building web-based services.\n",
    " * uses protocols like TCP , SMTP\n",
    " * uses XML , and inside XML the rules and protocols are written in WSDL (web server documentational language).\n",
    " * more secure\n",
    "\n"
   ]
  },
  {
   "attachments": {},
   "cell_type": "markdown",
   "metadata": {},
   "source": [
    "Benefits of using SOAP architecture :\n",
    "* provides a standardized way for applications to communicate with each other."
   ]
  },
  {
   "attachments": {},
   "cell_type": "markdown",
   "metadata": {},
   "source": [
    "# Restful services: \n",
    "also known as restful API's, are web services that use Rest architectural style . REST stands for represtational state transfer  which is a set of principles used for building web services that uses HTTP as the communcication protocol.\n",
    "\n",
    "Restful services are based on the following principles:\n",
    "1. Client-Server architecture:  The client and server are separated , i.e both the client and server evolve independently.\n",
    "2. Stateless: Each request sent to the server contains all teh information required to complete the request. i.e the server does    not maintain any client context between requests.\n",
    "3. Cacheable: Response from the server can be cached to improve performance.\n",
    "4. Uniforom interface:  Restful services use a uniform interface consting of resources like HTTPS verbs(GET, PUT , POST , DELETE )\n",
    "and hypermedia links\n",
    "5. Layered system:  Restful services can be composed of multiple layers like security, scalability ,and flexibility.\n",
    " "
   ]
  }
 ],
 "metadata": {
  "kernelspec": {
   "display_name": "Python 3",
   "language": "python",
   "name": "python3"
  },
  "language_info": {
   "name": "python",
   "version": "3.10.6"
  },
  "orig_nbformat": 4
 },
 "nbformat": 4,
 "nbformat_minor": 2
}
